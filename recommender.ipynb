{
 "cells": [
  {
   "cell_type": "code",
   "execution_count": 61,
   "id": "95b889ae-09a4-4c4c-ad78-744af7e34fdc",
   "metadata": {},
   "outputs": [],
   "source": [
    "import pandas as pd\n",
    "import numpy as np\n",
    "import matplotlib.pyplot as plt\n",
    "\n",
    "\n",
    "from scipy import sparse\n",
    "\n",
    "from sklearn.metrics.pairwise import pairwise_distances, cosine_similarity, cosine_distances\n",
    "from sklearn.preprocessing import StandardScaler"
   ]
  },
  {
   "cell_type": "code",
   "execution_count": 62,
   "id": "cdc96948-7103-468e-ace3-c7994f7d44d5",
   "metadata": {},
   "outputs": [],
   "source": [
    "df = pd.read_csv('datasets/checkpoint2.csv')\n",
    "df.drop(columns=['Unnamed: 0'], inplace=True)"
   ]
  },
  {
   "cell_type": "code",
   "execution_count": 63,
   "id": "8883dc74-86d6-48db-b80f-4003648c3e29",
   "metadata": {},
   "outputs": [
    {
     "data": {
      "text/html": [
       "<div>\n",
       "<style scoped>\n",
       "    .dataframe tbody tr th:only-of-type {\n",
       "        vertical-align: middle;\n",
       "    }\n",
       "\n",
       "    .dataframe tbody tr th {\n",
       "        vertical-align: top;\n",
       "    }\n",
       "\n",
       "    .dataframe thead th {\n",
       "        text-align: right;\n",
       "    }\n",
       "</style>\n",
       "<table border=\"1\" class=\"dataframe\">\n",
       "  <thead>\n",
       "    <tr style=\"text-align: right;\">\n",
       "      <th></th>\n",
       "      <th>track_name</th>\n",
       "      <th>track_id</th>\n",
       "      <th>track_pop</th>\n",
       "      <th>artist_name</th>\n",
       "      <th>featured_artist</th>\n",
       "      <th>album_name</th>\n",
       "      <th>artist_id</th>\n",
       "      <th>danceability</th>\n",
       "      <th>energy</th>\n",
       "      <th>key</th>\n",
       "      <th>loudness</th>\n",
       "      <th>mode</th>\n",
       "      <th>speechiness</th>\n",
       "      <th>acousticness</th>\n",
       "      <th>intrumentalness</th>\n",
       "      <th>valence</th>\n",
       "      <th>tempo</th>\n",
       "      <th>track_lyrics</th>\n",
       "      <th>playlist_name</th>\n",
       "    </tr>\n",
       "  </thead>\n",
       "  <tbody>\n",
       "    <tr>\n",
       "      <th>0</th>\n",
       "      <td>Codeine Dreaming (feat. Lil Wayne)</td>\n",
       "      <td>4DTpngLjoHj5gFxEZFeD3J</td>\n",
       "      <td>66</td>\n",
       "      <td>Kodak Black</td>\n",
       "      <td>Lil Wayne</td>\n",
       "      <td>Project Baby 2: All Grown Up (Deluxe Edition)</td>\n",
       "      <td>46SHBwWsqBkxI7EeeBEQG7</td>\n",
       "      <td>0.736</td>\n",
       "      <td>0.604</td>\n",
       "      <td>1</td>\n",
       "      <td>-7.357</td>\n",
       "      <td>0</td>\n",
       "      <td>0.222</td>\n",
       "      <td>0.0652</td>\n",
       "      <td>0.000064</td>\n",
       "      <td>0.574</td>\n",
       "      <td>155.007</td>\n",
       "      <td>Take that all the way up. I'm about to take of...</td>\n",
       "      <td>Best Hip-Hop Playlist</td>\n",
       "    </tr>\n",
       "    <tr>\n",
       "      <th>1</th>\n",
       "      <td>Bank Account</td>\n",
       "      <td>2fQrGHiQOvpL9UgPvtYy6G</td>\n",
       "      <td>18</td>\n",
       "      <td>21 Savage</td>\n",
       "      <td>None</td>\n",
       "      <td>Issa Album</td>\n",
       "      <td>1URnnhqYAYcrqrcwql10ft</td>\n",
       "      <td>0.884</td>\n",
       "      <td>0.347</td>\n",
       "      <td>8</td>\n",
       "      <td>-8.227</td>\n",
       "      <td>0</td>\n",
       "      <td>0.350</td>\n",
       "      <td>0.0150</td>\n",
       "      <td>0.000007</td>\n",
       "      <td>0.376</td>\n",
       "      <td>75.016</td>\n",
       "      <td>I tear down the mall with the bitch (for real)...</td>\n",
       "      <td>Best Hip-Hop Playlist</td>\n",
       "    </tr>\n",
       "  </tbody>\n",
       "</table>\n",
       "</div>"
      ],
      "text/plain": [
       "                           track_name                track_id  track_pop  \\\n",
       "0  Codeine Dreaming (feat. Lil Wayne)  4DTpngLjoHj5gFxEZFeD3J         66   \n",
       "1                        Bank Account  2fQrGHiQOvpL9UgPvtYy6G         18   \n",
       "\n",
       "   artist_name featured_artist                                     album_name  \\\n",
       "0  Kodak Black       Lil Wayne  Project Baby 2: All Grown Up (Deluxe Edition)   \n",
       "1    21 Savage            None                                     Issa Album   \n",
       "\n",
       "                artist_id  danceability  energy  key  loudness  mode  \\\n",
       "0  46SHBwWsqBkxI7EeeBEQG7         0.736   0.604    1    -7.357     0   \n",
       "1  1URnnhqYAYcrqrcwql10ft         0.884   0.347    8    -8.227     0   \n",
       "\n",
       "   speechiness  acousticness  intrumentalness  valence    tempo  \\\n",
       "0        0.222        0.0652         0.000064    0.574  155.007   \n",
       "1        0.350        0.0150         0.000007    0.376   75.016   \n",
       "\n",
       "                                        track_lyrics          playlist_name  \n",
       "0  Take that all the way up. I'm about to take of...  Best Hip-Hop Playlist  \n",
       "1  I tear down the mall with the bitch (for real)...  Best Hip-Hop Playlist  "
      ]
     },
     "execution_count": 63,
     "metadata": {},
     "output_type": "execute_result"
    }
   ],
   "source": [
    "df.head(2)"
   ]
  },
  {
   "cell_type": "code",
   "execution_count": 64,
   "id": "d5b6d0d6-2ac4-4b92-8f77-050727acbadf",
   "metadata": {},
   "outputs": [
    {
     "data": {
      "text/plain": [
       "(4037, 19)"
      ]
     },
     "execution_count": 64,
     "metadata": {},
     "output_type": "execute_result"
    }
   ],
   "source": [
    "df.shape"
   ]
  },
  {
   "cell_type": "code",
   "execution_count": 100,
   "id": "38f12656-d720-4734-a746-7a932c94da2c",
   "metadata": {},
   "outputs": [],
   "source": [
    "df = df.drop_duplicates(subset = ['track_name'])"
   ]
  },
  {
   "cell_type": "code",
   "execution_count": 101,
   "id": "be2e168a-9417-44a4-a528-9115e14d86a0",
   "metadata": {},
   "outputs": [
    {
     "data": {
      "text/plain": [
       "(3351, 19)"
      ]
     },
     "execution_count": 101,
     "metadata": {},
     "output_type": "execute_result"
    }
   ],
   "source": [
    "df.shape"
   ]
  },
  {
   "cell_type": "markdown",
   "id": "30936750-3239-466e-96e4-d1619cda6634",
   "metadata": {},
   "source": [
    "### Drop unnecessary columns"
   ]
  },
  {
   "cell_type": "code",
   "execution_count": 66,
   "id": "a6c9b591-fa69-40a2-9b60-0369e56e3d3d",
   "metadata": {},
   "outputs": [],
   "source": [
    "data = df.drop(columns=[\n",
    "    'track_id',\n",
    "    'track_pop',\n",
    "    'artist_name', \n",
    "    'featured_artist', \n",
    "    'album_name',\n",
    "    'artist_id',\n",
    "    'intrumentalness',\n",
    "    'track_lyrics',\n",
    "    'playlist_name',\n",
    "])"
   ]
  },
  {
   "cell_type": "code",
   "execution_count": 67,
   "id": "e388bf81-b5af-4783-82f1-256026bdfa7f",
   "metadata": {},
   "outputs": [
    {
     "data": {
      "text/html": [
       "<div>\n",
       "<style scoped>\n",
       "    .dataframe tbody tr th:only-of-type {\n",
       "        vertical-align: middle;\n",
       "    }\n",
       "\n",
       "    .dataframe tbody tr th {\n",
       "        vertical-align: top;\n",
       "    }\n",
       "\n",
       "    .dataframe thead th {\n",
       "        text-align: right;\n",
       "    }\n",
       "</style>\n",
       "<table border=\"1\" class=\"dataframe\">\n",
       "  <thead>\n",
       "    <tr style=\"text-align: right;\">\n",
       "      <th></th>\n",
       "      <th>track_name</th>\n",
       "      <th>danceability</th>\n",
       "      <th>energy</th>\n",
       "      <th>key</th>\n",
       "      <th>loudness</th>\n",
       "      <th>mode</th>\n",
       "      <th>speechiness</th>\n",
       "      <th>acousticness</th>\n",
       "      <th>valence</th>\n",
       "      <th>tempo</th>\n",
       "    </tr>\n",
       "  </thead>\n",
       "  <tbody>\n",
       "    <tr>\n",
       "      <th>0</th>\n",
       "      <td>Codeine Dreaming (feat. Lil Wayne)</td>\n",
       "      <td>0.736</td>\n",
       "      <td>0.604</td>\n",
       "      <td>1</td>\n",
       "      <td>-7.357</td>\n",
       "      <td>0</td>\n",
       "      <td>0.222</td>\n",
       "      <td>0.0652</td>\n",
       "      <td>0.574</td>\n",
       "      <td>155.007</td>\n",
       "    </tr>\n",
       "    <tr>\n",
       "      <th>1</th>\n",
       "      <td>Bank Account</td>\n",
       "      <td>0.884</td>\n",
       "      <td>0.347</td>\n",
       "      <td>8</td>\n",
       "      <td>-8.227</td>\n",
       "      <td>0</td>\n",
       "      <td>0.350</td>\n",
       "      <td>0.0150</td>\n",
       "      <td>0.376</td>\n",
       "      <td>75.016</td>\n",
       "    </tr>\n",
       "  </tbody>\n",
       "</table>\n",
       "</div>"
      ],
      "text/plain": [
       "                           track_name  danceability  energy  key  loudness  \\\n",
       "0  Codeine Dreaming (feat. Lil Wayne)         0.736   0.604    1    -7.357   \n",
       "1                        Bank Account         0.884   0.347    8    -8.227   \n",
       "\n",
       "   mode  speechiness  acousticness  valence    tempo  \n",
       "0     0        0.222        0.0652    0.574  155.007  \n",
       "1     0        0.350        0.0150    0.376   75.016  "
      ]
     },
     "execution_count": 67,
     "metadata": {},
     "output_type": "execute_result"
    }
   ],
   "source": [
    "data.head(2)"
   ]
  },
  {
   "cell_type": "markdown",
   "id": "0084de98-90f7-4d9c-a34f-886c7c2c7b2a",
   "metadata": {},
   "source": [
    "### Need to format the index as the track name for the cosine matrix to work correctly."
   ]
  },
  {
   "cell_type": "code",
   "execution_count": 68,
   "id": "6a6be4c6-d246-4678-88f8-19bf6fb4034c",
   "metadata": {},
   "outputs": [],
   "source": [
    "data.set_index('track_name', inplace=True)\n",
    "#data.set_index('artist_name', inplace=True)"
   ]
  },
  {
   "cell_type": "code",
   "execution_count": null,
   "id": "c44a5282-c547-4768-b209-a23dedb3eabb",
   "metadata": {},
   "outputs": [],
   "source": []
  },
  {
   "cell_type": "code",
   "execution_count": null,
   "id": "56564a4b-da72-4378-b4a0-e464ae844ef4",
   "metadata": {},
   "outputs": [],
   "source": [
    "data.head(2)"
   ]
  },
  {
   "cell_type": "markdown",
   "id": "f790f5ce-2b15-4bbe-a409-0955202fe4de",
   "metadata": {},
   "source": [
    "### Standard scale the audio features before calculating the pairwise distances."
   ]
  },
  {
   "cell_type": "code",
   "execution_count": null,
   "id": "5d319689-7d95-4514-afc9-a5a71f1119c9",
   "metadata": {},
   "outputs": [],
   "source": [
    "ss = StandardScaler()\n",
    "scaled = ss.fit_transform(data)\n",
    "scaled = pd.DataFrame(scaled)"
   ]
  },
  {
   "cell_type": "code",
   "execution_count": null,
   "id": "a8c60f73-ad0d-4a29-b461-8c0a9e075a27",
   "metadata": {},
   "outputs": [],
   "source": [
    "scaled.head(2)"
   ]
  },
  {
   "cell_type": "code",
   "execution_count": null,
   "id": "ebdc6a9e-f7b5-41f8-a909-ebe0080398f6",
   "metadata": {},
   "outputs": [],
   "source": [
    "similairity_matrix = pairwise_distances(scaled, metric='cosine')\n"
   ]
  },
  {
   "cell_type": "code",
   "execution_count": null,
   "id": "ae6c9fe4-78f6-4023-8c2f-648d8d393d14",
   "metadata": {},
   "outputs": [],
   "source": [
    "similairity_matrix"
   ]
  },
  {
   "cell_type": "markdown",
   "id": "a9a2f1d8-5233-4bc2-a26b-34f88fb56677",
   "metadata": {},
   "source": [
    "### Convert similarity matrix back to a Dataframe"
   ]
  },
  {
   "cell_type": "code",
   "execution_count": null,
   "id": "dec256c7-6df8-4935-913e-deef10f20325",
   "metadata": {},
   "outputs": [],
   "source": [
    "recommender_df = pd.DataFrame(\n",
    "    similairity_matrix,\n",
    "    index=data.index,\n",
    "    columns=data.index\n",
    ")\n",
    "\n",
    "recommender_df.head(2)"
   ]
  },
  {
   "cell_type": "code",
   "execution_count": null,
   "id": "3e6fa43c-1fbe-4db0-b5bd-b0cd12dfa1bd",
   "metadata": {},
   "outputs": [],
   "source": [
    "recommender_df.shape"
   ]
  },
  {
   "cell_type": "code",
   "execution_count": null,
   "id": "e4d978c9-7604-4c27-8dc5-ae783777dfa7",
   "metadata": {},
   "outputs": [],
   "source": [
    "recommender_df['Codeine Dreaming (feat. Lil Wayne)'].sort_values(ascending=False).head(10)"
   ]
  },
  {
   "cell_type": "code",
   "execution_count": null,
   "id": "7ebcd4d4-453d-4cdd-8977-0b5639e8f081",
   "metadata": {},
   "outputs": [],
   "source": [
    "recommender_df['Bank Account'].sort_values(ascending=False).head(10)"
   ]
  },
  {
   "cell_type": "code",
   "execution_count": null,
   "id": "a4d9dc70-a896-44ab-b92b-a4b95f8b9177",
   "metadata": {},
   "outputs": [],
   "source": [
    "recommender_df.loc['Bank Account', 'Codeine Dreaming (feat. Lil Wayne)']"
   ]
  },
  {
   "cell_type": "markdown",
   "id": "89ff0641-b0fd-41a6-84b0-cd30c8c20f6c",
   "metadata": {},
   "source": [
    "### Questionaire Development"
   ]
  },
  {
   "cell_type": "code",
   "execution_count": null,
   "id": "b1d80b60-cb91-4d04-a8b0-c832e515674f",
   "metadata": {},
   "outputs": [],
   "source": [
    "data['danceability'].describe()"
   ]
  },
  {
   "cell_type": "code",
   "execution_count": null,
   "id": "55480154-4752-4664-b323-77202c191493",
   "metadata": {},
   "outputs": [],
   "source": [
    "data['acousticness'].describe()"
   ]
  },
  {
   "cell_type": "markdown",
   "id": "6add34f5-86ec-45e1-b76c-d5d5d3b123aa",
   "metadata": {},
   "source": [
    "Going to leave insturmentalness out becuase of the strange ranges."
   ]
  },
  {
   "cell_type": "code",
   "execution_count": null,
   "id": "925cf0e0-6a6f-4617-bd08-d18336d8d264",
   "metadata": {},
   "outputs": [],
   "source": [
    "data['intrumentalness'].describe()"
   ]
  },
  {
   "cell_type": "code",
   "execution_count": null,
   "id": "9039463b-cc06-4a0d-b24b-4d8b6c93bb84",
   "metadata": {},
   "outputs": [],
   "source": [
    "data['acousticness'].sort_values(ascending=False)"
   ]
  },
  {
   "cell_type": "code",
   "execution_count": null,
   "id": "7fddf943-85b2-4d1e-a293-bf5ecf081fe9",
   "metadata": {},
   "outputs": [],
   "source": [
    "data['acousticness'].describe()"
   ]
  },
  {
   "cell_type": "code",
   "execution_count": null,
   "id": "b8afcb0c-7426-4a3a-8dff-7013a0970603",
   "metadata": {},
   "outputs": [],
   "source": [
    "data['tempo'].describe()"
   ]
  },
  {
   "cell_type": "code",
   "execution_count": null,
   "id": "467fe1c8-db84-4a1c-8e27-a67e37cdd06a",
   "metadata": {},
   "outputs": [],
   "source": [
    "data['energy'].describe()\n",
    "\n",
    "data['key'].describe()\n",
    "\n",
    "data['loudness'].describe()"
   ]
  },
  {
   "cell_type": "markdown",
   "id": "bdeab03a-626d-49c4-b9c0-2145b93641be",
   "metadata": {},
   "source": [
    "### Key Characteristics associated by mood \n",
    "https://www.wmich.edu/mus-theo/courses/keys.html"
   ]
  },
  {
   "cell_type": "markdown",
   "id": "a53870dc-7c5b-4e61-ae81-d46a93e63eb6",
   "metadata": {
    "tags": []
   },
   "source": [
    "#### Pitch classes\n",
    "0:  C  <br /> \n",
    "1:  C#, Db <br /> \n",
    "2:  D <br /> \n",
    "3:  D#, Eb <br /> \n",
    "4:  E <br /> \n",
    "5:  F <br /> \n",
    "6:  F#, Gb <br /> \n",
    "7:  G <br /> \n",
    "8:  G#, Ab <br /> \n",
    "9:  A <br /> \n",
    "10:  A#, Bb <br /> \n",
    "11:  B"
   ]
  },
  {
   "cell_type": "code",
   "execution_count": null,
   "id": "04d3a62b-3589-422c-a744-a3fddca6b6d6",
   "metadata": {},
   "outputs": [],
   "source": [
    "data.shape"
   ]
  },
  {
   "cell_type": "markdown",
   "id": "fda025c1-ab81-49fb-b785-5b8a922027c6",
   "metadata": {},
   "source": [
    "### The App will ask the user for input on key characteristics to fit their mood and audio feature levels to include. I will add the values as a new instance at the end of the dataframe so it will represent a track. From there, I can get the top 5 recommended songs."
   ]
  },
  {
   "cell_type": "code",
   "execution_count": 69,
   "id": "39be87e0-88f2-4eab-8f31-5436299c5da4",
   "metadata": {},
   "outputs": [],
   "source": [
    "#danceability\tenergy\tkey\tloudness\tmode\tspeechiness\tacousticness\tintrumentalness\tvalence\ttempo\n",
    "data.loc[len(df.index)+1] = [.8, .2, 0, -10, 1, .4, .2, .8, 60]"
   ]
  },
  {
   "cell_type": "code",
   "execution_count": null,
   "id": "101aa4d0-cb7b-4aa3-a018-535a2cf1c181",
   "metadata": {},
   "outputs": [],
   "source": []
  },
  {
   "cell_type": "code",
   "execution_count": 70,
   "id": "4df801a2-859e-420f-b6fb-42fd371ddf95",
   "metadata": {},
   "outputs": [
    {
     "data": {
      "text/plain": [
       "(4038, 9)"
      ]
     },
     "execution_count": 70,
     "metadata": {},
     "output_type": "execute_result"
    }
   ],
   "source": [
    "data.shape"
   ]
  },
  {
   "cell_type": "code",
   "execution_count": null,
   "id": "cfb8588f-00e7-4393-b606-4ea5a439890c",
   "metadata": {},
   "outputs": [],
   "source": [
    "data.tail(3)"
   ]
  },
  {
   "cell_type": "code",
   "execution_count": 13,
   "id": "bc811b6b-c125-48d2-a6a1-e6282ff2569d",
   "metadata": {},
   "outputs": [],
   "source": [
    "# def scale_songs(data):\n",
    "#     ss = StandardScaler()\n",
    "#     scaled = ss.fit_transform(data)\n",
    "#     scaled = pd.DataFrame(scaled)\n",
    "\n",
    "#     similairity_matrix = pairwise_distances(scaled, metric='cosine')\n",
    "\n",
    "#     recommender_df = pd.DataFrame(\n",
    "#         similairity_matrix,\n",
    "#         index=data.index,\n",
    "#         columns=data.index\n",
    "#     )\n",
    "#     return recommender_df"
   ]
  },
  {
   "cell_type": "code",
   "execution_count": 14,
   "id": "319ab185-4189-447a-b1d2-2bd75d53726b",
   "metadata": {},
   "outputs": [
    {
     "data": {
      "text/html": [
       "<div>\n",
       "<style scoped>\n",
       "    .dataframe tbody tr th:only-of-type {\n",
       "        vertical-align: middle;\n",
       "    }\n",
       "\n",
       "    .dataframe tbody tr th {\n",
       "        vertical-align: top;\n",
       "    }\n",
       "\n",
       "    .dataframe thead th {\n",
       "        text-align: right;\n",
       "    }\n",
       "</style>\n",
       "<table border=\"1\" class=\"dataframe\">\n",
       "  <thead>\n",
       "    <tr style=\"text-align: right;\">\n",
       "      <th>track_name</th>\n",
       "      <th>Codeine Dreaming (feat. Lil Wayne)</th>\n",
       "      <th>Bank Account</th>\n",
       "      <th>PICK IT UP (feat. A$AP Rocky)</th>\n",
       "      <th>Ric Flair Drip (with Metro Boomin)</th>\n",
       "      <th>Roll in Peace (feat. XXXTENTACION)</th>\n",
       "      <th>God's Plan</th>\n",
       "      <th>XO Tour Llif3</th>\n",
       "      <th>Mask Off</th>\n",
       "      <th>Rolex</th>\n",
       "      <th>Look At Me!</th>\n",
       "      <th>...</th>\n",
       "      <th>Run It! (feat. Juelz Santana)</th>\n",
       "      <th>GDFR (feat. Sage the Gemini &amp; Lookas)</th>\n",
       "      <th>Beautiful</th>\n",
       "      <th>X Gon' Give It To Ya</th>\n",
       "      <th>El Chapo</th>\n",
       "      <th>All The Way Up (feat. Infared)</th>\n",
       "      <th>Taste (feat. Offset)</th>\n",
       "      <th>Everybody (Backstreet's Back) - Radio Edit</th>\n",
       "      <th>Black Betty</th>\n",
       "      <th>4038</th>\n",
       "    </tr>\n",
       "    <tr>\n",
       "      <th>track_name</th>\n",
       "      <th></th>\n",
       "      <th></th>\n",
       "      <th></th>\n",
       "      <th></th>\n",
       "      <th></th>\n",
       "      <th></th>\n",
       "      <th></th>\n",
       "      <th></th>\n",
       "      <th></th>\n",
       "      <th></th>\n",
       "      <th></th>\n",
       "      <th></th>\n",
       "      <th></th>\n",
       "      <th></th>\n",
       "      <th></th>\n",
       "      <th></th>\n",
       "      <th></th>\n",
       "      <th></th>\n",
       "      <th></th>\n",
       "      <th></th>\n",
       "      <th></th>\n",
       "    </tr>\n",
       "  </thead>\n",
       "  <tbody>\n",
       "    <tr>\n",
       "      <th>Codeine Dreaming (feat. Lil Wayne)</th>\n",
       "      <td>0.000000</td>\n",
       "      <td>0.913147</td>\n",
       "      <td>0.739443</td>\n",
       "      <td>1.387041e+00</td>\n",
       "      <td>7.164531e-01</td>\n",
       "      <td>1.462009</td>\n",
       "      <td>0.777204</td>\n",
       "      <td>0.592449</td>\n",
       "      <td>0.912290</td>\n",
       "      <td>0.806652</td>\n",
       "      <td>...</td>\n",
       "      <td>0.622477</td>\n",
       "      <td>1.095188</td>\n",
       "      <td>0.575593</td>\n",
       "      <td>1.167715</td>\n",
       "      <td>0.774091</td>\n",
       "      <td>0.767305</td>\n",
       "      <td>0.995447</td>\n",
       "      <td>1.213987</td>\n",
       "      <td>1.149935</td>\n",
       "      <td>9.356407e-01</td>\n",
       "    </tr>\n",
       "    <tr>\n",
       "      <th>Bank Account</th>\n",
       "      <td>0.913147</td>\n",
       "      <td>0.000000</td>\n",
       "      <td>0.758586</td>\n",
       "      <td>2.895565e-01</td>\n",
       "      <td>3.922386e-01</td>\n",
       "      <td>0.382628</td>\n",
       "      <td>0.834757</td>\n",
       "      <td>0.603951</td>\n",
       "      <td>1.618733</td>\n",
       "      <td>1.185679</td>\n",
       "      <td>...</td>\n",
       "      <td>0.373827</td>\n",
       "      <td>1.699566</td>\n",
       "      <td>1.372508</td>\n",
       "      <td>0.793877</td>\n",
       "      <td>1.024890</td>\n",
       "      <td>1.171375</td>\n",
       "      <td>0.708839</td>\n",
       "      <td>0.964992</td>\n",
       "      <td>1.075137</td>\n",
       "      <td>3.783596e-01</td>\n",
       "    </tr>\n",
       "    <tr>\n",
       "      <th>PICK IT UP (feat. A$AP Rocky)</th>\n",
       "      <td>0.739443</td>\n",
       "      <td>0.758586</td>\n",
       "      <td>0.000000</td>\n",
       "      <td>5.179203e-01</td>\n",
       "      <td>9.901108e-01</td>\n",
       "      <td>0.577799</td>\n",
       "      <td>1.271981</td>\n",
       "      <td>0.324178</td>\n",
       "      <td>0.978794</td>\n",
       "      <td>0.596276</td>\n",
       "      <td>...</td>\n",
       "      <td>0.425747</td>\n",
       "      <td>1.181759</td>\n",
       "      <td>1.208861</td>\n",
       "      <td>1.570619</td>\n",
       "      <td>1.528462</td>\n",
       "      <td>1.547824</td>\n",
       "      <td>0.268283</td>\n",
       "      <td>1.536863</td>\n",
       "      <td>1.710099</td>\n",
       "      <td>6.590834e-01</td>\n",
       "    </tr>\n",
       "    <tr>\n",
       "      <th>Ric Flair Drip (with Metro Boomin)</th>\n",
       "      <td>1.387041</td>\n",
       "      <td>0.289556</td>\n",
       "      <td>0.517920</td>\n",
       "      <td>1.110223e-16</td>\n",
       "      <td>6.531295e-01</td>\n",
       "      <td>0.189838</td>\n",
       "      <td>1.055743</td>\n",
       "      <td>0.564839</td>\n",
       "      <td>1.509078</td>\n",
       "      <td>1.021270</td>\n",
       "      <td>...</td>\n",
       "      <td>0.682206</td>\n",
       "      <td>1.527370</td>\n",
       "      <td>1.750654</td>\n",
       "      <td>1.130320</td>\n",
       "      <td>1.450131</td>\n",
       "      <td>1.442127</td>\n",
       "      <td>0.622108</td>\n",
       "      <td>1.202821</td>\n",
       "      <td>1.338177</td>\n",
       "      <td>4.712461e-01</td>\n",
       "    </tr>\n",
       "    <tr>\n",
       "      <th>Roll in Peace (feat. XXXTENTACION)</th>\n",
       "      <td>0.716453</td>\n",
       "      <td>0.392239</td>\n",
       "      <td>0.990111</td>\n",
       "      <td>6.531295e-01</td>\n",
       "      <td>1.110223e-16</td>\n",
       "      <td>0.942367</td>\n",
       "      <td>0.187399</td>\n",
       "      <td>0.703206</td>\n",
       "      <td>1.554454</td>\n",
       "      <td>1.326186</td>\n",
       "      <td>...</td>\n",
       "      <td>0.712425</td>\n",
       "      <td>1.383067</td>\n",
       "      <td>1.316806</td>\n",
       "      <td>0.756855</td>\n",
       "      <td>0.809322</td>\n",
       "      <td>0.499075</td>\n",
       "      <td>1.326464</td>\n",
       "      <td>0.766045</td>\n",
       "      <td>0.802436</td>\n",
       "      <td>1.096402e+00</td>\n",
       "    </tr>\n",
       "    <tr>\n",
       "      <th>...</th>\n",
       "      <td>...</td>\n",
       "      <td>...</td>\n",
       "      <td>...</td>\n",
       "      <td>...</td>\n",
       "      <td>...</td>\n",
       "      <td>...</td>\n",
       "      <td>...</td>\n",
       "      <td>...</td>\n",
       "      <td>...</td>\n",
       "      <td>...</td>\n",
       "      <td>...</td>\n",
       "      <td>...</td>\n",
       "      <td>...</td>\n",
       "      <td>...</td>\n",
       "      <td>...</td>\n",
       "      <td>...</td>\n",
       "      <td>...</td>\n",
       "      <td>...</td>\n",
       "      <td>...</td>\n",
       "      <td>...</td>\n",
       "      <td>...</td>\n",
       "    </tr>\n",
       "    <tr>\n",
       "      <th>All The Way Up (feat. Infared)</th>\n",
       "      <td>0.767305</td>\n",
       "      <td>1.171375</td>\n",
       "      <td>1.547824</td>\n",
       "      <td>1.442127e+00</td>\n",
       "      <td>4.990755e-01</td>\n",
       "      <td>1.614060</td>\n",
       "      <td>0.261799</td>\n",
       "      <td>1.001292</td>\n",
       "      <td>1.117439</td>\n",
       "      <td>1.062346</td>\n",
       "      <td>...</td>\n",
       "      <td>1.345706</td>\n",
       "      <td>0.790903</td>\n",
       "      <td>0.919289</td>\n",
       "      <td>0.719510</td>\n",
       "      <td>0.486184</td>\n",
       "      <td>0.000000</td>\n",
       "      <td>1.671223</td>\n",
       "      <td>0.778476</td>\n",
       "      <td>0.569633</td>\n",
       "      <td>1.540322e+00</td>\n",
       "    </tr>\n",
       "    <tr>\n",
       "      <th>Taste (feat. Offset)</th>\n",
       "      <td>0.995447</td>\n",
       "      <td>0.708839</td>\n",
       "      <td>0.268283</td>\n",
       "      <td>6.221080e-01</td>\n",
       "      <td>1.326464e+00</td>\n",
       "      <td>0.501220</td>\n",
       "      <td>1.535573</td>\n",
       "      <td>0.592762</td>\n",
       "      <td>0.769824</td>\n",
       "      <td>0.545824</td>\n",
       "      <td>...</td>\n",
       "      <td>0.371979</td>\n",
       "      <td>1.063893</td>\n",
       "      <td>0.902700</td>\n",
       "      <td>1.159174</td>\n",
       "      <td>1.207218</td>\n",
       "      <td>1.671223</td>\n",
       "      <td>0.000000</td>\n",
       "      <td>1.275994</td>\n",
       "      <td>1.661400</td>\n",
       "      <td>5.145645e-01</td>\n",
       "    </tr>\n",
       "    <tr>\n",
       "      <th>Everybody (Backstreet's Back) - Radio Edit</th>\n",
       "      <td>1.213987</td>\n",
       "      <td>0.964992</td>\n",
       "      <td>1.536863</td>\n",
       "      <td>1.202821e+00</td>\n",
       "      <td>7.660448e-01</td>\n",
       "      <td>1.118522</td>\n",
       "      <td>0.516085</td>\n",
       "      <td>1.720456</td>\n",
       "      <td>0.785874</td>\n",
       "      <td>1.639932</td>\n",
       "      <td>...</td>\n",
       "      <td>1.025085</td>\n",
       "      <td>0.692816</td>\n",
       "      <td>0.575667</td>\n",
       "      <td>0.100729</td>\n",
       "      <td>0.378204</td>\n",
       "      <td>0.778476</td>\n",
       "      <td>1.275994</td>\n",
       "      <td>0.000000</td>\n",
       "      <td>0.420942</td>\n",
       "      <td>1.491786e+00</td>\n",
       "    </tr>\n",
       "    <tr>\n",
       "      <th>Black Betty</th>\n",
       "      <td>1.149935</td>\n",
       "      <td>1.075137</td>\n",
       "      <td>1.710099</td>\n",
       "      <td>1.338177e+00</td>\n",
       "      <td>8.024364e-01</td>\n",
       "      <td>1.088875</td>\n",
       "      <td>0.556643</td>\n",
       "      <td>1.575493</td>\n",
       "      <td>1.260671</td>\n",
       "      <td>1.716041</td>\n",
       "      <td>...</td>\n",
       "      <td>1.361457</td>\n",
       "      <td>0.923113</td>\n",
       "      <td>0.926014</td>\n",
       "      <td>0.536079</td>\n",
       "      <td>0.774954</td>\n",
       "      <td>0.569633</td>\n",
       "      <td>1.661400</td>\n",
       "      <td>0.420942</td>\n",
       "      <td>0.000000</td>\n",
       "      <td>1.373927e+00</td>\n",
       "    </tr>\n",
       "    <tr>\n",
       "      <th>4038</th>\n",
       "      <td>0.935641</td>\n",
       "      <td>0.378360</td>\n",
       "      <td>0.659083</td>\n",
       "      <td>4.712461e-01</td>\n",
       "      <td>1.096402e+00</td>\n",
       "      <td>0.419155</td>\n",
       "      <td>1.554742</td>\n",
       "      <td>0.535876</td>\n",
       "      <td>1.299494</td>\n",
       "      <td>0.861628</td>\n",
       "      <td>...</td>\n",
       "      <td>0.667581</td>\n",
       "      <td>1.499909</td>\n",
       "      <td>1.369880</td>\n",
       "      <td>1.253836</td>\n",
       "      <td>1.374962</td>\n",
       "      <td>1.540322</td>\n",
       "      <td>0.514565</td>\n",
       "      <td>1.491786</td>\n",
       "      <td>1.373927</td>\n",
       "      <td>2.220446e-16</td>\n",
       "    </tr>\n",
       "  </tbody>\n",
       "</table>\n",
       "<p>4038 rows × 4038 columns</p>\n",
       "</div>"
      ],
      "text/plain": [
       "track_name                                  Codeine Dreaming (feat. Lil Wayne)  \\\n",
       "track_name                                                                       \n",
       "Codeine Dreaming (feat. Lil Wayne)                                    0.000000   \n",
       "Bank Account                                                          0.913147   \n",
       "PICK IT UP (feat. A$AP Rocky)                                         0.739443   \n",
       "Ric Flair Drip (with Metro Boomin)                                    1.387041   \n",
       "Roll in Peace (feat. XXXTENTACION)                                    0.716453   \n",
       "...                                                                        ...   \n",
       "All The Way Up (feat. Infared)                                        0.767305   \n",
       "Taste (feat. Offset)                                                  0.995447   \n",
       "Everybody (Backstreet's Back) - Radio Edit                            1.213987   \n",
       "Black Betty                                                           1.149935   \n",
       "4038                                                                  0.935641   \n",
       "\n",
       "track_name                                  Bank Account  \\\n",
       "track_name                                                 \n",
       "Codeine Dreaming (feat. Lil Wayne)              0.913147   \n",
       "Bank Account                                    0.000000   \n",
       "PICK IT UP (feat. A$AP Rocky)                   0.758586   \n",
       "Ric Flair Drip (with Metro Boomin)              0.289556   \n",
       "Roll in Peace (feat. XXXTENTACION)              0.392239   \n",
       "...                                                  ...   \n",
       "All The Way Up (feat. Infared)                  1.171375   \n",
       "Taste (feat. Offset)                            0.708839   \n",
       "Everybody (Backstreet's Back) - Radio Edit      0.964992   \n",
       "Black Betty                                     1.075137   \n",
       "4038                                            0.378360   \n",
       "\n",
       "track_name                                  PICK IT UP (feat. A$AP Rocky)  \\\n",
       "track_name                                                                  \n",
       "Codeine Dreaming (feat. Lil Wayne)                               0.739443   \n",
       "Bank Account                                                     0.758586   \n",
       "PICK IT UP (feat. A$AP Rocky)                                    0.000000   \n",
       "Ric Flair Drip (with Metro Boomin)                               0.517920   \n",
       "Roll in Peace (feat. XXXTENTACION)                               0.990111   \n",
       "...                                                                   ...   \n",
       "All The Way Up (feat. Infared)                                   1.547824   \n",
       "Taste (feat. Offset)                                             0.268283   \n",
       "Everybody (Backstreet's Back) - Radio Edit                       1.536863   \n",
       "Black Betty                                                      1.710099   \n",
       "4038                                                             0.659083   \n",
       "\n",
       "track_name                                  Ric Flair Drip (with Metro Boomin)  \\\n",
       "track_name                                                                       \n",
       "Codeine Dreaming (feat. Lil Wayne)                                1.387041e+00   \n",
       "Bank Account                                                      2.895565e-01   \n",
       "PICK IT UP (feat. A$AP Rocky)                                     5.179203e-01   \n",
       "Ric Flair Drip (with Metro Boomin)                                1.110223e-16   \n",
       "Roll in Peace (feat. XXXTENTACION)                                6.531295e-01   \n",
       "...                                                                        ...   \n",
       "All The Way Up (feat. Infared)                                    1.442127e+00   \n",
       "Taste (feat. Offset)                                              6.221080e-01   \n",
       "Everybody (Backstreet's Back) - Radio Edit                        1.202821e+00   \n",
       "Black Betty                                                       1.338177e+00   \n",
       "4038                                                              4.712461e-01   \n",
       "\n",
       "track_name                                  Roll in Peace (feat. XXXTENTACION)  \\\n",
       "track_name                                                                       \n",
       "Codeine Dreaming (feat. Lil Wayne)                                7.164531e-01   \n",
       "Bank Account                                                      3.922386e-01   \n",
       "PICK IT UP (feat. A$AP Rocky)                                     9.901108e-01   \n",
       "Ric Flair Drip (with Metro Boomin)                                6.531295e-01   \n",
       "Roll in Peace (feat. XXXTENTACION)                                1.110223e-16   \n",
       "...                                                                        ...   \n",
       "All The Way Up (feat. Infared)                                    4.990755e-01   \n",
       "Taste (feat. Offset)                                              1.326464e+00   \n",
       "Everybody (Backstreet's Back) - Radio Edit                        7.660448e-01   \n",
       "Black Betty                                                       8.024364e-01   \n",
       "4038                                                              1.096402e+00   \n",
       "\n",
       "track_name                                  God's Plan  XO Tour Llif3  \\\n",
       "track_name                                                              \n",
       "Codeine Dreaming (feat. Lil Wayne)            1.462009       0.777204   \n",
       "Bank Account                                  0.382628       0.834757   \n",
       "PICK IT UP (feat. A$AP Rocky)                 0.577799       1.271981   \n",
       "Ric Flair Drip (with Metro Boomin)            0.189838       1.055743   \n",
       "Roll in Peace (feat. XXXTENTACION)            0.942367       0.187399   \n",
       "...                                                ...            ...   \n",
       "All The Way Up (feat. Infared)                1.614060       0.261799   \n",
       "Taste (feat. Offset)                          0.501220       1.535573   \n",
       "Everybody (Backstreet's Back) - Radio Edit    1.118522       0.516085   \n",
       "Black Betty                                   1.088875       0.556643   \n",
       "4038                                          0.419155       1.554742   \n",
       "\n",
       "track_name                                  Mask Off     Rolex  Look At Me!  \\\n",
       "track_name                                                                    \n",
       "Codeine Dreaming (feat. Lil Wayne)          0.592449  0.912290     0.806652   \n",
       "Bank Account                                0.603951  1.618733     1.185679   \n",
       "PICK IT UP (feat. A$AP Rocky)               0.324178  0.978794     0.596276   \n",
       "Ric Flair Drip (with Metro Boomin)          0.564839  1.509078     1.021270   \n",
       "Roll in Peace (feat. XXXTENTACION)          0.703206  1.554454     1.326186   \n",
       "...                                              ...       ...          ...   \n",
       "All The Way Up (feat. Infared)              1.001292  1.117439     1.062346   \n",
       "Taste (feat. Offset)                        0.592762  0.769824     0.545824   \n",
       "Everybody (Backstreet's Back) - Radio Edit  1.720456  0.785874     1.639932   \n",
       "Black Betty                                 1.575493  1.260671     1.716041   \n",
       "4038                                        0.535876  1.299494     0.861628   \n",
       "\n",
       "track_name                                  ...  \\\n",
       "track_name                                  ...   \n",
       "Codeine Dreaming (feat. Lil Wayne)          ...   \n",
       "Bank Account                                ...   \n",
       "PICK IT UP (feat. A$AP Rocky)               ...   \n",
       "Ric Flair Drip (with Metro Boomin)          ...   \n",
       "Roll in Peace (feat. XXXTENTACION)          ...   \n",
       "...                                         ...   \n",
       "All The Way Up (feat. Infared)              ...   \n",
       "Taste (feat. Offset)                        ...   \n",
       "Everybody (Backstreet's Back) - Radio Edit  ...   \n",
       "Black Betty                                 ...   \n",
       "4038                                        ...   \n",
       "\n",
       "track_name                                  Run It! (feat. Juelz Santana)  \\\n",
       "track_name                                                                  \n",
       "Codeine Dreaming (feat. Lil Wayne)                               0.622477   \n",
       "Bank Account                                                     0.373827   \n",
       "PICK IT UP (feat. A$AP Rocky)                                    0.425747   \n",
       "Ric Flair Drip (with Metro Boomin)                               0.682206   \n",
       "Roll in Peace (feat. XXXTENTACION)                               0.712425   \n",
       "...                                                                   ...   \n",
       "All The Way Up (feat. Infared)                                   1.345706   \n",
       "Taste (feat. Offset)                                             0.371979   \n",
       "Everybody (Backstreet's Back) - Radio Edit                       1.025085   \n",
       "Black Betty                                                      1.361457   \n",
       "4038                                                             0.667581   \n",
       "\n",
       "track_name                                  GDFR (feat. Sage the Gemini & Lookas)  \\\n",
       "track_name                                                                          \n",
       "Codeine Dreaming (feat. Lil Wayne)                                       1.095188   \n",
       "Bank Account                                                             1.699566   \n",
       "PICK IT UP (feat. A$AP Rocky)                                            1.181759   \n",
       "Ric Flair Drip (with Metro Boomin)                                       1.527370   \n",
       "Roll in Peace (feat. XXXTENTACION)                                       1.383067   \n",
       "...                                                                           ...   \n",
       "All The Way Up (feat. Infared)                                           0.790903   \n",
       "Taste (feat. Offset)                                                     1.063893   \n",
       "Everybody (Backstreet's Back) - Radio Edit                               0.692816   \n",
       "Black Betty                                                              0.923113   \n",
       "4038                                                                     1.499909   \n",
       "\n",
       "track_name                                  Beautiful  X Gon' Give It To Ya  \\\n",
       "track_name                                                                    \n",
       "Codeine Dreaming (feat. Lil Wayne)           0.575593              1.167715   \n",
       "Bank Account                                 1.372508              0.793877   \n",
       "PICK IT UP (feat. A$AP Rocky)                1.208861              1.570619   \n",
       "Ric Flair Drip (with Metro Boomin)           1.750654              1.130320   \n",
       "Roll in Peace (feat. XXXTENTACION)           1.316806              0.756855   \n",
       "...                                               ...                   ...   \n",
       "All The Way Up (feat. Infared)               0.919289              0.719510   \n",
       "Taste (feat. Offset)                         0.902700              1.159174   \n",
       "Everybody (Backstreet's Back) - Radio Edit   0.575667              0.100729   \n",
       "Black Betty                                  0.926014              0.536079   \n",
       "4038                                         1.369880              1.253836   \n",
       "\n",
       "track_name                                  El Chapo  \\\n",
       "track_name                                             \n",
       "Codeine Dreaming (feat. Lil Wayne)          0.774091   \n",
       "Bank Account                                1.024890   \n",
       "PICK IT UP (feat. A$AP Rocky)               1.528462   \n",
       "Ric Flair Drip (with Metro Boomin)          1.450131   \n",
       "Roll in Peace (feat. XXXTENTACION)          0.809322   \n",
       "...                                              ...   \n",
       "All The Way Up (feat. Infared)              0.486184   \n",
       "Taste (feat. Offset)                        1.207218   \n",
       "Everybody (Backstreet's Back) - Radio Edit  0.378204   \n",
       "Black Betty                                 0.774954   \n",
       "4038                                        1.374962   \n",
       "\n",
       "track_name                                  All The Way Up (feat. Infared)  \\\n",
       "track_name                                                                   \n",
       "Codeine Dreaming (feat. Lil Wayne)                                0.767305   \n",
       "Bank Account                                                      1.171375   \n",
       "PICK IT UP (feat. A$AP Rocky)                                     1.547824   \n",
       "Ric Flair Drip (with Metro Boomin)                                1.442127   \n",
       "Roll in Peace (feat. XXXTENTACION)                                0.499075   \n",
       "...                                                                    ...   \n",
       "All The Way Up (feat. Infared)                                    0.000000   \n",
       "Taste (feat. Offset)                                              1.671223   \n",
       "Everybody (Backstreet's Back) - Radio Edit                        0.778476   \n",
       "Black Betty                                                       0.569633   \n",
       "4038                                                              1.540322   \n",
       "\n",
       "track_name                                  Taste (feat. Offset)  \\\n",
       "track_name                                                         \n",
       "Codeine Dreaming (feat. Lil Wayne)                      0.995447   \n",
       "Bank Account                                            0.708839   \n",
       "PICK IT UP (feat. A$AP Rocky)                           0.268283   \n",
       "Ric Flair Drip (with Metro Boomin)                      0.622108   \n",
       "Roll in Peace (feat. XXXTENTACION)                      1.326464   \n",
       "...                                                          ...   \n",
       "All The Way Up (feat. Infared)                          1.671223   \n",
       "Taste (feat. Offset)                                    0.000000   \n",
       "Everybody (Backstreet's Back) - Radio Edit              1.275994   \n",
       "Black Betty                                             1.661400   \n",
       "4038                                                    0.514565   \n",
       "\n",
       "track_name                                  Everybody (Backstreet's Back) - Radio Edit  \\\n",
       "track_name                                                                               \n",
       "Codeine Dreaming (feat. Lil Wayne)                                            1.213987   \n",
       "Bank Account                                                                  0.964992   \n",
       "PICK IT UP (feat. A$AP Rocky)                                                 1.536863   \n",
       "Ric Flair Drip (with Metro Boomin)                                            1.202821   \n",
       "Roll in Peace (feat. XXXTENTACION)                                            0.766045   \n",
       "...                                                                                ...   \n",
       "All The Way Up (feat. Infared)                                                0.778476   \n",
       "Taste (feat. Offset)                                                          1.275994   \n",
       "Everybody (Backstreet's Back) - Radio Edit                                    0.000000   \n",
       "Black Betty                                                                   0.420942   \n",
       "4038                                                                          1.491786   \n",
       "\n",
       "track_name                                  Black Betty          4038  \n",
       "track_name                                                             \n",
       "Codeine Dreaming (feat. Lil Wayne)             1.149935  9.356407e-01  \n",
       "Bank Account                                   1.075137  3.783596e-01  \n",
       "PICK IT UP (feat. A$AP Rocky)                  1.710099  6.590834e-01  \n",
       "Ric Flair Drip (with Metro Boomin)             1.338177  4.712461e-01  \n",
       "Roll in Peace (feat. XXXTENTACION)             0.802436  1.096402e+00  \n",
       "...                                                 ...           ...  \n",
       "All The Way Up (feat. Infared)                 0.569633  1.540322e+00  \n",
       "Taste (feat. Offset)                           1.661400  5.145645e-01  \n",
       "Everybody (Backstreet's Back) - Radio Edit     0.420942  1.491786e+00  \n",
       "Black Betty                                    0.000000  1.373927e+00  \n",
       "4038                                           1.373927  2.220446e-16  \n",
       "\n",
       "[4038 rows x 4038 columns]"
      ]
     },
     "execution_count": 14,
     "metadata": {},
     "output_type": "execute_result"
    }
   ],
   "source": [
    "scale_songs(data)"
   ]
  },
  {
   "cell_type": "code",
   "execution_count": 15,
   "id": "a71a07c5-c73e-4389-b789-08a63c28303d",
   "metadata": {},
   "outputs": [
    {
     "ename": "NameError",
     "evalue": "name 'recommender_df' is not defined",
     "output_type": "error",
     "traceback": [
      "\u001b[1;31m---------------------------------------------------------------------------\u001b[0m",
      "\u001b[1;31mNameError\u001b[0m                                 Traceback (most recent call last)",
      "Input \u001b[1;32mIn [15]\u001b[0m, in \u001b[0;36m<cell line: 1>\u001b[1;34m()\u001b[0m\n\u001b[1;32m----> 1\u001b[0m \u001b[43mrecommender_df\u001b[49m\u001b[38;5;241m.\u001b[39mloc[\u001b[38;5;241m4038\u001b[39m]\u001b[38;5;241m.\u001b[39msort_values(ascending\u001b[38;5;241m=\u001b[39m\u001b[38;5;28;01mFalse\u001b[39;00m)\u001b[38;5;241m.\u001b[39mhead(\u001b[38;5;241m10\u001b[39m)\n",
      "\u001b[1;31mNameError\u001b[0m: name 'recommender_df' is not defined"
     ]
    }
   ],
   "source": [
    "recommender_df.loc[4038].sort_values(ascending=False).head(10)"
   ]
  },
  {
   "cell_type": "code",
   "execution_count": 12,
   "id": "a9ce77de-e69d-4380-aeda-bf88ddcb9ad5",
   "metadata": {},
   "outputs": [
    {
     "ename": "NameError",
     "evalue": "name 'recommender_df' is not defined",
     "output_type": "error",
     "traceback": [
      "\u001b[1;31m---------------------------------------------------------------------------\u001b[0m",
      "\u001b[1;31mNameError\u001b[0m                                 Traceback (most recent call last)",
      "Input \u001b[1;32mIn [12]\u001b[0m, in \u001b[0;36m<cell line: 1>\u001b[1;34m()\u001b[0m\n\u001b[1;32m----> 1\u001b[0m \u001b[43mrecommender_df\u001b[49m\n",
      "\u001b[1;31mNameError\u001b[0m: name 'recommender_df' is not defined"
     ]
    }
   ],
   "source": []
  },
  {
   "cell_type": "code",
   "execution_count": null,
   "id": "86233f11-f833-4218-a7fb-b5c188951e08",
   "metadata": {},
   "outputs": [],
   "source": [
    "df[recommender_df.loc[4038][0]]"
   ]
  },
  {
   "cell_type": "code",
   "execution_count": 71,
   "id": "fda18003-0733-420a-aee1-07b7ce915dff",
   "metadata": {},
   "outputs": [],
   "source": [
    "ss = StandardScaler()\n",
    "scaled = ss.fit_transform(data)\n",
    "scaled = pd.DataFrame(scaled)\n",
    "\n",
    "similairity_matrix = pairwise_distances(scaled, metric='cosine')\n",
    "\n",
    "recommender_df = pd.DataFrame(\n",
    "    similairity_matrix,\n",
    "    index=data.index,\n",
    "    columns=data.index\n",
    ")"
   ]
  },
  {
   "cell_type": "code",
   "execution_count": 17,
   "id": "ea51ab62-bbd0-4555-8fa9-749faf1f706c",
   "metadata": {
    "tags": []
   },
   "outputs": [
    {
     "data": {
      "text/plain": [
       "track_name\n",
       "2019                              1.843000\n",
       "Vibes                             1.830097\n",
       "Sex on Fire                       1.815258\n",
       "Looking                           1.807481\n",
       "HELL BENT (with The Kid LAROI)    1.806494\n",
       "Name: 4038, dtype: float64"
      ]
     },
     "execution_count": 17,
     "metadata": {},
     "output_type": "execute_result"
    }
   ],
   "source": [
    "recommender_df.loc[4038].sort_values(ascending=False).head(5)"
   ]
  },
  {
   "cell_type": "code",
   "execution_count": 72,
   "id": "9e2796eb-d23b-4ae1-97af-22379a6943eb",
   "metadata": {},
   "outputs": [
    {
     "data": {
      "text/plain": [
       "track_name\n",
       "2019                              1.843000e+00\n",
       "Vibes                             1.830097e+00\n",
       "Sex on Fire                       1.815258e+00\n",
       "Looking                           1.807481e+00\n",
       "HELL BENT (with The Kid LAROI)    1.806494e+00\n",
       "                                      ...     \n",
       "Overdrive                         1.266563e-01\n",
       "Deadly Combination                1.199891e-01\n",
       "LOT OF ME                         8.671492e-02\n",
       "Through Da Storm                  7.833390e-02\n",
       "4038                              2.220446e-16\n",
       "Name: 4038, Length: 4038, dtype: float64"
      ]
     },
     "execution_count": 72,
     "metadata": {},
     "output_type": "execute_result"
    }
   ],
   "source": [
    "recommender_df[len(data)].sort_values(ascending=False)"
   ]
  },
  {
   "cell_type": "code",
   "execution_count": 18,
   "id": "54a4fb63-cd55-4907-b7c8-76804732852e",
   "metadata": {},
   "outputs": [],
   "source": [
    "rec_songs = recommender_df[len(data)].sort_values(ascending=False)"
   ]
  },
  {
   "cell_type": "code",
   "execution_count": 85,
   "id": "88f79d6d-b3c5-4035-b6db-563c29daa7d3",
   "metadata": {},
   "outputs": [
    {
     "data": {
      "text/plain": [
       "'2019'"
      ]
     },
     "execution_count": 85,
     "metadata": {},
     "output_type": "execute_result"
    }
   ],
   "source": [
    "rec_songs.index[0]"
   ]
  },
  {
   "cell_type": "code",
   "execution_count": 37,
   "id": "aaa2cfb8-ac90-42fd-b136-e99bb7657cc9",
   "metadata": {},
   "outputs": [
    {
     "data": {
      "text/plain": [
       "Index(['2019', 'Vibes', 'Sex on Fire', 'Looking',\n",
       "       'HELL BENT (with The Kid LAROI)'],\n",
       "      dtype='object', name='track_name')"
      ]
     },
     "execution_count": 37,
     "metadata": {},
     "output_type": "execute_result"
    }
   ],
   "source": [
    "rec_songs.index[:5]"
   ]
  },
  {
   "cell_type": "markdown",
   "id": "6a2bcbe2-686f-4b33-a6d0-a09c4b939269",
   "metadata": {},
   "source": [
    "### Testing how to return a data frame that includes the artist name within the app"
   ]
  },
  {
   "cell_type": "code",
   "execution_count": 92,
   "id": "0e5fbf13-1461-4d87-8493-c4d55d963ca7",
   "metadata": {},
   "outputs": [
    {
     "name": "stdout",
     "output_type": "stream",
     "text": [
      "    track_name artist_name\n",
      "821       2019     Bazanji\n",
      "     track_name   artist_name\n",
      "1778      Vibes  Trippie Redd\n",
      "       track_name    artist_name\n",
      "3490  Sex on Fire  Kings of Leon\n",
      "    track_name artist_name\n",
      "334    Looking     On Froy\n",
      "                          track_name      artist_name\n",
      "1512  HELL BENT (with The Kid LAROI)  TOKYO’S REVENGE\n"
     ]
    }
   ],
   "source": [
    "\n",
    "for i in range(0,5):\n",
    "    print(df[df['track_name'] == rec_songs.index[i]][['track_name', 'artist_name']])"
   ]
  },
  {
   "cell_type": "code",
   "execution_count": 95,
   "id": "ecd3d349-24bf-49b3-8c0f-04715efd3a1b",
   "metadata": {},
   "outputs": [],
   "source": [
    "d2 = pd.DataFrame({'track_name': [rec_songs.index[0],\n",
    "                                 rec_songs.index[1],\n",
    "                                 rec_songs.index[2],\n",
    "                                 rec_songs.index[3],\n",
    "                                 rec_songs.index[4]],\n",
    "                  'arist_name': [df[df['track_name'] == rec_songs.index[0]][['artist_name']].iloc[0][0],\n",
    "                                df[df['track_name'] == rec_songs.index[1]][['artist_name']].iloc[0][0],\n",
    "                                 df[df['track_name'] == rec_songs.index[2]][['artist_name']].iloc[0][0],\n",
    "                                df[df['track_name'] == rec_songs.index[3]][['artist_name']].iloc[0][0],\n",
    "                                df[df['track_name'] == rec_songs.index[4]][['artist_name']].iloc[0][0]]})"
   ]
  },
  {
   "cell_type": "code",
   "execution_count": 97,
   "id": "570e0f16-fe4f-496d-a7e5-fffa269e83db",
   "metadata": {},
   "outputs": [
    {
     "data": {
      "text/html": [
       "<div>\n",
       "<style scoped>\n",
       "    .dataframe tbody tr th:only-of-type {\n",
       "        vertical-align: middle;\n",
       "    }\n",
       "\n",
       "    .dataframe tbody tr th {\n",
       "        vertical-align: top;\n",
       "    }\n",
       "\n",
       "    .dataframe thead th {\n",
       "        text-align: right;\n",
       "    }\n",
       "</style>\n",
       "<table border=\"1\" class=\"dataframe\">\n",
       "  <thead>\n",
       "    <tr style=\"text-align: right;\">\n",
       "      <th></th>\n",
       "      <th>track_name</th>\n",
       "      <th>arist_name</th>\n",
       "    </tr>\n",
       "  </thead>\n",
       "  <tbody>\n",
       "    <tr>\n",
       "      <th>0</th>\n",
       "      <td>2019</td>\n",
       "      <td>Bazanji</td>\n",
       "    </tr>\n",
       "    <tr>\n",
       "      <th>1</th>\n",
       "      <td>Vibes</td>\n",
       "      <td>Trippie Redd</td>\n",
       "    </tr>\n",
       "    <tr>\n",
       "      <th>2</th>\n",
       "      <td>Sex on Fire</td>\n",
       "      <td>Kings of Leon</td>\n",
       "    </tr>\n",
       "    <tr>\n",
       "      <th>3</th>\n",
       "      <td>Looking</td>\n",
       "      <td>On Froy</td>\n",
       "    </tr>\n",
       "    <tr>\n",
       "      <th>4</th>\n",
       "      <td>HELL BENT (with The Kid LAROI)</td>\n",
       "      <td>TOKYO’S REVENGE</td>\n",
       "    </tr>\n",
       "  </tbody>\n",
       "</table>\n",
       "</div>"
      ],
      "text/plain": [
       "                       track_name       arist_name\n",
       "0                            2019          Bazanji\n",
       "1                           Vibes     Trippie Redd\n",
       "2                     Sex on Fire    Kings of Leon\n",
       "3                         Looking          On Froy\n",
       "4  HELL BENT (with The Kid LAROI)  TOKYO’S REVENGE"
      ]
     },
     "execution_count": 97,
     "metadata": {},
     "output_type": "execute_result"
    }
   ],
   "source": [
    "d2"
   ]
  },
  {
   "cell_type": "code",
   "execution_count": 55,
   "id": "8917b47d-f250-421b-81e7-872a7e7dd61b",
   "metadata": {},
   "outputs": [
    {
     "data": {
      "text/plain": [
       "track_name     HELL BENT (with The Kid LAROI)\n",
       "artist_name                   TOKYO’S REVENGE\n",
       "Name: 1512, dtype: object"
      ]
     },
     "execution_count": 55,
     "metadata": {},
     "output_type": "execute_result"
    }
   ],
   "source": [
    "df[df['track_name'] == rec_songs.index[i]][['track_name', 'artist_name']].iloc[0]"
   ]
  },
  {
   "cell_type": "code",
   "execution_count": 91,
   "id": "2881dd31-7483-43a1-8982-8aa1d72f5891",
   "metadata": {},
   "outputs": [
    {
     "data": {
      "text/plain": [
       "'Bazanji'"
      ]
     },
     "execution_count": 91,
     "metadata": {},
     "output_type": "execute_result"
    }
   ],
   "source": [
    "df[df['track_name'] == rec_songs.index[0]][['artist_name']].iloc[0][0]"
   ]
  },
  {
   "cell_type": "code",
   "execution_count": null,
   "id": "02a02d5c-c812-4ab9-afcc-3ab8d78e8cbd",
   "metadata": {},
   "outputs": [],
   "source": [
    "#custom_ss = ss.fit_transform(recommender_df.loc[4038])\n",
    "#custom_ss"
   ]
  },
  {
   "cell_type": "code",
   "execution_count": null,
   "id": "8bd9e165-ee35-4472-a86c-8f8d29756911",
   "metadata": {},
   "outputs": [],
   "source": [
    "df[df['track_name']== \"Rebirth (2016)\"]"
   ]
  },
  {
   "cell_type": "code",
   "execution_count": null,
   "id": "f86af372-5f67-4016-be15-324633b9244a",
   "metadata": {},
   "outputs": [],
   "source": []
  }
 ],
 "metadata": {
  "kernelspec": {
   "display_name": "Python 3 (ipykernel)",
   "language": "python",
   "name": "python3"
  },
  "language_info": {
   "codemirror_mode": {
    "name": "ipython",
    "version": 3
   },
   "file_extension": ".py",
   "mimetype": "text/x-python",
   "name": "python",
   "nbconvert_exporter": "python",
   "pygments_lexer": "ipython3",
   "version": "3.9.12"
  }
 },
 "nbformat": 4,
 "nbformat_minor": 5
}
