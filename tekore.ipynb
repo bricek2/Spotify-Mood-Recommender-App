{
 "cells": [
  {
   "cell_type": "code",
   "execution_count": 4,
   "id": "14bc2f88-9192-4e2f-a46b-77d43813d770",
   "metadata": {},
   "outputs": [],
   "source": [
    "import spotipy\n",
    "from spotipy.oauth2 import SpotifyClientCredentials\n",
    "\n",
    "import pandas as pd\n",
    "\n",
    "from bs4 import BeautifulSoup\n",
    "import requests\n",
    "\n",
    "import tekore as tk\n",
    "import asyncio\n",
    "\n",
    "import time\n",
    "import re\n",
    "\n"
   ]
  },
  {
   "cell_type": "markdown",
   "id": "31303c90-af86-49e6-875b-4d9f8da5432a",
   "metadata": {},
   "source": [
    "## Spotify API Authentication"
   ]
  },
  {
   "cell_type": "code",
   "execution_count": 5,
   "id": "7ea6ab7c-3e12-4053-8848-5fcc74feccd3",
   "metadata": {},
   "outputs": [],
   "source": [
    "client_id = '25035de4cc4b4862baffb133c232efa3'\n",
    "client_secret = 'ddff264cbeb748019cd112e20494b17b'"
   ]
  },
  {
   "cell_type": "markdown",
   "id": "97ba7f22-58a6-499d-b688-68e7f85da0cf",
   "metadata": {},
   "source": [
    "### Spotipy"
   ]
  },
  {
   "cell_type": "code",
   "execution_count": 6,
   "id": "5d28cb2c-6320-4c4b-8f4d-939f07b8328a",
   "metadata": {},
   "outputs": [],
   "source": [
    "# auth_manager = SpotifyClientCredentials(client_id=client_id, client_secret=client_secret)\n",
    "# sp = spotipy.Spotify(auth_manager=auth_manager)"
   ]
  },
  {
   "cell_type": "markdown",
   "id": "555cd68b-324a-46d6-92de-7e8808a52bb4",
   "metadata": {},
   "source": [
    "## Tokore \n",
    "#### Chunked turned on to by pass the request limit of 100"
   ]
  },
  {
   "cell_type": "code",
   "execution_count": 7,
   "id": "f27a8f58-de6b-432c-b741-773fa616c8f7",
   "metadata": {},
   "outputs": [],
   "source": [
    "token = tk.request_client_token(client_id, client_secret)\n",
    "#sender = tk.RetryingSender(sender=tk.AsyncSender())\n",
    "     #sender=sender,\n",
    "spotify = tk.Spotify(token, chunked_on = True, max_limits_on=True)"
   ]
  },
  {
   "cell_type": "markdown",
   "id": "c2f8fe3e-c42f-4811-b4b0-305387b121ca",
   "metadata": {},
   "source": [
    "### Connect playlist"
   ]
  },
  {
   "cell_type": "code",
   "execution_count": 31,
   "id": "b5a1267c-fd51-4e61-967d-a0aad1b5e2d6",
   "metadata": {},
   "outputs": [],
   "source": [
    "link_playlist = 'https://open.spotify.com/playlist/0aXnOizaJ0eM1YIIcsSXSO'\n",
    "playlist_id = '0aXnOizaJ0eM1YIIcsSXSO'"
   ]
  },
  {
   "cell_type": "code",
   "execution_count": 14,
   "id": "4dd75e46-5851-4fbe-aed0-b3a04e5863ca",
   "metadata": {},
   "outputs": [],
   "source": [
    "#Spotify created playlist\n",
    "link_playlist = 'https://open.spotify.com/playlist/37i9dQZF1DX56bqlsMxJYR'"
   ]
  },
  {
   "cell_type": "code",
   "execution_count": 32,
   "id": "e1f5cc82-f5f1-408a-8b68-293ddeb489f9",
   "metadata": {},
   "outputs": [],
   "source": [
    "\n",
    "playlist = spotify.playlist(playlist_id)"
   ]
  },
  {
   "cell_type": "code",
   "execution_count": 6,
   "id": "ab5ba0a5-77cb-4e6a-8492-5196a3bd3a73",
   "metadata": {},
   "outputs": [],
   "source": [
    "first_items = spotify.playlist_items(playlist_id).items\n",
    "tracks = []\n",
    "#first_tracks = spotify.playlist_tracks(playlist_uri)"
   ]
  },
  {
   "cell_type": "markdown",
   "id": "1a46ac27-3f76-4d98-a594-da0bf15d719d",
   "metadata": {},
   "source": [
    "#### Exploring Tekore notation"
   ]
  },
  {
   "cell_type": "code",
   "execution_count": 8,
   "id": "f0e97040-cb02-4255-b7e2-a3dd513b4dcd",
   "metadata": {},
   "outputs": [
    {
     "data": {
      "text/plain": [
       "'Best Hip-Hop Playlist'"
      ]
     },
     "execution_count": 8,
     "metadata": {},
     "output_type": "execute_result"
    }
   ],
   "source": [
    "playlist.name"
   ]
  },
  {
   "cell_type": "code",
   "execution_count": 33,
   "id": "27c8d780-5206-43c4-ace0-2de6ccbabfe4",
   "metadata": {},
   "outputs": [
    {
     "data": {
      "text/plain": [
       "'0aXnOizaJ0eM1YIIcsSXSO'"
      ]
     },
     "execution_count": 33,
     "metadata": {},
     "output_type": "execute_result"
    }
   ],
   "source": [
    "playlist.id"
   ]
  },
  {
   "cell_type": "code",
   "execution_count": 9,
   "id": "4e7b482c-f3e1-44a1-a123-a983c65b4215",
   "metadata": {},
   "outputs": [
    {
     "data": {
      "text/plain": [
       "'Codeine Dreaming (feat. Lil Wayne)'"
      ]
     },
     "execution_count": 9,
     "metadata": {},
     "output_type": "execute_result"
    }
   ],
   "source": [
    "playlist.tracks.items[0].track.name"
   ]
  },
  {
   "cell_type": "code",
   "execution_count": 10,
   "id": "e0b1d995-340d-4661-973b-0f848e5a41d4",
   "metadata": {},
   "outputs": [
    {
     "data": {
      "text/plain": [
       "FullPlaylistTrack with fields:\n",
       "  album = SimpleAlbum(album_group, album_type, artists, ...)\n",
       "  artists = [2 x SimpleArtist(external_urls, href, id, name, type, uri)]\n",
       "  available_markets = [183 x str]\n",
       "  disc_number = 1\n",
       "  duration_ms = 264531\n",
       "  episode = False\n",
       "  explicit = True\n",
       "  external_ids = {'isrc'}\n",
       "  external_urls = {'spotify'}\n",
       "  href = 'https://api.spotify.com/v1/tracks/4DTpngLjoHj5gFxEZFeD3J'\n",
       "  id = '4DTpngLjoHj5gFxEZFeD3J'\n",
       "  is_local = False\n",
       "  is_playable = None\n",
       "  linked_from = None\n",
       "  name = 'Codeine Dreaming (feat. Lil Wayne)'\n",
       "  popularity = 66\n",
       "  preview_url = 'https://p.scdn.co/mp3-preview/f0bcb280d4f87b0851e3e815...'\n",
       "  restrictions = None\n",
       "  track = True\n",
       "  track_number = 20\n",
       "  type = 'track'\n",
       "  uri = 'spotify:track:4DTpngLjoHj5gFxEZFeD3J'"
      ]
     },
     "execution_count": 10,
     "metadata": {},
     "output_type": "execute_result"
    }
   ],
   "source": [
    "playlist.tracks.items[0].track"
   ]
  },
  {
   "cell_type": "code",
   "execution_count": 18,
   "id": "dbd76164-3acb-40f6-a3df-e28667d7587b",
   "metadata": {},
   "outputs": [
    {
     "data": {
      "text/plain": [
       "'Project Baby 2: All Grown Up (Deluxe Edition)'"
      ]
     },
     "execution_count": 18,
     "metadata": {},
     "output_type": "execute_result"
    }
   ],
   "source": [
    "playlist.tracks.items[0].track.album.name"
   ]
  },
  {
   "cell_type": "code",
   "execution_count": 142,
   "id": "8e9012af-3794-4bda-81d8-2a6a2232a096",
   "metadata": {},
   "outputs": [
    {
     "data": {
      "text/plain": [
       "'46SHBwWsqBkxI7EeeBEQG7'"
      ]
     },
     "execution_count": 142,
     "metadata": {},
     "output_type": "execute_result"
    }
   ],
   "source": [
    "playlist.tracks.items[0].track.artists[0].id"
   ]
  },
  {
   "cell_type": "code",
   "execution_count": 218,
   "id": "d98b0ee0-4988-4b87-a005-fd4da626e961",
   "metadata": {},
   "outputs": [
    {
     "data": {
      "text/plain": [
       "'Best Hip-Hop Playlist'"
      ]
     },
     "execution_count": 218,
     "metadata": {},
     "output_type": "execute_result"
    }
   ],
   "source": [
    "playlist.name"
   ]
  },
  {
   "cell_type": "markdown",
   "id": "e1e1573c-8acd-4466-9750-2eca1fab4c8d",
   "metadata": {},
   "source": [
    "##### Testing album images"
   ]
  },
  {
   "cell_type": "code",
   "execution_count": 140,
   "id": "c6d48a46-2e3f-481f-94e0-d4fd2ef39996",
   "metadata": {},
   "outputs": [
    {
     "data": {
      "text/plain": [
       "'https://i.scdn.co/image/ab67616d0000b2738e3046e13f253a208519b21a'"
      ]
     },
     "execution_count": 140,
     "metadata": {},
     "output_type": "execute_result"
    }
   ],
   "source": [
    "playlist.tracks.items[0].track.album.images[0].url"
   ]
  },
  {
   "cell_type": "code",
   "execution_count": 61,
   "id": "84209e73-f28f-454c-bce9-c1bcef8c62ba",
   "metadata": {},
   "outputs": [
    {
     "data": {
      "text/plain": [
       "'0D2kFxAO1YPAuxAtP23g0p'"
      ]
     },
     "execution_count": 61,
     "metadata": {},
     "output_type": "execute_result"
    }
   ],
   "source": [
    "playlist.tracks.items[0].track.album.id"
   ]
  },
  {
   "cell_type": "markdown",
   "id": "77b048bb-4281-45c3-86be-a2f81de3bef8",
   "metadata": {},
   "source": [
    "##### Featured artist testing"
   ]
  },
  {
   "cell_type": "code",
   "execution_count": 75,
   "id": "123113a4-0410-4eec-b8dd-2f1b7775696f",
   "metadata": {},
   "outputs": [
    {
     "data": {
      "text/plain": [
       "4"
      ]
     },
     "execution_count": 75,
     "metadata": {},
     "output_type": "execute_result"
    }
   ],
   "source": [
    "len(playlist.tracks.items[19].track.artists)"
   ]
  },
  {
   "cell_type": "code",
   "execution_count": 33,
   "id": "4c51f512-9389-4c90-8683-fe6f01b37e86",
   "metadata": {},
   "outputs": [],
   "source": [
    "ft_art = []\n",
    "for i in range(1,len(playlist.tracks.items[64].track.artists)):\n",
    "    ft_art.append(playlist.tracks.items[64].track.artists[i].name)\n",
    "\n",
    "ft_art\n",
    "\n",
    "x = ', '.join(ft_art)\n",
    "print(x)"
   ]
  },
  {
   "cell_type": "code",
   "execution_count": 72,
   "id": "8b9f5e88-a3c4-4840-850e-ef7ef60561ca",
   "metadata": {},
   "outputs": [
    {
     "data": {
      "text/plain": [
       "SimpleArtist with fields:\n",
       "  external_urls = {'spotify'}\n",
       "  href = 'https://api.spotify.com/v1/artists/53KwLdlmrlCelAZMaLVZqU'\n",
       "  id = '53KwLdlmrlCelAZMaLVZqU'\n",
       "  name = 'James Blake'\n",
       "  type = 'artist'\n",
       "  uri = 'spotify:artist:53KwLdlmrlCelAZMaLVZqU'"
      ]
     },
     "execution_count": 72,
     "metadata": {},
     "output_type": "execute_result"
    }
   ],
   "source": [
    "playlist.tracks.items[19].track.artists[3]"
   ]
  },
  {
   "cell_type": "code",
   "execution_count": 102,
   "id": "211c06b7-e2e3-4d2e-a40e-2ccedefd4fab",
   "metadata": {},
   "outputs": [
    {
     "data": {
      "text/plain": [
       "2"
      ]
     },
     "execution_count": 102,
     "metadata": {},
     "output_type": "execute_result"
    }
   ],
   "source": [
    "len(playlist.tracks.items[0].track.artists)"
   ]
  },
  {
   "cell_type": "code",
   "execution_count": 83,
   "id": "4e271322-b33e-46bf-80fb-70465e1142ba",
   "metadata": {},
   "outputs": [
    {
     "data": {
      "text/plain": [
       "'21 Savage'"
      ]
     },
     "execution_count": 83,
     "metadata": {},
     "output_type": "execute_result"
    }
   ],
   "source": [
    "playlist.tracks.items[1].track.artists[0].name"
   ]
  },
  {
   "cell_type": "code",
   "execution_count": 22,
   "id": "cd6c98d2-e727-4a71-b1fd-6b0f440ea915",
   "metadata": {},
   "outputs": [
    {
     "data": {
      "text/plain": [
       "'0aXnOizaJ0eM1YIIcsSXSO'"
      ]
     },
     "execution_count": 22,
     "metadata": {},
     "output_type": "execute_result"
    }
   ],
   "source": [
    "playlist.id"
   ]
  },
  {
   "cell_type": "markdown",
   "id": "bc0cc3e4-8cd9-4fc8-a2d2-ed02a1ce020b",
   "metadata": {},
   "source": [
    "#### Audio features"
   ]
  },
  {
   "cell_type": "code",
   "execution_count": 41,
   "id": "1f103e6e-0e3c-403c-a9b0-9063eb7f5323",
   "metadata": {},
   "outputs": [
    {
     "data": {
      "text/plain": [
       "'2fQrGHiQOvpL9UgPvtYy6G'"
      ]
     },
     "execution_count": 41,
     "metadata": {},
     "output_type": "execute_result"
    }
   ],
   "source": [
    "playlist.tracks.items[1].track.id"
   ]
  },
  {
   "cell_type": "code",
   "execution_count": 44,
   "id": "2255c99a-9ad7-48ad-b2c5-9603183e624d",
   "metadata": {},
   "outputs": [],
   "source": [
    "af = spotify.track_audio_features('2fQrGHiQOvpL9UgPvtYy6G')"
   ]
  },
  {
   "cell_type": "code",
   "execution_count": 47,
   "id": "32c49f59-aaf7-44b4-a305-a5238c714321",
   "metadata": {},
   "outputs": [
    {
     "data": {
      "text/plain": [
       "0.015"
      ]
     },
     "execution_count": 47,
     "metadata": {},
     "output_type": "execute_result"
    }
   ],
   "source": [
    "af.acousticness"
   ]
  },
  {
   "cell_type": "code",
   "execution_count": 152,
   "id": "9e8e41bc-bc31-45e4-b46b-49a404f46fdf",
   "metadata": {},
   "outputs": [
    {
     "data": {
      "text/plain": [
       "SimpleArtist with fields:\n",
       "  external_urls = {'spotify'}\n",
       "  href = 'https://api.spotify.com/v1/artists/46SHBwWsqBkxI7EeeBEQG7'\n",
       "  id = '46SHBwWsqBkxI7EeeBEQG7'\n",
       "  name = 'Kodak Black'\n",
       "  type = 'artist'\n",
       "  uri = 'spotify:artist:46SHBwWsqBkxI7EeeBEQG7'"
      ]
     },
     "execution_count": 152,
     "metadata": {},
     "output_type": "execute_result"
    }
   ],
   "source": [
    "# No followers\n",
    "playlist.tracks.items[0].track.artists[0]"
   ]
  },
  {
   "cell_type": "code",
   "execution_count": 157,
   "id": "c9a96f84-1734-4689-b916-126d850fa219",
   "metadata": {},
   "outputs": [
    {
     "data": {
      "text/plain": [
       "FullPlaylistTrack with fields:\n",
       "  album = SimpleAlbum(album_group, album_type, artists, ...)\n",
       "  artists = [2 x SimpleArtist(external_urls, href, id, name, type, uri)]\n",
       "  available_markets = [183 x str]\n",
       "  disc_number = 1\n",
       "  duration_ms = 264531\n",
       "  episode = False\n",
       "  explicit = True\n",
       "  external_ids = {'isrc'}\n",
       "  external_urls = {'spotify'}\n",
       "  href = 'https://api.spotify.com/v1/tracks/4DTpngLjoHj5gFxEZFeD3J'\n",
       "  id = '4DTpngLjoHj5gFxEZFeD3J'\n",
       "  is_local = False\n",
       "  is_playable = None\n",
       "  linked_from = None\n",
       "  name = 'Codeine Dreaming (feat. Lil Wayne)'\n",
       "  popularity = 65\n",
       "  preview_url = 'https://p.scdn.co/mp3-preview/f0bcb280d4f87b0851e3e815...'\n",
       "  restrictions = None\n",
       "  track = True\n",
       "  track_number = 20\n",
       "  type = 'track'\n",
       "  uri = 'spotify:track:4DTpngLjoHj5gFxEZFeD3J'"
      ]
     },
     "execution_count": 157,
     "metadata": {},
     "output_type": "execute_result"
    }
   ],
   "source": [
    "playlist.tracks.items[0].track"
   ]
  },
  {
   "cell_type": "markdown",
   "id": "561b3519-a5cb-4f94-9851-d23d4ae99ce7",
   "metadata": {},
   "source": [
    "## First Scrape test"
   ]
  },
  {
   "cell_type": "code",
   "execution_count": 33,
   "id": "a880b7a3-58cf-452e-b861-1b4f665eaf79",
   "metadata": {},
   "outputs": [],
   "source": [
    "# track name, track uri, track popularity, album name, album image, artist name, artist uri,\n",
    "# artist follwers, artist popularity, artist genres\n",
    "# danceability, engery, key, loudness, mode, speechiness, acousticness, instrumentalness,\n",
    "# liveness, valence, tempo, duration_ms,"
   ]
  },
  {
   "cell_type": "code",
   "execution_count": 9,
   "id": "28c70d56-9970-4baf-a463-daee9a4945c3",
   "metadata": {},
   "outputs": [],
   "source": [
    "track_name = []\n",
    "track_id = []\n",
    "track_pop = []\n",
    "artist_name = []\n",
    "featured_artist = []\n",
    "album_name = []\n",
    "#album_cover = []\n",
    "artist_id = []\n",
    "#artist_followers = []\n",
    "#artist_genres = []\n",
    "\n",
    "danceability = []\n",
    "energy = []\n",
    "key = []\n",
    "loudness = []\n",
    "mode = []\n",
    "speechiness = []\n",
    "acousticness = []\n",
    "instrumentalness = []\n",
    "liveness = []\n",
    "valence = []\n",
    "tempo = []\n",
    "track_lyrics = []\n",
    "playlist_name = []\n",
    "\n",
    "for item in spotify.all_items(spotify.playlist_items(playlist_id)):\n",
    "#looping through each track in the playlist\n",
    "\n",
    "    track_name.append(item.track.name)\n",
    "    track_id.append(item.track.id)\n",
    "    track_pop.append(item.track.popularity)\n",
    "    artist_name.append(item.track.artists[0].name)\n",
    "    \n",
    "    \n",
    "    if (len(item.track.artists)) > 1:\n",
    "        ft_art = []\n",
    "        for i in range(1,len(item.track.artists)):\n",
    "            ft_art.append(item.track.artists[i].name)\n",
    "        x = ', '.join(ft_art)\n",
    "    else:\n",
    "         x ='None'\n",
    "    featured_artist.append(x)\n",
    "    \n",
    "    album_name.append(item.track.album.name)\n",
    "    #album_cover.append(item.track.album.images[0].url)\n",
    "    artist_id.append(item.track.artists[0].id)\n",
    "    \n",
    "    af = spotify.track_audio_features(item.track.id)\n",
    "    danceability.append(af.danceability)\n",
    "    energy.append(af.energy)\n",
    "    key.append(af.key)\n",
    "    loudness.append(af.loudness)\n",
    "    mode.append(af.mode)\n",
    "    speechiness.append(af.speechiness)\n",
    "    acousticness.append(af.acousticness)\n",
    "    instrumentalness.append(af.instrumentalness)\n",
    "    liveness.append(af.liveness)\n",
    "    valence.append(af.valence)\n",
    "    tempo.append(af.tempo)\n",
    "                        #Scrape_lyrics2 function below\n",
    "    track_lyrics.append(scrape_lyrics2(item.track.name, item.track.artists[0].name, x))\n",
    "    playlist_name.append(playlist.name)\n",
    "    # Used sleep to not exceed the number of requests in a given time\n",
    "    time.sleep(.07)\n",
    "\n",
    "    \n",
    "\n",
    "df = pd.DataFrame(\n",
    "    {'track_name': track_name,\n",
    "    'track_id': track_id,\n",
    "     'track_pop': track_pop,\n",
    "     'artist_name': artist_name,\n",
    "     'featured_artist': featured_artist,\n",
    "     'album_name': album_name,\n",
    "     #'album_cover': album_cover,\n",
    "     'artist_id': artist_id,\n",
    "     'danceability': danceability,\n",
    "     'energy': energy,\n",
    "     'key': key,\n",
    "     'loudness': loudness,\n",
    "     'mode': mode,\n",
    "     'speechiness': speechiness,\n",
    "     'acousticness': acousticness,\n",
    "     'intrumentalness': instrumentalness,\n",
    "     'valence': valence,\n",
    "     'tempo': tempo,\n",
    "     'track_lyrics': track_lyrics,\n",
    "     'playlist_name': playlist_name\n",
    "    })\n",
    "    \n",
    "    \n",
    "  "
   ]
  },
  {
   "cell_type": "code",
   "execution_count": 10,
   "id": "1fe7f505-b719-4525-bdab-765d1ab6a55b",
   "metadata": {},
   "outputs": [
    {
     "data": {
      "text/plain": [
       "(1941, 19)"
      ]
     },
     "execution_count": 10,
     "metadata": {},
     "output_type": "execute_result"
    }
   ],
   "source": [
    "df.shape"
   ]
  },
  {
   "cell_type": "code",
   "execution_count": 219,
   "id": "dceba4d9-55b8-4959-8680-9ce5f85c4944",
   "metadata": {},
   "outputs": [],
   "source": [
    "df['playlist_name'] = playlist.name"
   ]
  },
  {
   "cell_type": "markdown",
   "id": "0594524b-662a-4239-bc9b-c9aa1ee5b7fb",
   "metadata": {},
   "source": [
    "##### Saving the first playlist data"
   ]
  },
  {
   "cell_type": "code",
   "execution_count": 222,
   "id": "28e9bb0a-be67-42fc-8d93-036a58edf788",
   "metadata": {},
   "outputs": [],
   "source": [
    "checkpoint = df.to_csv('datasets/checkpoint.csv')"
   ]
  },
  {
   "cell_type": "markdown",
   "id": "645627bc-5bcf-4168-8703-ef5a610c7ca7",
   "metadata": {},
   "source": [
    "### Testing for the \"scrape_lyrics2\" function used above"
   ]
  },
  {
   "cell_type": "code",
   "execution_count": 148,
   "id": "21243509-6e1f-42d2-a27f-caa5231f1c3c",
   "metadata": {},
   "outputs": [
    {
     "data": {
      "text/plain": [
       "'\\t\\t\\tPlease check the spelling and try again to <a href=\"/index.php?section=search&amp;searchW=21 savage feat Bank account\">search 21 savage feat Bank account lyrics</a>. <script type=\"text/javascript\">var GOOG_FIXURL_LANG = \"en\";var GOOG_FIXURL_SITE = \"https://www.songlyrics.com/\";</script>. <script src=\"https://linkhelp.clients.google.com/tbproxy/lh/wm/fixurl.js\" type=\"text/javascript\"></script>. </p>'"
      ]
     },
     "execution_count": 148,
     "metadata": {},
     "output_type": "execute_result"
    }
   ],
   "source": [
    "df['track_lyrics'][1]"
   ]
  },
  {
   "cell_type": "code",
   "execution_count": 75,
   "id": "ca16a28b-0926-45d2-95c1-7257fee8968b",
   "metadata": {},
   "outputs": [
    {
     "data": {
      "text/plain": [
       "'Kodak Black'"
      ]
     },
     "execution_count": 75,
     "metadata": {},
     "output_type": "execute_result"
    }
   ],
   "source": [
    "playlist.tracks.items[0].track.artists[0].name"
   ]
  },
  {
   "cell_type": "code",
   "execution_count": 85,
   "id": "5f5c1c40-1797-49b7-af47-fbd89df1047e",
   "metadata": {},
   "outputs": [
    {
     "data": {
      "text/plain": [
       "str"
      ]
     },
     "execution_count": 85,
     "metadata": {},
     "output_type": "execute_result"
    }
   ],
   "source": [
    "songname = playlist.tracks.items[0].track.name\n",
    "songname = songname.split(' (')\n",
    "songname = songname[0]\n",
    "songname = songname.replace(' ','-') if ' ' in songname else str(songname)\n",
    "type(songname)\n",
    "#songname2 = str(songname.replace(' ','-')) if ' ' in songname else str(songname)\n",
    "#songname2"
   ]
  },
  {
   "cell_type": "code",
   "execution_count": 87,
   "id": "32b05a9a-8dbc-46e1-bfe7-f20b385c816d",
   "metadata": {},
   "outputs": [
    {
     "data": {
      "text/plain": [
       "str"
      ]
     },
     "execution_count": 87,
     "metadata": {},
     "output_type": "execute_result"
    }
   ],
   "source": [
    "artistname = playlist.tracks.items[0].track.artists[0].name\n",
    "artistname = artistname.replace(' ','-') if ' ' in artistname else artistname\n",
    "type(artistname)"
   ]
  },
  {
   "cell_type": "code",
   "execution_count": null,
   "id": "429fd60d-f7d7-42bb-ba20-cb0b6b406ac6",
   "metadata": {},
   "outputs": [],
   "source": []
  },
  {
   "cell_type": "markdown",
   "id": "d7db95ad-00d3-456e-ac53-5b09d1f57ad9",
   "metadata": {},
   "source": [
    "### Lyric Scrape Testing\n",
    "Reference : \"https://medium.com/swlh/how-to-leverage-spotify-api-genius-lyrics-for-data-science-tasks-in-python-c36cdfb55cf3https://medium.com/swlh/how-to-leverage-spotify-api-genius-lyrics-for-data-science-tasks-in-python-c36cdfb55cf3\""
   ]
  },
  {
   "cell_type": "code",
   "execution_count": 11,
   "id": "ea92b37e-192c-4595-be3b-9ba965b5dc76",
   "metadata": {},
   "outputs": [
    {
     "name": "stdout",
     "output_type": "stream",
     "text": [
      "None\n"
     ]
    }
   ],
   "source": [
    "artist = playlist.tracks.items[0].track.artists[0].name\n",
    "song = playlist.tracks.items[0].track.name\n",
    "if '-' in song:\n",
    "        song = song.split('-')[0]\n",
    "song = song.replace(' ','').replace(\"'\",'').lower()\n",
    "    #artist =track['track']['artists'][0]['name']\n",
    "artist = artist.replace(' ', '').lower()\n",
    "page = requests.get('https://www.azlyrics.com/'+ 'lyrics/' + artist + '/' + song + '.' + 'html')\n",
    "html = BeautifulSoup(page.text, 'html.parser')\n",
    "#print(html)\n",
    "lyrics = html.find(\"div\", class_=\"$0\")\n",
    "print(lyrics)"
   ]
  },
  {
   "cell_type": "code",
   "execution_count": 41,
   "id": "0a32a65c-720a-479e-b269-46d131a5c0db",
   "metadata": {},
   "outputs": [],
   "source": [
    "# https://www.songlyrics.com/kodak-black-feat-lil-wayne/codeine-dreaming-lyrics/\n",
    "# https://www.songlyrics.com/metro-boomin-feat-offset-drake/no-complaints-lyrics/"
   ]
  },
  {
   "cell_type": "code",
   "execution_count": 21,
   "id": "d3ebfff1-8458-454a-8c52-42dd98e66cd5",
   "metadata": {},
   "outputs": [
    {
     "data": {
      "text/plain": [
       "ModelList with items: [\n",
       "  SimpleArtist(external_urls, href, id, name, type, uri)\n",
       "  SimpleArtist(external_urls, href, id, name, type, uri)\n",
       "  SimpleArtist(external_urls, href, id, name, type, uri)\n",
       "]"
      ]
     },
     "execution_count": 21,
     "metadata": {},
     "output_type": "execute_result"
    }
   ],
   "source": [
    "playlist.tracks.items[64].track.artists"
   ]
  },
  {
   "cell_type": "code",
   "execution_count": 1,
   "id": "cee76087-eb11-480c-86a1-dd9674d7d93c",
   "metadata": {},
   "outputs": [],
   "source": []
  },
  {
   "cell_type": "code",
   "execution_count": 181,
   "id": "913be5e9-85f7-4719-a483-417f7b9f880a",
   "metadata": {},
   "outputs": [],
   "source": [
    "ft_art = []\n",
    "for i in range(1,len(playlist.tracks.items[1].track.artists)):\n",
    "    ft_art.append(playlist.tracks.items[1].track.artists[i].name)"
   ]
  },
  {
   "cell_type": "code",
   "execution_count": 182,
   "id": "fdb3f219-7d19-471c-9234-cb44b59dcd15",
   "metadata": {},
   "outputs": [],
   "source": [
    " x = ', '.join(ft_art)"
   ]
  },
  {
   "cell_type": "code",
   "execution_count": 183,
   "id": "654cb788-6bfd-4ab3-9f46-dbffc835d747",
   "metadata": {},
   "outputs": [
    {
     "data": {
      "text/plain": [
       "''"
      ]
     },
     "execution_count": 183,
     "metadata": {},
     "output_type": "execute_result"
    }
   ],
   "source": [
    "x"
   ]
  },
  {
   "cell_type": "markdown",
   "id": "19f4bbf6-aceb-4027-9b26-4a5f6a58a6a5",
   "metadata": {},
   "source": [
    "##### Genius and AZ lyrics prohibited 3rd party use of the data. Used songlyrics.com instead."
   ]
  },
  {
   "cell_type": "code",
   "execution_count": 180,
   "id": "2c94d7d2-f695-43a2-8bd9-324ed74419f6",
   "metadata": {},
   "outputs": [
    {
     "name": "stdout",
     "output_type": "stream",
     "text": [
      "https://www.songlyrics.com/kodak-black-feat-lil-wayne/codeine-dreaming-(feat.-lil-wayne)-lyrics/\n"
     ]
    }
   ],
   "source": [
    "#formatting url to fit artist and song\n",
    "x = x\n",
    "lyric_url = 'https://www.songlyrics.com/'\n",
    "artist = (playlist.tracks.items[0].track.artists[0].name).replace(' ','-').lower()\n",
    "song = (playlist.tracks.items[0].track.name).replace(' ','-').lower() + '-lyrics/'\n",
    "\n",
    "ft_art =[f.replace(' ','-') for f in ft_art]\n",
    "ft_art\n",
    "\n",
    "feats = []\n",
    "for f in ft_art:\n",
    "    f = '-' + f\n",
    "    feats.append(f)\n",
    "\n",
    "string3 = ''\n",
    "artist2 = string3.join(feats).lower()\n",
    "\n",
    "if x == 'None':\n",
    "    page_url = lyric_url + artist + '/' + song\n",
    "else:\n",
    "    page_url = lyric_url + artist + '-feat' + artist2 + '/' + song\n",
    "\n",
    "\n",
    "#page_url = lyric_url + artist + '/' + song\n",
    "print(page_url)"
   ]
  },
  {
   "cell_type": "code",
   "execution_count": 123,
   "id": "bd9e9e61-4668-4dd4-9b61-b09f113cedb2",
   "metadata": {},
   "outputs": [
    {
     "name": "stdout",
     "output_type": "stream",
     "text": [
      "If a nigga hatin', call him Joe Budden (pussy). Coupe outside and it's press button (skrt skrt). Got that nigga mad 'cause your bitch fuckin' (hah). Fuck it, ice tray the gang (fuck it), ice tray the gang (woo). Ice tray the gang (ice), ice tray the gang. Fuck it, ice tray the gang (woo), ice tray the gang (ice). Ice tray the gang (yeah), ice tray the gang, fuck it. . Alexander Wang, wrist Eddie Cane. Drop top McLaren, park it at the Flame. Think I was insane, what my jeweler bring. Higher than Kurt Cobain, Huncho Bruce Wayne. Big boy Patek and it's skelly. Six ringtones on the celly. You did your ice wrong, go to Elliot. Splash on the wrist, J Reddick. I got a bag of drugs no medic. These niggas drinking on straight synthetic. I ain't tryna fuck no bitch that's petty. Skrt on the ho like Andrettis. It'll lock up if you wet it. Choppin' it up like machete. Swerve in the Junction, Spaghetti (swerve). Come to the Nawf if you ready (Nawf). If 'Set say he set then I set it ('Set). If Take' say he set then I set it (Take'). Shoot for my niggas like Belly (shoot). Shoot for my niggas like Belly (baow). . Ice tray, young nigga flooded (ice ice ice, yeah). If a nigga hatin', call him Joe Budden (pussy). Coupe outside and it's press button (skrt skrt). Got that nigga mad 'cause your bitch fuckin' (hah). Fuck it, ice tray the gang (fuck it), ice tray the gang (woo). Ice tray the gang (ice), ice tray the gang. Fuck it, ice tray the gang (woo), ice tray the gang (ice). Ice tray the gang (yeah), ice tray the gang, fuck it. . Uhh, ayy, diamonds look like candy corn. Sent a chain to Melbourne, no mail, it's airborne. Diamond on the chain with the flash like it's shootin' porn. Five karat ring, them lil' pointers tell me where you're goin'. Chopper sing like Anita Baker. Hang around the neck when I fuck, Undertaker. If my diamonds had a voice it would sound like Fantasia. Two million dollars on my jewelry, big appraisal. Huh, nigga ball like DeRozan, huh. AP skelly fully frozen, huh. Right wrist cause commotion. Big rocks on my wrist, so white need a whole pint of lotion. Diamonds be wet like the ocean. Want to watch like this pussy, it's gon' cost you 'bout a pretty token. Big karats and they pokin'. . Ice tray, young nigga flooded (ice ice ice, yeah). If a nigga hatin', call him Joe Budden (pussy, fuckin' pussy). Coupe outside and it's press button (skrt skrt). Got that nigga mad 'cause your bitch fuckin' (hah). Fuck it, ice tray the gang (fuck it), ice tray the gang (woo). Ice tray the gang (ice), ice tray the gang. Fuck it, ice tray the gang (woo), ice tray the gang (ice). Ice tray the gang (yeah), ice tray the gang, fuck it</p>\n"
     ]
    }
   ],
   "source": [
    "page = requests.get(page_url)\n",
    "html = BeautifulSoup(page.text, 'html.parser')\n",
    "\n",
    "#print(html)\n",
    "#lyrics = html.find(\"div\", class_=\"$0\")\n",
    "lyrics = html.find(\"p\", class_=\"songLyricsV14 iComment-text\")\n",
    "lyrics = str(lyrics).split('\\n')\n",
    "#lyrics = lyrics.split('\\n')\n",
    "lyrics = lyrics[1:]\n",
    "lyrics = [item.replace('<br/>','') for item in lyrics]\n",
    "string1 = '. '\n",
    "lyrics = string1.join(lyrics)\n",
    "\n",
    "#p class=\"songLyricsV14 iComment-text\" id=\"songLyricsDiv\"\n",
    "print(lyrics)"
   ]
  },
  {
   "cell_type": "markdown",
   "id": "f65933cc-1b60-4e25-a081-a5433955d438",
   "metadata": {},
   "source": [
    "##### Different variations of scrape function"
   ]
  },
  {
   "cell_type": "code",
   "execution_count": 167,
   "id": "4e5046ab-dcaf-4f06-bb35-b17ce5290e33",
   "metadata": {},
   "outputs": [],
   "source": [
    "def scrape_lyrics(song, artist, ft_art):\n",
    "    #format url to follow path with artists followed by song name\n",
    "    lyric_url = 'https://www.songlyrics.com/'\n",
    "    artist = artist.replace(' ','-').lower()\n",
    "    song = song.replace(' ','-').lower() + '-lyrics/'\n",
    "    \n",
    "    # Remove the (feat. artist) in song titles\n",
    "    if '(' in song:\n",
    "        song = re.sub(r'(?<=\\().*?(?=\\))', '', song).replace('-()','')\n",
    "    #ft_art already has featured artitst \n",
    "    ft_art =[f.replace(' ','-') for f in ft_art]\n",
    "    ft_art\n",
    "\n",
    "    feats = []\n",
    "    for f in ft_art:\n",
    "        f = '-' + f\n",
    "        feats.append(f)\n",
    "\n",
    "    string3 = ''\n",
    "    artist2 = string3.join(feats).lower()\n",
    "\n",
    "    if x == 'None':\n",
    "        page_url = lyric_url + artist + '/' + song\n",
    "    else:\n",
    "        page_url = lyric_url + artist + '-feat' + artist2 + '/' + song\n",
    "    #artists = artist + artist2\n",
    "\n",
    "    #lyric_url = 'https://www.songlyrics.com/'\n",
    "\n",
    "    #page_url = lyric_url + artist + '/' + song\n",
    "    \n",
    "    #Use beautful soup tp scrape lyrics\n",
    "    page = requests.get(page_url)\n",
    "    html = BeautifulSoup(page.text, 'html.parser')\n",
    "\n",
    "   \n",
    "    lyrics = html.find(\"p\", class_=\"songLyricsV14 iComment-text\")\n",
    "    lyrics = str(lyrics).split('\\n')\n",
    "    lyrics = lyrics[1:]\n",
    "    lyrics = [item.replace('<br/>','') for item in lyrics]\n",
    "    string1 = '. '\n",
    "    lyrics = string1.join(lyrics)\n",
    "    return lyrics"
   ]
  },
  {
   "cell_type": "code",
   "execution_count": 186,
   "id": "30f877a7-45ba-483e-9fdd-65c63acb86d5",
   "metadata": {},
   "outputs": [
    {
     "name": "stdout",
     "output_type": "stream",
     "text": [
      "Codeine Dreaming (feat. Lil Wayne)\n",
      "Kodak Black\n"
     ]
    }
   ],
   "source": [
    "song = playlist.tracks.items[0].track.name\n",
    "artist = playlist.tracks.items[0].track.artists[0].name\n",
    "print(song)\n",
    "print(artist)"
   ]
  },
  {
   "cell_type": "code",
   "execution_count": null,
   "id": "96e115a2-829d-4025-8ff4-4f6c582fe138",
   "metadata": {},
   "outputs": [],
   "source": []
  },
  {
   "cell_type": "markdown",
   "id": "11de043a-2bf6-4eb1-82b2-27ee96974bfa",
   "metadata": {},
   "source": [
    "# Scrape Lyrics from songlyrics.com"
   ]
  },
  {
   "cell_type": "code",
   "execution_count": 72,
   "id": "b64cda93-5011-4b55-bba8-b616d2b9ae97",
   "metadata": {},
   "outputs": [],
   "source": [
    "def scrape_lyrics2(song, artist, x):\n",
    "    #format url to follow path with artists followed by song name\n",
    "    lyric_url = 'https://www.songlyrics.com/'\n",
    "    artist = artist.replace(' ','-').lower()\n",
    "    song = song.replace(' ','-').lower() + '-lyrics/'\n",
    "    \n",
    "    # Remove the (feat. artist) in song titles\n",
    "    if '(' in song:\n",
    "        song = re.sub(r'(?<=\\().*?(?=\\))', '', song).replace('-()','').replace('.','')\n",
    "\n",
    "    artist2 = x.replace(', ','-').replace(' ', '-')\n",
    "\n",
    "    if x == 'None':\n",
    "        page_url = lyric_url + artist + '/' + song\n",
    "    else:\n",
    "        page_url = lyric_url + artist + '-feat-' + artist2 + '/' + song\n",
    "   \n",
    "    \n",
    "    #Use beautful soup tp scrape lyrics\n",
    "    try:\n",
    "        page = requests.get(page_url, allow_redirects=1000)\n",
    "        html = BeautifulSoup(page.text, 'html.parser')\n",
    "        lyrics = html.find(\"p\", class_=\"songLyricsV14 iComment-text\")\n",
    "        lyrics = str(lyrics).split('\\n')\n",
    "        lyrics = lyrics[1:]\n",
    "        lyrics = [item.replace('<br/>','') for item in lyrics]\n",
    "        string1 = '. '\n",
    "        lyrics = string1.join(lyrics)\n",
    "    \n",
    "    except requests.exceptions.TooManyRedirects as exc:\n",
    "        lyrics = 'None'\n",
    "        \n",
    "    return lyrics"
   ]
  },
  {
   "cell_type": "code",
   "execution_count": null,
   "id": "0fd0c158-21b2-4f95-972b-f297627a30db",
   "metadata": {},
   "outputs": [],
   "source": []
  },
  {
   "cell_type": "code",
   "execution_count": null,
   "id": "09fafb0a-4bad-4765-b6ef-8a068a0192f0",
   "metadata": {},
   "outputs": [],
   "source": []
  },
  {
   "cell_type": "code",
   "execution_count": 210,
   "id": "cc5e4b4e-f323-40ba-8a81-e52e92d91a5f",
   "metadata": {},
   "outputs": [
    {
     "name": "stdout",
     "output_type": "stream",
     "text": [
      "URL:  https://www.songlyrics.com/kodak-black-feat-Lil-Wayne/codeine-dreaming-lyrics/\n"
     ]
    },
    {
     "data": {
      "text/plain": [
       "\"Take that all the way up. I'm about to take off on these niggas. And I'm codeine dreaming. (and I'm codeine dreaming,and I'm codeine dreaming. And I'm codeine dreaming,and I'm codeine dreaming). . I might take off on you peons and go away to Venus. I'm a star so I put a neutron on my pinkie. I'm moonwalking but my Christian Loubotin's bleeding. I'm smoking moonrocks, shawty, and I'm feeling seated. I might take off on you peons and go away to Venus. I'm a star so I put a neutron on my pinkie. I'm moonwalking but my Christian Loubotin's bleeding. I'm smoking moonrocks, shawty, and I'm feeling seated. . . I'm in Uranus right now, I think I've seen a demon. I thought I left you back there in the cell or am I dreamin'?. Say I ain't dealing with your dawg, going a different way. I broke up with my redbone, I went the milky way. I'm ridin' in a Wraith feeling like I'm in outer space. Stars on my sunroof, Planet of the Apes. I couldn't wait until they released me, right back on the turf. I took off on you bustas, left you right on planet Earth. I'm feeling Jimmy Neutron, how I blast off on a verse. I know my son gon' like this song so I ain't finna curse. Know he gon' wanna explore the world so I'm gon' show him first. Say we're just distinguished beings, baby, me and you diverse. . . . I might take off on you peons and go away to Venus. I'm a star so I put a neutron on my pinkie. I'm moonwalking but my Christian Loubotin's bleeding. I'm smoking moonrocks, shawty, and I'm feeling seated. I might take off on you peons and go away to Venus. I'm a star so I put a neutron on my pinkie. I'm moonwalking but my Christian Loubotin's bleeding. I'm smoking moonrocks, shawty, and I'm feeling seated. (and I'm codeine dreaming,and I'm codeine dreaming. And I'm codeine dreaming). . . Bout to take off on you peons and go back to Mars. Bout to leave these peons behind like the Jackson 4. Tried to moonwalk on the moon and had to wax the floors. Tried to put me in a box and then I crashed the Porsche. Bout to wake up in your biatch and go back &amp; forth. Got her trapping out the the Fiat, she be back and forth. 'Bout to put myself together, take it back apart. Got the codeine, all my brothers smell like caviar. Codeine dreaming, they come true too, that's my spaceship, brp brp!. My milky way got pregnant, she said it's for you hoo. FaceTime Kodak with my new new, I left you 'cause he knew you. I'm wet dreaming 'bout Actavis, 2 new cups feel like new boobs. Tunechi!. . . . I might take off on you peons and go away to Venus. I'm a star so I put a neutron on my pinkie. I'm moonwalking but my Christian Loubotin's bleeding. I'm smoking moonrocks, shawty, and I'm feeling seated. I might take off on you peons and go away to Venus. I'm a star so I put a neutron on my pinkie. I'm moonwalking but my Christian Loubotin's bleeding. I'm smoking moonrocks, shawty, and I'm feeling seated. . . Bout to go to Saturn, heard they got the baddest species. You can hit me on my Galaxy, you tryna reach me. I went to Mars to get some Xanax bars and to go to sleep. I'm in my Orange space shuttle flyin' two seats. I left Future in Pluto cause that boy was too geeked. And I'm playing Sudoku all the way to Mercury. I took too much of shrooms feel like I'm on Neptune. I'm with an alien, she show me what that neck do. And I'm a metamorphosis, you just a regular dude. You need a space suit to get up on this latitude. If she ain't foreign, then she boring i need a Zircon. You takin' morphine, homie you a moron. . . I might take off on you peons and go away to Venus. I'm a star so I put a neutron on my pinkie. I'm moonwalking but my Christian Loubotin's bleeding. I'm smoking moonrocks, shawty, and I'm feeling seated. I might take off on you peons and go away to Venus. I'm a star so I put a neutron on my pinkie. I'm moonwalking but my Christian Loubotin's bleeding. I'm smoking moonrocks, shawty, and I'm feeling seated. (and I'm codeine dreaming,and I'm codeine dreaming. And I'm codeine dreaming,and I'm codeine dreaming)</p>\""
      ]
     },
     "execution_count": 210,
     "metadata": {},
     "output_type": "execute_result"
    }
   ],
   "source": [
    "scrape_lyrics2(playlist.tracks.items[0].track.name, playlist.tracks.items[0].track.artists[0].name, x)"
   ]
  },
  {
   "cell_type": "code",
   "execution_count": null,
   "id": "7b15df84-fc68-4f83-907b-8f45c0589ea2",
   "metadata": {},
   "outputs": [],
   "source": []
  },
  {
   "cell_type": "code",
   "execution_count": 159,
   "id": "96788e81-a3d5-4682-82cc-3872185c5974",
   "metadata": {},
   "outputs": [
    {
     "name": "stdout",
     "output_type": "stream",
     "text": [
      "kodak-black\n",
      "codeine-dreaming-(feat.-lil-wayne)-lyrics/\n"
     ]
    }
   ],
   "source": [
    "artist = playlist.tracks.items[0].track.artists[0].name.replace(' ','-').lower()\n",
    "song = playlist.tracks.items[0].track.name.replace(' ','-').lower() + '-lyrics/'\n",
    "print(artist)\n",
    "print(song)"
   ]
  },
  {
   "cell_type": "code",
   "execution_count": 162,
   "id": "92ce6e29-157f-42ce-afba-3b9aba1bc0c2",
   "metadata": {},
   "outputs": [
    {
     "name": "stdout",
     "output_type": "stream",
     "text": [
      "codeine-dreaming-lyrics/\n"
     ]
    }
   ],
   "source": [
    "song = re.sub(r'(?<=\\().*?(?=\\))', '', song).replace('-()','')\n",
    "print(song)"
   ]
  },
  {
   "cell_type": "markdown",
   "id": "5e722348-1502-4f7c-97a0-1d8fb5a31573",
   "metadata": {},
   "source": [
    "#### More testing for the above function without running the whole script"
   ]
  },
  {
   "cell_type": "code",
   "execution_count": 166,
   "id": "2f1b64ef-389a-4c1f-b42d-303948a9dd94",
   "metadata": {},
   "outputs": [
    {
     "name": "stdout",
     "output_type": "stream",
     "text": [
      "I tear down the mall with the bitch (for real). You can't even talk to the bitch (no). She fucking with bosses and shit (oh God). I pull up in 'rari's and shit, with choppers and Harley's and shit (for real). I be Gucci'd down, you wearing Lacoste and shit (bitch). Yeah, Moncler, yeah, fur came off of that, yeah (yeah). Triple homicide, put me in a chair, yeah (in jail). Triple cross the plug, we do not play fair, yeah (Oh god). Got 'em tennis chains on and they real blingy (blingy). Draco make you do the chicken head like Chingy (Chingy). Walk in Neiman Marcus and I spend a light fifty (fifty). Please proceed with caution, shooters, they be right with me (21). Bad bitch, cute face and some nice titties. $7500 on a Saint Laurent jacket (yeah). Bitch, be careful where you dumpin' your ashes (bitch). I ain't no sucker, I ain't cut for no action (nah). The skreets raised me, I'm a ho bastard (wild, wild, wild, wild). I bought a 'Rari just so I can go faster (skrrt). Niggas tryna copy me, they playin' catch up (21). I might pull up in a Ghost, no Casper (21). I been smoking gas and I got no asthma. . I got 1-2-3-4-5-6-7-8 M's in my bank account, yeah (Oh, God). In my bank account, yeah (Oh God). In my bank account, yeah (Oh God). In my bank account, yeah (Oh God). In my bank account, yeah (Oh God). In my bank account, yeah (Oh God). I got 1-2-3-4-5-6-7-8 shooters ready to gun you down, yeah (fast). Ready to gun you down, yeah (Oh God). Ready to gun you down, yeah (Oh God). Ready to gun you down, yeah (Oh God). Ready to gun you down, yeah (Oh God). Ready to gun you down, yeah (Oh God). . Yeah dog I'm for real, dog (21). Regular, buy the seats, I got a house on the hill, dog (21). Wanna see a body, nigga? Get you killed, dog (wet). Wanna Tweet about me, nigga? Get you killed, dog (wet). Killed dog, I'm a real dog, you a lil' dog (21). Be a dog, wanna be a dog, chasing mil's, dog. Dunk right in your bitch like O'Neal, dog. I shoot like Reggie Mill', dog (21). Chopper sting you like a eel, dog. . I got 1-2-3-4-5-6-7-8 M's in my bank account, yeah (Oh, God). In my bank account, yeah (Oh God). In my bank account, yeah (Oh God). In my bank account, yeah (Oh God). In my bank account, yeah (Oh God). In my bank account, yeah (Oh God). I got 1-2-3-4-5-6-7-8 shooters ready to gun you down, yeah (fast). Ready to gun you down, yeah (Oh God). Ready to gun you down, yeah (Oh God). Ready to gun you down, yeah (Oh God). Ready to gun you down, yeah (Oh God). Ready to gun you down, yeah (Oh God). . Roulette clips, send a roulette hit. Pull up on your bitch, she say I got that ruler dick. Spray your block down, we not really with that rural shit. Glock cocked now, I don't really give no fuck 'bout who I hit. Yeah, your bitch, she get jiggy with me. Keep that Siggy with me. Bitch, I'm Mad Max, you know I got Ziggy with me. Keep a mad mag in case they wanna get busy with me. 'Rari matte black and I got a Bentley with me. . I got 1-2-3-4-5-6-7-8 M's in my bank account, yeah (Oh, God). In my bank account, yeah (Oh God). In my bank account, yeah (Oh God). In my bank account, yeah (Oh God). In my bank account, yeah (Oh God). In my bank account, yeah (Oh God). I got 1-2-3-4-5-6-7-8 shooters ready to gun you down, yeah (fast). Ready to gun you down, yeah (Oh God). Ready to gun you down, yeah (Oh God). Ready to gun you down, yeah (Oh God). Ready to gun you down, yeah (Oh God). Ready to gun you down, yeah (Oh God). . $7500 on a Saint Laurent jacket (yeah). Bitch, be careful where you dumpin' your ashes (bitch). I ain't no sucker, I ain't cut for no action (nah). The skreets raised me, I'm a ho bastard</p>\n"
     ]
    }
   ],
   "source": [
    "    x = 'None'\n",
    "    lyric_url = 'https://www.songlyrics.com/'\n",
    "    artist = playlist.tracks.items[1].track.artists[0].name.replace(' ','-').lower()\n",
    "    song = playlist.tracks.items[1].track.name.replace(' ','-').lower() + '-lyrics/'\n",
    "    \n",
    "    if '(' in song:\n",
    "        song = re.sub(r'(?<=\\().*?(?=\\))', '', song).replace('-()','')\n",
    "    #ft_art already has featured artitst \n",
    "    ft_art =[f.replace(' ','-') for f in ft_art]\n",
    "    ft_art\n",
    "\n",
    "    feats = []\n",
    "    for f in ft_art:\n",
    "        f = '-' + f\n",
    "        feats.append(f)\n",
    "\n",
    "    string3 = ''\n",
    "    artist2 = string3.join(feats).lower()\n",
    "\n",
    "    if x == 'None':\n",
    "        page_url = lyric_url + artist + '/' + song\n",
    "    else:\n",
    "        page_url = lyric_url + artist + '-feat' + artist2 + '/' + song\n",
    "        \n",
    "    \n",
    "    #artists = artist + artist2\n",
    "\n",
    "    #lyric_url = 'https://www.songlyrics.com/'\n",
    "\n",
    "    #page_url = lyric_url + artist + '/' + song\n",
    "    \n",
    "    #Use beautful soup tp scrape lyrics\n",
    "    page = requests.get(page_url)\n",
    "    html = BeautifulSoup(page.text, 'html.parser')\n",
    "    \n",
    "   \n",
    "    lyrics = html.find(\"p\", class_=\"songLyricsV14 iComment-text\")\n",
    "    lyrics = str(lyrics).split('\\n')\n",
    "    lyrics = lyrics[1:]\n",
    "    lyrics = [item.replace('<br/>','') for item in lyrics]\n",
    "    string1 = '. '\n",
    "    lyrics = string1.join(lyrics)\n",
    "    print(lyrics)"
   ]
  },
  {
   "cell_type": "code",
   "execution_count": 225,
   "id": "7d0aa330-2ebc-4c38-beb0-d6202dbbf3a7",
   "metadata": {},
   "outputs": [
    {
     "data": {
      "text/plain": [
       "(1941, 19)"
      ]
     },
     "execution_count": 225,
     "metadata": {},
     "output_type": "execute_result"
    }
   ],
   "source": []
  },
  {
   "cell_type": "code",
   "execution_count": 226,
   "id": "caaa6120-8ac5-4f15-b397-6c90e34e0688",
   "metadata": {},
   "outputs": [],
   "source": [
    "# These are playlist Ids from random playlists on spotofy \n",
    "test = [\n",
    "    '1KNl4AYfgZtOVm9KHkhPTF',\n",
    "    '2H11P9KofhWu9EYUOoqOPm',\n",
    "    '0pM9c17S6YMUiFw6Q2jLvp'\n",
    "]"
   ]
  },
  {
   "cell_type": "markdown",
   "id": "5c3da303-40fa-4d89-b48b-91cce0292d28",
   "metadata": {},
   "source": [
    "# Scrape Multiple Playlists"
   ]
  },
  {
   "cell_type": "code",
   "execution_count": 3,
   "id": "389cfdc6-d4c2-4fde-b95f-4f5d8b8e527f",
   "metadata": {},
   "outputs": [],
   "source": [
    "def scrape_mult(soundtracks):\n",
    "    global df\n",
    "    for st in soundtracks:\n",
    "        \n",
    "        playlist = spotify.playlist(st)\n",
    "        \n",
    "        track_name = []\n",
    "        track_id = []\n",
    "        track_pop = []\n",
    "        artist_name = []\n",
    "        featured_artist = []\n",
    "        album_name = []\n",
    "        artist_id = []\n",
    "        danceability = []\n",
    "        energy = []\n",
    "        key = []\n",
    "        loudness = []\n",
    "        mode = []\n",
    "        speechiness = []\n",
    "        acousticness = []\n",
    "        instrumentalness = []\n",
    "        liveness = []\n",
    "        valence = []\n",
    "        tempo = []\n",
    "        track_lyrics = []\n",
    "        playlist_name = []\n",
    "        playlist_id = []\n",
    "        \n",
    "        for item in spotify.all_items(spotify.playlist_items(st)):\n",
    "            track_name.append(item.track.name)\n",
    "            track_id.append(item.track.id)\n",
    "            track_pop.append(item.track.popularity)\n",
    "            artist_name.append(item.track.artists[0].name)\n",
    "    \n",
    "    \n",
    "            if (len(item.track.artists)) > 1:\n",
    "                ft_art = []\n",
    "                for i in range(1,len(item.track.artists)):\n",
    "                    ft_art.append(item.track.artists[i].name)\n",
    "                x = ', '.join(ft_art)\n",
    "            else:\n",
    "                 x ='None'\n",
    "            featured_artist.append(x)\n",
    "    \n",
    "            album_name.append(item.track.album.name)\n",
    "        #album_cover.append(item.track.album.images[0].url)\n",
    "            artist_id.append(item.track.artists[0].id)\n",
    "        #last check\n",
    "    \n",
    "            af = spotify.track_audio_features(item.track.id)\n",
    "            danceability.append(af.danceability)\n",
    "            energy.append(af.energy)\n",
    "            key.append(af.key)\n",
    "            loudness.append(af.loudness)\n",
    "            mode.append(af.mode)\n",
    "            speechiness.append(af.speechiness)\n",
    "            acousticness.append(af.acousticness)\n",
    "            instrumentalness.append(af.instrumentalness)\n",
    "            liveness.append(af.liveness)\n",
    "            valence.append(af.valence)\n",
    "            tempo.append(af.tempo)\n",
    "            track_lyrics.append(scrape_lyrics2(item.track.name, item.track.artists[0].name, x))\n",
    "            playlist_name.append(playlist.name)\n",
    "            playlist_id.append(playlist.id)\n",
    "            time.sleep(.07)\n",
    "        \n",
    "    \n",
    "\n",
    "            df2 = pd.DataFrame(\n",
    "            {'track_name': track_name,\n",
    "            'track_id': track_id,\n",
    "             'track_pop': track_pop,\n",
    "             'artist_name': artist_name,\n",
    "             'featured_artist': featured_artist,\n",
    "             'album_name': album_name,\n",
    "             #'album_cover': album_cover,\n",
    "             'artist_id': artist_id,\n",
    "             'danceability': danceability,\n",
    "             'energy': energy,\n",
    "             'key': key,\n",
    "             'loudness': loudness,\n",
    "             'mode': mode,\n",
    "             'speechiness': speechiness,\n",
    "             'acousticness': acousticness,\n",
    "             'intrumentalness': instrumentalness,\n",
    "             'valence': valence,\n",
    "             'tempo': tempo,\n",
    "             'track_lyrics': track_lyrics,\n",
    "             'playlist_name': playlist_name,\n",
    "             'playlist_id': playlist_id\n",
    "            })\n",
    "        \n",
    "        df = df.append(df2, ignore_index=True)\n",
    "    #df.to_csv('datasets/checkpoint' + \"_\" + len(df) +'.csv')\n",
    "    return df.head()"
   ]
  },
  {
   "cell_type": "code",
   "execution_count": null,
   "id": "99a25848-e14a-431b-9377-07e91c366698",
   "metadata": {},
   "outputs": [],
   "source": [
    "# using dataframe and loop through song and artist and scrape lyrics seperately, and have seperate sleep. Merge together"
   ]
  },
  {
   "cell_type": "code",
   "execution_count": 236,
   "id": "82a3b223-e6fd-4a23-a16f-3431d5c9b8d5",
   "metadata": {},
   "outputs": [
    {
     "name": "stderr",
     "output_type": "stream",
     "text": [
      "C:\\Users\\brice\\AppData\\Local\\Temp\\ipykernel_30668\\2814680714.py:90: FutureWarning: The frame.append method is deprecated and will be removed from pandas in a future version. Use pandas.concat instead.\n",
      "  df = df.append(df2, ignore_index=True)\n"
     ]
    },
    {
     "data": {
      "text/html": [
       "<div>\n",
       "<style scoped>\n",
       "    .dataframe tbody tr th:only-of-type {\n",
       "        vertical-align: middle;\n",
       "    }\n",
       "\n",
       "    .dataframe tbody tr th {\n",
       "        vertical-align: top;\n",
       "    }\n",
       "\n",
       "    .dataframe thead th {\n",
       "        text-align: right;\n",
       "    }\n",
       "</style>\n",
       "<table border=\"1\" class=\"dataframe\">\n",
       "  <thead>\n",
       "    <tr style=\"text-align: right;\">\n",
       "      <th></th>\n",
       "      <th>track_name</th>\n",
       "      <th>track_id</th>\n",
       "      <th>track_pop</th>\n",
       "      <th>artist_name</th>\n",
       "      <th>featured_artist</th>\n",
       "      <th>album_name</th>\n",
       "      <th>artist_id</th>\n",
       "      <th>danceability</th>\n",
       "      <th>energy</th>\n",
       "      <th>key</th>\n",
       "      <th>loudness</th>\n",
       "      <th>mode</th>\n",
       "      <th>speechiness</th>\n",
       "      <th>acousticness</th>\n",
       "      <th>intrumentalness</th>\n",
       "      <th>valence</th>\n",
       "      <th>tempo</th>\n",
       "      <th>track_lyrics</th>\n",
       "      <th>playlist_name</th>\n",
       "    </tr>\n",
       "  </thead>\n",
       "  <tbody>\n",
       "    <tr>\n",
       "      <th>0</th>\n",
       "      <td>Codeine Dreaming (feat. Lil Wayne)</td>\n",
       "      <td>4DTpngLjoHj5gFxEZFeD3J</td>\n",
       "      <td>66</td>\n",
       "      <td>Kodak Black</td>\n",
       "      <td>Lil Wayne</td>\n",
       "      <td>Project Baby 2: All Grown Up (Deluxe Edition)</td>\n",
       "      <td>46SHBwWsqBkxI7EeeBEQG7</td>\n",
       "      <td>0.736</td>\n",
       "      <td>0.604</td>\n",
       "      <td>1</td>\n",
       "      <td>-7.357</td>\n",
       "      <td>0</td>\n",
       "      <td>0.222</td>\n",
       "      <td>0.0652</td>\n",
       "      <td>0.000064</td>\n",
       "      <td>0.574</td>\n",
       "      <td>155.007</td>\n",
       "      <td>Take that all the way up. I'm about to take of...</td>\n",
       "      <td>Best Hip-Hop Playlist</td>\n",
       "    </tr>\n",
       "    <tr>\n",
       "      <th>1</th>\n",
       "      <td>Bank Account</td>\n",
       "      <td>2fQrGHiQOvpL9UgPvtYy6G</td>\n",
       "      <td>18</td>\n",
       "      <td>21 Savage</td>\n",
       "      <td>None</td>\n",
       "      <td>Issa Album</td>\n",
       "      <td>1URnnhqYAYcrqrcwql10ft</td>\n",
       "      <td>0.884</td>\n",
       "      <td>0.347</td>\n",
       "      <td>8</td>\n",
       "      <td>-8.227</td>\n",
       "      <td>0</td>\n",
       "      <td>0.350</td>\n",
       "      <td>0.0150</td>\n",
       "      <td>0.000007</td>\n",
       "      <td>0.376</td>\n",
       "      <td>75.016</td>\n",
       "      <td>I tear down the mall with the bitch (for real)...</td>\n",
       "      <td>Best Hip-Hop Playlist</td>\n",
       "    </tr>\n",
       "    <tr>\n",
       "      <th>2</th>\n",
       "      <td>PICK IT UP (feat. A$AP Rocky)</td>\n",
       "      <td>3ncgNpxLoBQ65ABk4djDyd</td>\n",
       "      <td>66</td>\n",
       "      <td>Famous Dex</td>\n",
       "      <td>A$AP Rocky</td>\n",
       "      <td>Pick It Up (feat. A$AP Rocky)</td>\n",
       "      <td>0WOxhx4hikIsyF3CRPLC8W</td>\n",
       "      <td>0.921</td>\n",
       "      <td>0.467</td>\n",
       "      <td>1</td>\n",
       "      <td>-8.443</td>\n",
       "      <td>1</td>\n",
       "      <td>0.119</td>\n",
       "      <td>0.0149</td>\n",
       "      <td>0.000238</td>\n",
       "      <td>0.287</td>\n",
       "      <td>135.995</td>\n",
       "      <td>That's my fucking brother right there, ya dig?...</td>\n",
       "      <td>Best Hip-Hop Playlist</td>\n",
       "    </tr>\n",
       "    <tr>\n",
       "      <th>3</th>\n",
       "      <td>Ric Flair Drip (with Metro Boomin)</td>\n",
       "      <td>7sO5G9EABYOXQKNPNiE9NR</td>\n",
       "      <td>82</td>\n",
       "      <td>Offset</td>\n",
       "      <td>Metro Boomin</td>\n",
       "      <td>Without Warning</td>\n",
       "      <td>4DdkRBBYG6Yk9Ka8tdJ9BW</td>\n",
       "      <td>0.880</td>\n",
       "      <td>0.428</td>\n",
       "      <td>9</td>\n",
       "      <td>-8.280</td>\n",
       "      <td>1</td>\n",
       "      <td>0.206</td>\n",
       "      <td>0.1490</td>\n",
       "      <td>0.000051</td>\n",
       "      <td>0.333</td>\n",
       "      <td>100.007</td>\n",
       "      <td>Metro Boomin' want some more, nigga!. . Going ...</td>\n",
       "      <td>Best Hip-Hop Playlist</td>\n",
       "    </tr>\n",
       "    <tr>\n",
       "      <th>4</th>\n",
       "      <td>Roll in Peace (feat. XXXTENTACION)</td>\n",
       "      <td>40oKW22ZNNkEdZLJTScaQI</td>\n",
       "      <td>74</td>\n",
       "      <td>Kodak Black</td>\n",
       "      <td>XXXTENTACION</td>\n",
       "      <td>Project Baby 2: All Grown Up</td>\n",
       "      <td>46SHBwWsqBkxI7EeeBEQG7</td>\n",
       "      <td>0.747</td>\n",
       "      <td>0.524</td>\n",
       "      <td>10</td>\n",
       "      <td>-6.807</td>\n",
       "      <td>0</td>\n",
       "      <td>0.245</td>\n",
       "      <td>0.0306</td>\n",
       "      <td>0.000000</td>\n",
       "      <td>0.363</td>\n",
       "      <td>140.053</td>\n",
       "      <td>(We got London on the track!). These days, I d...</td>\n",
       "      <td>Best Hip-Hop Playlist</td>\n",
       "    </tr>\n",
       "  </tbody>\n",
       "</table>\n",
       "</div>"
      ],
      "text/plain": [
       "                           track_name                track_id  track_pop  \\\n",
       "0  Codeine Dreaming (feat. Lil Wayne)  4DTpngLjoHj5gFxEZFeD3J         66   \n",
       "1                        Bank Account  2fQrGHiQOvpL9UgPvtYy6G         18   \n",
       "2       PICK IT UP (feat. A$AP Rocky)  3ncgNpxLoBQ65ABk4djDyd         66   \n",
       "3  Ric Flair Drip (with Metro Boomin)  7sO5G9EABYOXQKNPNiE9NR         82   \n",
       "4  Roll in Peace (feat. XXXTENTACION)  40oKW22ZNNkEdZLJTScaQI         74   \n",
       "\n",
       "   artist_name featured_artist                                     album_name  \\\n",
       "0  Kodak Black       Lil Wayne  Project Baby 2: All Grown Up (Deluxe Edition)   \n",
       "1    21 Savage            None                                     Issa Album   \n",
       "2   Famous Dex      A$AP Rocky                  Pick It Up (feat. A$AP Rocky)   \n",
       "3       Offset    Metro Boomin                                Without Warning   \n",
       "4  Kodak Black    XXXTENTACION                   Project Baby 2: All Grown Up   \n",
       "\n",
       "                artist_id  danceability  energy  key  loudness  mode  \\\n",
       "0  46SHBwWsqBkxI7EeeBEQG7         0.736   0.604    1    -7.357     0   \n",
       "1  1URnnhqYAYcrqrcwql10ft         0.884   0.347    8    -8.227     0   \n",
       "2  0WOxhx4hikIsyF3CRPLC8W         0.921   0.467    1    -8.443     1   \n",
       "3  4DdkRBBYG6Yk9Ka8tdJ9BW         0.880   0.428    9    -8.280     1   \n",
       "4  46SHBwWsqBkxI7EeeBEQG7         0.747   0.524   10    -6.807     0   \n",
       "\n",
       "   speechiness  acousticness  intrumentalness  valence    tempo  \\\n",
       "0        0.222        0.0652         0.000064    0.574  155.007   \n",
       "1        0.350        0.0150         0.000007    0.376   75.016   \n",
       "2        0.119        0.0149         0.000238    0.287  135.995   \n",
       "3        0.206        0.1490         0.000051    0.333  100.007   \n",
       "4        0.245        0.0306         0.000000    0.363  140.053   \n",
       "\n",
       "                                        track_lyrics          playlist_name  \n",
       "0  Take that all the way up. I'm about to take of...  Best Hip-Hop Playlist  \n",
       "1  I tear down the mall with the bitch (for real)...  Best Hip-Hop Playlist  \n",
       "2  That's my fucking brother right there, ya dig?...  Best Hip-Hop Playlist  \n",
       "3  Metro Boomin' want some more, nigga!. . Going ...  Best Hip-Hop Playlist  \n",
       "4  (We got London on the track!). These days, I d...  Best Hip-Hop Playlist  "
      ]
     },
     "execution_count": 236,
     "metadata": {},
     "output_type": "execute_result"
    }
   ],
   "source": [
    "scrape_mult(test)"
   ]
  },
  {
   "cell_type": "code",
   "execution_count": 237,
   "id": "831fc257-2016-4f2f-9f55-ccbc79a64f85",
   "metadata": {},
   "outputs": [
    {
     "data": {
      "text/plain": [
       "(2141, 19)"
      ]
     },
     "execution_count": 237,
     "metadata": {},
     "output_type": "execute_result"
    }
   ],
   "source": [
    "df.shape"
   ]
  },
  {
   "cell_type": "code",
   "execution_count": 238,
   "id": "d9a1512b-016d-44b1-9fd9-1584c13f2d43",
   "metadata": {},
   "outputs": [
    {
     "data": {
      "text/html": [
       "<div>\n",
       "<style scoped>\n",
       "    .dataframe tbody tr th:only-of-type {\n",
       "        vertical-align: middle;\n",
       "    }\n",
       "\n",
       "    .dataframe tbody tr th {\n",
       "        vertical-align: top;\n",
       "    }\n",
       "\n",
       "    .dataframe thead th {\n",
       "        text-align: right;\n",
       "    }\n",
       "</style>\n",
       "<table border=\"1\" class=\"dataframe\">\n",
       "  <thead>\n",
       "    <tr style=\"text-align: right;\">\n",
       "      <th></th>\n",
       "      <th>track_name</th>\n",
       "      <th>track_id</th>\n",
       "      <th>track_pop</th>\n",
       "      <th>artist_name</th>\n",
       "      <th>featured_artist</th>\n",
       "      <th>album_name</th>\n",
       "      <th>artist_id</th>\n",
       "      <th>danceability</th>\n",
       "      <th>energy</th>\n",
       "      <th>key</th>\n",
       "      <th>loudness</th>\n",
       "      <th>mode</th>\n",
       "      <th>speechiness</th>\n",
       "      <th>acousticness</th>\n",
       "      <th>intrumentalness</th>\n",
       "      <th>valence</th>\n",
       "      <th>tempo</th>\n",
       "      <th>track_lyrics</th>\n",
       "      <th>playlist_name</th>\n",
       "    </tr>\n",
       "  </thead>\n",
       "  <tbody>\n",
       "    <tr>\n",
       "      <th>2136</th>\n",
       "      <td>I'm Gonna Be (500 Miles)</td>\n",
       "      <td>67iAlVNDDdddxqSD2EZhFs</td>\n",
       "      <td>74</td>\n",
       "      <td>The Proclaimers</td>\n",
       "      <td>None</td>\n",
       "      <td>Sunshine on Leith</td>\n",
       "      <td>1A92IAcd7A6npCA33oGM5i</td>\n",
       "      <td>0.851</td>\n",
       "      <td>0.551</td>\n",
       "      <td>4</td>\n",
       "      <td>-5.177</td>\n",
       "      <td>1</td>\n",
       "      <td>0.0396</td>\n",
       "      <td>0.1510</td>\n",
       "      <td>0.000000</td>\n",
       "      <td>0.807</td>\n",
       "      <td>131.922</td>\n",
       "      <td>Miscellaneous. I'm Gonna Be. When I wake up we...</td>\n",
       "      <td>Top 50 Happy Songs</td>\n",
       "    </tr>\n",
       "    <tr>\n",
       "      <th>2137</th>\n",
       "      <td>We Are Family - 1995 Remaster</td>\n",
       "      <td>5IKLwqBQG6KU6MP2zP80Nu</td>\n",
       "      <td>72</td>\n",
       "      <td>Sister Sledge</td>\n",
       "      <td>None</td>\n",
       "      <td>We Are Family (1995 Remaster)</td>\n",
       "      <td>6gkWznnJkdkwRPVcmnrays</td>\n",
       "      <td>0.784</td>\n",
       "      <td>0.893</td>\n",
       "      <td>7</td>\n",
       "      <td>-5.153</td>\n",
       "      <td>0</td>\n",
       "      <td>0.0923</td>\n",
       "      <td>0.3000</td>\n",
       "      <td>0.000016</td>\n",
       "      <td>0.819</td>\n",
       "      <td>118.738</td>\n",
       "      <td>\\t\\t\\tPlease check the spelling and try again ...</td>\n",
       "      <td>Top 50 Happy Songs</td>\n",
       "    </tr>\n",
       "    <tr>\n",
       "      <th>2138</th>\n",
       "      <td>I'll Be There for You - Theme From \"Friends\"</td>\n",
       "      <td>15tHagkk8z306XkyOHqiip</td>\n",
       "      <td>69</td>\n",
       "      <td>The Rembrandts</td>\n",
       "      <td>None</td>\n",
       "      <td>L.P.</td>\n",
       "      <td>0gDg7FEsF4Y1jWddJJgcn4</td>\n",
       "      <td>0.320</td>\n",
       "      <td>0.917</td>\n",
       "      <td>9</td>\n",
       "      <td>-5.903</td>\n",
       "      <td>1</td>\n",
       "      <td>0.0771</td>\n",
       "      <td>0.0717</td>\n",
       "      <td>0.000000</td>\n",
       "      <td>0.715</td>\n",
       "      <td>190.757</td>\n",
       "      <td>Your job's a joke, you're broke, your love lif...</td>\n",
       "      <td>Top 50 Happy Songs</td>\n",
       "    </tr>\n",
       "    <tr>\n",
       "      <th>2139</th>\n",
       "      <td>Ain't Nobody</td>\n",
       "      <td>2NVpYQqdraEcQwqT7GhUkh</td>\n",
       "      <td>68</td>\n",
       "      <td>Chaka Khan</td>\n",
       "      <td>None</td>\n",
       "      <td>Epiphany: The Best of Chaka Khan, Vol. 1</td>\n",
       "      <td>6mQfAAqZGBzIfrmlZCeaYT</td>\n",
       "      <td>0.800</td>\n",
       "      <td>0.878</td>\n",
       "      <td>1</td>\n",
       "      <td>-7.109</td>\n",
       "      <td>1</td>\n",
       "      <td>0.0434</td>\n",
       "      <td>0.1890</td>\n",
       "      <td>0.000104</td>\n",
       "      <td>0.816</td>\n",
       "      <td>104.282</td>\n",
       "      <td>That's the way it was. Happened so naturally. ...</td>\n",
       "      <td>Top 50 Happy Songs</td>\n",
       "    </tr>\n",
       "    <tr>\n",
       "      <th>2140</th>\n",
       "      <td>You Sexy Thing</td>\n",
       "      <td>714hERk9U1W8FMYkoC83CO</td>\n",
       "      <td>73</td>\n",
       "      <td>Hot Chocolate</td>\n",
       "      <td>None</td>\n",
       "      <td>Hot Chocolate</td>\n",
       "      <td>72VzFto8DYvKHocaHYNWSi</td>\n",
       "      <td>0.791</td>\n",
       "      <td>0.733</td>\n",
       "      <td>5</td>\n",
       "      <td>-5.465</td>\n",
       "      <td>1</td>\n",
       "      <td>0.0633</td>\n",
       "      <td>0.5230</td>\n",
       "      <td>0.001600</td>\n",
       "      <td>0.962</td>\n",
       "      <td>105.853</td>\n",
       "      <td>Miscellaneous. You Sexy Thing. I believe in mi...</td>\n",
       "      <td>Top 50 Happy Songs</td>\n",
       "    </tr>\n",
       "  </tbody>\n",
       "</table>\n",
       "</div>"
      ],
      "text/plain": [
       "                                        track_name                track_id  \\\n",
       "2136                      I'm Gonna Be (500 Miles)  67iAlVNDDdddxqSD2EZhFs   \n",
       "2137                 We Are Family - 1995 Remaster  5IKLwqBQG6KU6MP2zP80Nu   \n",
       "2138  I'll Be There for You - Theme From \"Friends\"  15tHagkk8z306XkyOHqiip   \n",
       "2139                                  Ain't Nobody  2NVpYQqdraEcQwqT7GhUkh   \n",
       "2140                                You Sexy Thing  714hERk9U1W8FMYkoC83CO   \n",
       "\n",
       "      track_pop      artist_name featured_artist  \\\n",
       "2136         74  The Proclaimers            None   \n",
       "2137         72    Sister Sledge            None   \n",
       "2138         69   The Rembrandts            None   \n",
       "2139         68       Chaka Khan            None   \n",
       "2140         73    Hot Chocolate            None   \n",
       "\n",
       "                                    album_name               artist_id  \\\n",
       "2136                         Sunshine on Leith  1A92IAcd7A6npCA33oGM5i   \n",
       "2137             We Are Family (1995 Remaster)  6gkWznnJkdkwRPVcmnrays   \n",
       "2138                                      L.P.  0gDg7FEsF4Y1jWddJJgcn4   \n",
       "2139  Epiphany: The Best of Chaka Khan, Vol. 1  6mQfAAqZGBzIfrmlZCeaYT   \n",
       "2140                             Hot Chocolate  72VzFto8DYvKHocaHYNWSi   \n",
       "\n",
       "      danceability  energy  key  loudness  mode  speechiness  acousticness  \\\n",
       "2136         0.851   0.551    4    -5.177     1       0.0396        0.1510   \n",
       "2137         0.784   0.893    7    -5.153     0       0.0923        0.3000   \n",
       "2138         0.320   0.917    9    -5.903     1       0.0771        0.0717   \n",
       "2139         0.800   0.878    1    -7.109     1       0.0434        0.1890   \n",
       "2140         0.791   0.733    5    -5.465     1       0.0633        0.5230   \n",
       "\n",
       "      intrumentalness  valence    tempo  \\\n",
       "2136         0.000000    0.807  131.922   \n",
       "2137         0.000016    0.819  118.738   \n",
       "2138         0.000000    0.715  190.757   \n",
       "2139         0.000104    0.816  104.282   \n",
       "2140         0.001600    0.962  105.853   \n",
       "\n",
       "                                           track_lyrics       playlist_name  \n",
       "2136  Miscellaneous. I'm Gonna Be. When I wake up we...  Top 50 Happy Songs  \n",
       "2137  \\t\\t\\tPlease check the spelling and try again ...  Top 50 Happy Songs  \n",
       "2138  Your job's a joke, you're broke, your love lif...  Top 50 Happy Songs  \n",
       "2139  That's the way it was. Happened so naturally. ...  Top 50 Happy Songs  \n",
       "2140  Miscellaneous. You Sexy Thing. I believe in mi...  Top 50 Happy Songs  "
      ]
     },
     "execution_count": 238,
     "metadata": {},
     "output_type": "execute_result"
    }
   ],
   "source": [
    "df.tail()"
   ]
  },
  {
   "cell_type": "code",
   "execution_count": 244,
   "id": "e5e4c4fb-df64-4d40-ae12-380f6c3c3b08",
   "metadata": {},
   "outputs": [],
   "source": [
    "\n",
    "#df.to_csv('datasets/checkpoint' + \"-\" + datetime.now().strftime('%Y-%m-%d-%H-%M-%S')+'.csv')"
   ]
  },
  {
   "cell_type": "code",
   "execution_count": 261,
   "id": "e1d7b910-3cd9-4b8d-b1bd-d817038b4404",
   "metadata": {},
   "outputs": [],
   "source": [
    "soundtracks = [\n",
    "    '2b4Jpy0qpbGk2cIF0ikGTD',\n",
    "    '3CDX7S8NcO0y3FuKIJEfSN',\n",
    "    '0JiVp7Z0pYKI8diUV6HJyQ',\n",
    "    '3XM4qNNOrn2PcaiyIe8nax',\n",
    "    '2rKy7TRijAqjKXoG7wDeuj',\n",
    "    '1BJTY5xJdhbPmS9Os2s9vf',\n",
    "    '5Rooa8nylHIiBOzP7PugBq',\n",
    "    '4nDffrxlJOBkmJlOmxkjXg',\n",
    "    '1KNl4AYfgZtOVm9KHkhPTF',\n",
    "    '2H11P9KofhWu9EYUOoqOPm',\n",
    "    '0pM9c17S6YMUiFw6Q2jLvp',\n",
    "]"
   ]
  },
  {
   "cell_type": "code",
   "execution_count": 264,
   "id": "1f5bd105-9497-435b-8ec9-5aaa7b98b72b",
   "metadata": {},
   "outputs": [
    {
     "name": "stderr",
     "output_type": "stream",
     "text": [
      "C:\\Users\\brice\\AppData\\Local\\Temp\\ipykernel_30668\\2790555846.py:90: FutureWarning: The frame.append method is deprecated and will be removed from pandas in a future version. Use pandas.concat instead.\n",
      "  df = df.append(df2, ignore_index=True)\n"
     ]
    },
    {
     "data": {
      "text/html": [
       "<div>\n",
       "<style scoped>\n",
       "    .dataframe tbody tr th:only-of-type {\n",
       "        vertical-align: middle;\n",
       "    }\n",
       "\n",
       "    .dataframe tbody tr th {\n",
       "        vertical-align: top;\n",
       "    }\n",
       "\n",
       "    .dataframe thead th {\n",
       "        text-align: right;\n",
       "    }\n",
       "</style>\n",
       "<table border=\"1\" class=\"dataframe\">\n",
       "  <thead>\n",
       "    <tr style=\"text-align: right;\">\n",
       "      <th></th>\n",
       "      <th>track_name</th>\n",
       "      <th>track_id</th>\n",
       "      <th>track_pop</th>\n",
       "      <th>artist_name</th>\n",
       "      <th>featured_artist</th>\n",
       "      <th>album_name</th>\n",
       "      <th>artist_id</th>\n",
       "      <th>danceability</th>\n",
       "      <th>energy</th>\n",
       "      <th>key</th>\n",
       "      <th>loudness</th>\n",
       "      <th>mode</th>\n",
       "      <th>speechiness</th>\n",
       "      <th>acousticness</th>\n",
       "      <th>intrumentalness</th>\n",
       "      <th>valence</th>\n",
       "      <th>tempo</th>\n",
       "      <th>track_lyrics</th>\n",
       "      <th>playlist_name</th>\n",
       "    </tr>\n",
       "  </thead>\n",
       "  <tbody>\n",
       "    <tr>\n",
       "      <th>0</th>\n",
       "      <td>Codeine Dreaming (feat. Lil Wayne)</td>\n",
       "      <td>4DTpngLjoHj5gFxEZFeD3J</td>\n",
       "      <td>66</td>\n",
       "      <td>Kodak Black</td>\n",
       "      <td>Lil Wayne</td>\n",
       "      <td>Project Baby 2: All Grown Up (Deluxe Edition)</td>\n",
       "      <td>46SHBwWsqBkxI7EeeBEQG7</td>\n",
       "      <td>0.736</td>\n",
       "      <td>0.604</td>\n",
       "      <td>1</td>\n",
       "      <td>-7.357</td>\n",
       "      <td>0</td>\n",
       "      <td>0.222</td>\n",
       "      <td>0.0652</td>\n",
       "      <td>0.000064</td>\n",
       "      <td>0.574</td>\n",
       "      <td>155.007</td>\n",
       "      <td>Take that all the way up. I'm about to take of...</td>\n",
       "      <td>Best Hip-Hop Playlist</td>\n",
       "    </tr>\n",
       "    <tr>\n",
       "      <th>1</th>\n",
       "      <td>Bank Account</td>\n",
       "      <td>2fQrGHiQOvpL9UgPvtYy6G</td>\n",
       "      <td>18</td>\n",
       "      <td>21 Savage</td>\n",
       "      <td>None</td>\n",
       "      <td>Issa Album</td>\n",
       "      <td>1URnnhqYAYcrqrcwql10ft</td>\n",
       "      <td>0.884</td>\n",
       "      <td>0.347</td>\n",
       "      <td>8</td>\n",
       "      <td>-8.227</td>\n",
       "      <td>0</td>\n",
       "      <td>0.350</td>\n",
       "      <td>0.0150</td>\n",
       "      <td>0.000007</td>\n",
       "      <td>0.376</td>\n",
       "      <td>75.016</td>\n",
       "      <td>I tear down the mall with the bitch (for real)...</td>\n",
       "      <td>Best Hip-Hop Playlist</td>\n",
       "    </tr>\n",
       "    <tr>\n",
       "      <th>2</th>\n",
       "      <td>PICK IT UP (feat. A$AP Rocky)</td>\n",
       "      <td>3ncgNpxLoBQ65ABk4djDyd</td>\n",
       "      <td>66</td>\n",
       "      <td>Famous Dex</td>\n",
       "      <td>A$AP Rocky</td>\n",
       "      <td>Pick It Up (feat. A$AP Rocky)</td>\n",
       "      <td>0WOxhx4hikIsyF3CRPLC8W</td>\n",
       "      <td>0.921</td>\n",
       "      <td>0.467</td>\n",
       "      <td>1</td>\n",
       "      <td>-8.443</td>\n",
       "      <td>1</td>\n",
       "      <td>0.119</td>\n",
       "      <td>0.0149</td>\n",
       "      <td>0.000238</td>\n",
       "      <td>0.287</td>\n",
       "      <td>135.995</td>\n",
       "      <td>That's my fucking brother right there, ya dig?...</td>\n",
       "      <td>Best Hip-Hop Playlist</td>\n",
       "    </tr>\n",
       "    <tr>\n",
       "      <th>3</th>\n",
       "      <td>Ric Flair Drip (with Metro Boomin)</td>\n",
       "      <td>7sO5G9EABYOXQKNPNiE9NR</td>\n",
       "      <td>82</td>\n",
       "      <td>Offset</td>\n",
       "      <td>Metro Boomin</td>\n",
       "      <td>Without Warning</td>\n",
       "      <td>4DdkRBBYG6Yk9Ka8tdJ9BW</td>\n",
       "      <td>0.880</td>\n",
       "      <td>0.428</td>\n",
       "      <td>9</td>\n",
       "      <td>-8.280</td>\n",
       "      <td>1</td>\n",
       "      <td>0.206</td>\n",
       "      <td>0.1490</td>\n",
       "      <td>0.000051</td>\n",
       "      <td>0.333</td>\n",
       "      <td>100.007</td>\n",
       "      <td>Metro Boomin' want some more, nigga!. . Going ...</td>\n",
       "      <td>Best Hip-Hop Playlist</td>\n",
       "    </tr>\n",
       "    <tr>\n",
       "      <th>4</th>\n",
       "      <td>Roll in Peace (feat. XXXTENTACION)</td>\n",
       "      <td>40oKW22ZNNkEdZLJTScaQI</td>\n",
       "      <td>74</td>\n",
       "      <td>Kodak Black</td>\n",
       "      <td>XXXTENTACION</td>\n",
       "      <td>Project Baby 2: All Grown Up</td>\n",
       "      <td>46SHBwWsqBkxI7EeeBEQG7</td>\n",
       "      <td>0.747</td>\n",
       "      <td>0.524</td>\n",
       "      <td>10</td>\n",
       "      <td>-6.807</td>\n",
       "      <td>0</td>\n",
       "      <td>0.245</td>\n",
       "      <td>0.0306</td>\n",
       "      <td>0.000000</td>\n",
       "      <td>0.363</td>\n",
       "      <td>140.053</td>\n",
       "      <td>(We got London on the track!). These days, I d...</td>\n",
       "      <td>Best Hip-Hop Playlist</td>\n",
       "    </tr>\n",
       "  </tbody>\n",
       "</table>\n",
       "</div>"
      ],
      "text/plain": [
       "                           track_name                track_id  track_pop  \\\n",
       "0  Codeine Dreaming (feat. Lil Wayne)  4DTpngLjoHj5gFxEZFeD3J         66   \n",
       "1                        Bank Account  2fQrGHiQOvpL9UgPvtYy6G         18   \n",
       "2       PICK IT UP (feat. A$AP Rocky)  3ncgNpxLoBQ65ABk4djDyd         66   \n",
       "3  Ric Flair Drip (with Metro Boomin)  7sO5G9EABYOXQKNPNiE9NR         82   \n",
       "4  Roll in Peace (feat. XXXTENTACION)  40oKW22ZNNkEdZLJTScaQI         74   \n",
       "\n",
       "   artist_name featured_artist                                     album_name  \\\n",
       "0  Kodak Black       Lil Wayne  Project Baby 2: All Grown Up (Deluxe Edition)   \n",
       "1    21 Savage            None                                     Issa Album   \n",
       "2   Famous Dex      A$AP Rocky                  Pick It Up (feat. A$AP Rocky)   \n",
       "3       Offset    Metro Boomin                                Without Warning   \n",
       "4  Kodak Black    XXXTENTACION                   Project Baby 2: All Grown Up   \n",
       "\n",
       "                artist_id  danceability  energy  key  loudness  mode  \\\n",
       "0  46SHBwWsqBkxI7EeeBEQG7         0.736   0.604    1    -7.357     0   \n",
       "1  1URnnhqYAYcrqrcwql10ft         0.884   0.347    8    -8.227     0   \n",
       "2  0WOxhx4hikIsyF3CRPLC8W         0.921   0.467    1    -8.443     1   \n",
       "3  4DdkRBBYG6Yk9Ka8tdJ9BW         0.880   0.428    9    -8.280     1   \n",
       "4  46SHBwWsqBkxI7EeeBEQG7         0.747   0.524   10    -6.807     0   \n",
       "\n",
       "   speechiness  acousticness  intrumentalness  valence    tempo  \\\n",
       "0        0.222        0.0652         0.000064    0.574  155.007   \n",
       "1        0.350        0.0150         0.000007    0.376   75.016   \n",
       "2        0.119        0.0149         0.000238    0.287  135.995   \n",
       "3        0.206        0.1490         0.000051    0.333  100.007   \n",
       "4        0.245        0.0306         0.000000    0.363  140.053   \n",
       "\n",
       "                                        track_lyrics          playlist_name  \n",
       "0  Take that all the way up. I'm about to take of...  Best Hip-Hop Playlist  \n",
       "1  I tear down the mall with the bitch (for real)...  Best Hip-Hop Playlist  \n",
       "2  That's my fucking brother right there, ya dig?...  Best Hip-Hop Playlist  \n",
       "3  Metro Boomin' want some more, nigga!. . Going ...  Best Hip-Hop Playlist  \n",
       "4  (We got London on the track!). These days, I d...  Best Hip-Hop Playlist  "
      ]
     },
     "execution_count": 264,
     "metadata": {},
     "output_type": "execute_result"
    }
   ],
   "source": [
    "#Only used maybe half of these playlist, trouble shooting errors and trying smaller amounts\n",
    "scrape_mult(soundtracks)"
   ]
  },
  {
   "cell_type": "code",
   "execution_count": 265,
   "id": "5a0e55bb-6546-4d31-bcac-80fc8a644660",
   "metadata": {},
   "outputs": [
    {
     "data": {
      "text/plain": [
       "(7253, 19)"
      ]
     },
     "execution_count": 265,
     "metadata": {},
     "output_type": "execute_result"
    }
   ],
   "source": [
    "df.shape"
   ]
  },
  {
   "cell_type": "code",
   "execution_count": 268,
   "id": "f49dda44-8994-46b1-af7d-7fa915f886eb",
   "metadata": {},
   "outputs": [],
   "source": [
    "df = df.drop_duplicates()"
   ]
  },
  {
   "cell_type": "code",
   "execution_count": 271,
   "id": "a09c9f8b-5340-4db1-964c-9214a4614726",
   "metadata": {},
   "outputs": [],
   "source": [
    "df.to_csv('datasets/checkpoint2.csv')"
   ]
  },
  {
   "cell_type": "code",
   "execution_count": 275,
   "id": "25b5d2c4-21e8-41cb-b82b-416944b6ec6d",
   "metadata": {},
   "outputs": [],
   "source": [
    "soundtracks = [\n",
    "    '4RVf1hHtwvMEED3yuCNi8q'\n",
    "]"
   ]
  },
  {
   "cell_type": "code",
   "execution_count": 276,
   "id": "0ee3f1e1-2bf2-4907-815f-e25df8926a88",
   "metadata": {},
   "outputs": [
    {
     "name": "stderr",
     "output_type": "stream",
     "text": [
      "C:\\Users\\brice\\AppData\\Local\\Temp\\ipykernel_30668\\131950147.py:90: FutureWarning: The frame.append method is deprecated and will be removed from pandas in a future version. Use pandas.concat instead.\n",
      "  df = df.append(df2, ignore_index=True)\n"
     ]
    },
    {
     "data": {
      "text/html": [
       "<div>\n",
       "<style scoped>\n",
       "    .dataframe tbody tr th:only-of-type {\n",
       "        vertical-align: middle;\n",
       "    }\n",
       "\n",
       "    .dataframe tbody tr th {\n",
       "        vertical-align: top;\n",
       "    }\n",
       "\n",
       "    .dataframe thead th {\n",
       "        text-align: right;\n",
       "    }\n",
       "</style>\n",
       "<table border=\"1\" class=\"dataframe\">\n",
       "  <thead>\n",
       "    <tr style=\"text-align: right;\">\n",
       "      <th></th>\n",
       "      <th>track_name</th>\n",
       "      <th>track_id</th>\n",
       "      <th>track_pop</th>\n",
       "      <th>artist_name</th>\n",
       "      <th>featured_artist</th>\n",
       "      <th>album_name</th>\n",
       "      <th>artist_id</th>\n",
       "      <th>danceability</th>\n",
       "      <th>energy</th>\n",
       "      <th>key</th>\n",
       "      <th>loudness</th>\n",
       "      <th>mode</th>\n",
       "      <th>speechiness</th>\n",
       "      <th>acousticness</th>\n",
       "      <th>intrumentalness</th>\n",
       "      <th>valence</th>\n",
       "      <th>tempo</th>\n",
       "      <th>track_lyrics</th>\n",
       "      <th>playlist_name</th>\n",
       "    </tr>\n",
       "  </thead>\n",
       "  <tbody>\n",
       "    <tr>\n",
       "      <th>0</th>\n",
       "      <td>Codeine Dreaming (feat. Lil Wayne)</td>\n",
       "      <td>4DTpngLjoHj5gFxEZFeD3J</td>\n",
       "      <td>66</td>\n",
       "      <td>Kodak Black</td>\n",
       "      <td>Lil Wayne</td>\n",
       "      <td>Project Baby 2: All Grown Up (Deluxe Edition)</td>\n",
       "      <td>46SHBwWsqBkxI7EeeBEQG7</td>\n",
       "      <td>0.736</td>\n",
       "      <td>0.604</td>\n",
       "      <td>1</td>\n",
       "      <td>-7.357</td>\n",
       "      <td>0</td>\n",
       "      <td>0.222</td>\n",
       "      <td>0.0652</td>\n",
       "      <td>0.000064</td>\n",
       "      <td>0.574</td>\n",
       "      <td>155.007</td>\n",
       "      <td>Take that all the way up. I'm about to take of...</td>\n",
       "      <td>Best Hip-Hop Playlist</td>\n",
       "    </tr>\n",
       "    <tr>\n",
       "      <th>1</th>\n",
       "      <td>Bank Account</td>\n",
       "      <td>2fQrGHiQOvpL9UgPvtYy6G</td>\n",
       "      <td>18</td>\n",
       "      <td>21 Savage</td>\n",
       "      <td>None</td>\n",
       "      <td>Issa Album</td>\n",
       "      <td>1URnnhqYAYcrqrcwql10ft</td>\n",
       "      <td>0.884</td>\n",
       "      <td>0.347</td>\n",
       "      <td>8</td>\n",
       "      <td>-8.227</td>\n",
       "      <td>0</td>\n",
       "      <td>0.350</td>\n",
       "      <td>0.0150</td>\n",
       "      <td>0.000007</td>\n",
       "      <td>0.376</td>\n",
       "      <td>75.016</td>\n",
       "      <td>I tear down the mall with the bitch (for real)...</td>\n",
       "      <td>Best Hip-Hop Playlist</td>\n",
       "    </tr>\n",
       "    <tr>\n",
       "      <th>2</th>\n",
       "      <td>PICK IT UP (feat. A$AP Rocky)</td>\n",
       "      <td>3ncgNpxLoBQ65ABk4djDyd</td>\n",
       "      <td>66</td>\n",
       "      <td>Famous Dex</td>\n",
       "      <td>A$AP Rocky</td>\n",
       "      <td>Pick It Up (feat. A$AP Rocky)</td>\n",
       "      <td>0WOxhx4hikIsyF3CRPLC8W</td>\n",
       "      <td>0.921</td>\n",
       "      <td>0.467</td>\n",
       "      <td>1</td>\n",
       "      <td>-8.443</td>\n",
       "      <td>1</td>\n",
       "      <td>0.119</td>\n",
       "      <td>0.0149</td>\n",
       "      <td>0.000238</td>\n",
       "      <td>0.287</td>\n",
       "      <td>135.995</td>\n",
       "      <td>That's my fucking brother right there, ya dig?...</td>\n",
       "      <td>Best Hip-Hop Playlist</td>\n",
       "    </tr>\n",
       "    <tr>\n",
       "      <th>3</th>\n",
       "      <td>Ric Flair Drip (with Metro Boomin)</td>\n",
       "      <td>7sO5G9EABYOXQKNPNiE9NR</td>\n",
       "      <td>82</td>\n",
       "      <td>Offset</td>\n",
       "      <td>Metro Boomin</td>\n",
       "      <td>Without Warning</td>\n",
       "      <td>4DdkRBBYG6Yk9Ka8tdJ9BW</td>\n",
       "      <td>0.880</td>\n",
       "      <td>0.428</td>\n",
       "      <td>9</td>\n",
       "      <td>-8.280</td>\n",
       "      <td>1</td>\n",
       "      <td>0.206</td>\n",
       "      <td>0.1490</td>\n",
       "      <td>0.000051</td>\n",
       "      <td>0.333</td>\n",
       "      <td>100.007</td>\n",
       "      <td>Metro Boomin' want some more, nigga!. . Going ...</td>\n",
       "      <td>Best Hip-Hop Playlist</td>\n",
       "    </tr>\n",
       "    <tr>\n",
       "      <th>4</th>\n",
       "      <td>Roll in Peace (feat. XXXTENTACION)</td>\n",
       "      <td>40oKW22ZNNkEdZLJTScaQI</td>\n",
       "      <td>74</td>\n",
       "      <td>Kodak Black</td>\n",
       "      <td>XXXTENTACION</td>\n",
       "      <td>Project Baby 2: All Grown Up</td>\n",
       "      <td>46SHBwWsqBkxI7EeeBEQG7</td>\n",
       "      <td>0.747</td>\n",
       "      <td>0.524</td>\n",
       "      <td>10</td>\n",
       "      <td>-6.807</td>\n",
       "      <td>0</td>\n",
       "      <td>0.245</td>\n",
       "      <td>0.0306</td>\n",
       "      <td>0.000000</td>\n",
       "      <td>0.363</td>\n",
       "      <td>140.053</td>\n",
       "      <td>(We got London on the track!). These days, I d...</td>\n",
       "      <td>Best Hip-Hop Playlist</td>\n",
       "    </tr>\n",
       "  </tbody>\n",
       "</table>\n",
       "</div>"
      ],
      "text/plain": [
       "                           track_name                track_id  track_pop  \\\n",
       "0  Codeine Dreaming (feat. Lil Wayne)  4DTpngLjoHj5gFxEZFeD3J         66   \n",
       "1                        Bank Account  2fQrGHiQOvpL9UgPvtYy6G         18   \n",
       "2       PICK IT UP (feat. A$AP Rocky)  3ncgNpxLoBQ65ABk4djDyd         66   \n",
       "3  Ric Flair Drip (with Metro Boomin)  7sO5G9EABYOXQKNPNiE9NR         82   \n",
       "4  Roll in Peace (feat. XXXTENTACION)  40oKW22ZNNkEdZLJTScaQI         74   \n",
       "\n",
       "   artist_name featured_artist                                     album_name  \\\n",
       "0  Kodak Black       Lil Wayne  Project Baby 2: All Grown Up (Deluxe Edition)   \n",
       "1    21 Savage            None                                     Issa Album   \n",
       "2   Famous Dex      A$AP Rocky                  Pick It Up (feat. A$AP Rocky)   \n",
       "3       Offset    Metro Boomin                                Without Warning   \n",
       "4  Kodak Black    XXXTENTACION                   Project Baby 2: All Grown Up   \n",
       "\n",
       "                artist_id  danceability  energy  key  loudness  mode  \\\n",
       "0  46SHBwWsqBkxI7EeeBEQG7         0.736   0.604    1    -7.357     0   \n",
       "1  1URnnhqYAYcrqrcwql10ft         0.884   0.347    8    -8.227     0   \n",
       "2  0WOxhx4hikIsyF3CRPLC8W         0.921   0.467    1    -8.443     1   \n",
       "3  4DdkRBBYG6Yk9Ka8tdJ9BW         0.880   0.428    9    -8.280     1   \n",
       "4  46SHBwWsqBkxI7EeeBEQG7         0.747   0.524   10    -6.807     0   \n",
       "\n",
       "   speechiness  acousticness  intrumentalness  valence    tempo  \\\n",
       "0        0.222        0.0652         0.000064    0.574  155.007   \n",
       "1        0.350        0.0150         0.000007    0.376   75.016   \n",
       "2        0.119        0.0149         0.000238    0.287  135.995   \n",
       "3        0.206        0.1490         0.000051    0.333  100.007   \n",
       "4        0.245        0.0306         0.000000    0.363  140.053   \n",
       "\n",
       "                                        track_lyrics          playlist_name  \n",
       "0  Take that all the way up. I'm about to take of...  Best Hip-Hop Playlist  \n",
       "1  I tear down the mall with the bitch (for real)...  Best Hip-Hop Playlist  \n",
       "2  That's my fucking brother right there, ya dig?...  Best Hip-Hop Playlist  \n",
       "3  Metro Boomin' want some more, nigga!. . Going ...  Best Hip-Hop Playlist  \n",
       "4  (We got London on the track!). These days, I d...  Best Hip-Hop Playlist  "
      ]
     },
     "execution_count": 276,
     "metadata": {},
     "output_type": "execute_result"
    }
   ],
   "source": [
    "scrape_mult(soundtracks)"
   ]
  },
  {
   "cell_type": "code",
   "execution_count": 277,
   "id": "b9edb5b8-78bb-451e-9c77-1f0faa9d4a09",
   "metadata": {},
   "outputs": [
    {
     "data": {
      "text/plain": [
       "(10601, 19)"
      ]
     },
     "execution_count": 277,
     "metadata": {},
     "output_type": "execute_result"
    }
   ],
   "source": [
    "df.shape"
   ]
  },
  {
   "cell_type": "code",
   "execution_count": 18,
   "id": "983ebd71-3945-4875-8cda-a5fe3a5dd1f3",
   "metadata": {},
   "outputs": [
    {
     "data": {
      "text/plain": [
       "(5617, 20)"
      ]
     },
     "execution_count": 18,
     "metadata": {},
     "output_type": "execute_result"
    }
   ],
   "source": [
    "df = df.drop_duplicates()\n",
    "df.shape"
   ]
  },
  {
   "cell_type": "code",
   "execution_count": 4,
   "id": "6418e50b-957d-4bc0-829c-0a1a00d0de1c",
   "metadata": {},
   "outputs": [],
   "source": [
    "#organizing which playlist were attempted to scrape and which ones went through\n",
    "soundtracks = [\n",
    "    '3ahkwrXrfObks9j6g1XmBd',\n",
    "    '53Bf0yOM2uafN1ZUqCmtPE',\n",
    "    '6DsHDZmrOgLBmxa9DJE6sb',\n",
    "    '5Rooa8nylHIiBOzP7PugBq',\n",
    "    '4nDffrxlJOBkmJlOmxkjXg',\n",
    "    '1KNl4AYfgZtOVm9KHkhPTF',\n",
    "    '2H11P9KofhWu9EYUOoqOPm',\n",
    "    '0pM9c17S6YMUiFw6Q2jLvp',\n",
    "    '2b4Jpy0qpbGk2cIF0ikGTD',\n",
    "    '3CDX7S8NcO0y3FuKIJEfSN',\n",
    "    '0JiVp7Z0pYKI8diUV6HJyQ',\n",
    "    '3XM4qNNOrn2PcaiyIe8nax',\n",
    "    '2rKy7TRijAqjKXoG7wDeuj',\n",
    "    '1BJTY5xJdhbPmS9Os2s9vf',\n",
    "    '5Rooa8nylHIiBOzP7PugBq',\n",
    "    '4nDffrxlJOBkmJlOmxkjXg',\n",
    "    '1KNl4AYfgZtOVm9KHkhPTF',\n",
    "    '2H11P9KofhWu9EYUOoqOPm',\n",
    "    '0pM9c17S6YMUiFw6Q2jLvp',\n",
    "    '4RVf1hHtwvMEED3yuCNi8q'\n",
    "]"
   ]
  },
  {
   "cell_type": "code",
   "execution_count": 1,
   "id": "6f501e41-4a67-4e36-9a0c-5bb193e3ec10",
   "metadata": {},
   "outputs": [],
   "source": [
    "#scrape_mult(soundtracks)"
   ]
  },
  {
   "cell_type": "code",
   "execution_count": 10,
   "id": "220f7ce2-135f-4188-be13-b9c4df512f00",
   "metadata": {},
   "outputs": [],
   "source": [
    "df = pd.read_csv('datasets/checkpoint2.csv', index_col=False)"
   ]
  },
  {
   "cell_type": "code",
   "execution_count": 11,
   "id": "ac81ed4b-4c1d-4a11-82c4-d83e2084d6f3",
   "metadata": {},
   "outputs": [
    {
     "data": {
      "text/plain": [
       "(4037, 20)"
      ]
     },
     "execution_count": 11,
     "metadata": {},
     "output_type": "execute_result"
    }
   ],
   "source": [
    "df.shape"
   ]
  },
  {
   "cell_type": "code",
   "execution_count": 17,
   "id": "3bdc1ca4-31bd-4e0a-9d52-b427f6c6dd4b",
   "metadata": {},
   "outputs": [
    {
     "data": {
      "text/plain": [
       "(356528, 20)"
      ]
     },
     "execution_count": 17,
     "metadata": {},
     "output_type": "execute_result"
    }
   ],
   "source": [
    "#df.shape"
   ]
  },
  {
   "cell_type": "code",
   "execution_count": 14,
   "id": "937e8e0c-2063-45f8-b125-26aa799e1298",
   "metadata": {},
   "outputs": [],
   "source": [
    "#df = df.drop_duplicates()"
   ]
  },
  {
   "cell_type": "code",
   "execution_count": 13,
   "id": "210f6541-19c4-4b2b-886b-c0753cffe81d",
   "metadata": {},
   "outputs": [
    {
     "data": {
      "text/html": [
       "<div>\n",
       "<style scoped>\n",
       "    .dataframe tbody tr th:only-of-type {\n",
       "        vertical-align: middle;\n",
       "    }\n",
       "\n",
       "    .dataframe tbody tr th {\n",
       "        vertical-align: top;\n",
       "    }\n",
       "\n",
       "    .dataframe thead th {\n",
       "        text-align: right;\n",
       "    }\n",
       "</style>\n",
       "<table border=\"1\" class=\"dataframe\">\n",
       "  <thead>\n",
       "    <tr style=\"text-align: right;\">\n",
       "      <th></th>\n",
       "      <th>Unnamed: 0</th>\n",
       "      <th>track_name</th>\n",
       "      <th>track_id</th>\n",
       "      <th>track_pop</th>\n",
       "      <th>artist_name</th>\n",
       "      <th>featured_artist</th>\n",
       "      <th>album_name</th>\n",
       "      <th>artist_id</th>\n",
       "      <th>danceability</th>\n",
       "      <th>energy</th>\n",
       "      <th>key</th>\n",
       "      <th>loudness</th>\n",
       "      <th>mode</th>\n",
       "      <th>speechiness</th>\n",
       "      <th>acousticness</th>\n",
       "      <th>intrumentalness</th>\n",
       "      <th>valence</th>\n",
       "      <th>tempo</th>\n",
       "      <th>track_lyrics</th>\n",
       "      <th>playlist_name</th>\n",
       "    </tr>\n",
       "  </thead>\n",
       "  <tbody>\n",
       "    <tr>\n",
       "      <th>0</th>\n",
       "      <td>0</td>\n",
       "      <td>Codeine Dreaming (feat. Lil Wayne)</td>\n",
       "      <td>4DTpngLjoHj5gFxEZFeD3J</td>\n",
       "      <td>66</td>\n",
       "      <td>Kodak Black</td>\n",
       "      <td>Lil Wayne</td>\n",
       "      <td>Project Baby 2: All Grown Up (Deluxe Edition)</td>\n",
       "      <td>46SHBwWsqBkxI7EeeBEQG7</td>\n",
       "      <td>0.736</td>\n",
       "      <td>0.604</td>\n",
       "      <td>1</td>\n",
       "      <td>-7.357</td>\n",
       "      <td>0</td>\n",
       "      <td>0.222</td>\n",
       "      <td>0.0652</td>\n",
       "      <td>0.000064</td>\n",
       "      <td>0.574</td>\n",
       "      <td>155.007</td>\n",
       "      <td>Take that all the way up. I'm about to take of...</td>\n",
       "      <td>Best Hip-Hop Playlist</td>\n",
       "    </tr>\n",
       "    <tr>\n",
       "      <th>1</th>\n",
       "      <td>1</td>\n",
       "      <td>Bank Account</td>\n",
       "      <td>2fQrGHiQOvpL9UgPvtYy6G</td>\n",
       "      <td>18</td>\n",
       "      <td>21 Savage</td>\n",
       "      <td>None</td>\n",
       "      <td>Issa Album</td>\n",
       "      <td>1URnnhqYAYcrqrcwql10ft</td>\n",
       "      <td>0.884</td>\n",
       "      <td>0.347</td>\n",
       "      <td>8</td>\n",
       "      <td>-8.227</td>\n",
       "      <td>0</td>\n",
       "      <td>0.350</td>\n",
       "      <td>0.0150</td>\n",
       "      <td>0.000007</td>\n",
       "      <td>0.376</td>\n",
       "      <td>75.016</td>\n",
       "      <td>I tear down the mall with the bitch (for real)...</td>\n",
       "      <td>Best Hip-Hop Playlist</td>\n",
       "    </tr>\n",
       "  </tbody>\n",
       "</table>\n",
       "</div>"
      ],
      "text/plain": [
       "   Unnamed: 0                          track_name                track_id  \\\n",
       "0           0  Codeine Dreaming (feat. Lil Wayne)  4DTpngLjoHj5gFxEZFeD3J   \n",
       "1           1                        Bank Account  2fQrGHiQOvpL9UgPvtYy6G   \n",
       "\n",
       "   track_pop  artist_name featured_artist  \\\n",
       "0         66  Kodak Black       Lil Wayne   \n",
       "1         18    21 Savage            None   \n",
       "\n",
       "                                      album_name               artist_id  \\\n",
       "0  Project Baby 2: All Grown Up (Deluxe Edition)  46SHBwWsqBkxI7EeeBEQG7   \n",
       "1                                     Issa Album  1URnnhqYAYcrqrcwql10ft   \n",
       "\n",
       "   danceability  energy  key  loudness  mode  speechiness  acousticness  \\\n",
       "0         0.736   0.604    1    -7.357     0        0.222        0.0652   \n",
       "1         0.884   0.347    8    -8.227     0        0.350        0.0150   \n",
       "\n",
       "   intrumentalness  valence    tempo  \\\n",
       "0         0.000064    0.574  155.007   \n",
       "1         0.000007    0.376   75.016   \n",
       "\n",
       "                                        track_lyrics          playlist_name  \n",
       "0  Take that all the way up. I'm about to take of...  Best Hip-Hop Playlist  \n",
       "1  I tear down the mall with the bitch (for real)...  Best Hip-Hop Playlist  "
      ]
     },
     "execution_count": 13,
     "metadata": {},
     "output_type": "execute_result"
    }
   ],
   "source": [
    "df.head(2)"
   ]
  },
  {
   "cell_type": "code",
   "execution_count": 27,
   "id": "cc30529f-08a8-48a4-b429-6dd0f109947b",
   "metadata": {},
   "outputs": [],
   "source": [
    "df2 = pd.read_csv('datasets/checkpoint.csv', index_col=False)"
   ]
  },
  {
   "cell_type": "code",
   "execution_count": 28,
   "id": "e15971a7-c700-495f-acab-a1b3e84a2143",
   "metadata": {},
   "outputs": [
    {
     "data": {
      "text/plain": [
       "array(['Best Hip-Hop Playlist'], dtype=object)"
      ]
     },
     "execution_count": 28,
     "metadata": {},
     "output_type": "execute_result"
    }
   ],
   "source": [
    "df2['playlist_name'].unique()"
   ]
  },
  {
   "cell_type": "markdown",
   "id": "38f1b3b7-7caa-4792-83e0-9a7ec32c7c11",
   "metadata": {},
   "source": [
    "### Troubleshot many errors, lost playlists in the process. Checking which playlists went through."
   ]
  },
  {
   "cell_type": "code",
   "execution_count": 17,
   "id": "b3313c6e-312f-4482-bb0b-275591791644",
   "metadata": {},
   "outputs": [
    {
     "data": {
      "text/plain": [
       "array(['Best Hip-Hop Playlist', 'Global Top 50 | 2022 Hits',\n",
       "       'The Best Farewell Songs Top 50 Funeral Songs ',\n",
       "       'Top 50 Happy Songs', 'Top 500 Classic Rock Tracks',\n",
       "       'TOP 500: Best Club Hits of All Time',\n",
       "       'Spotify Top 500 Most Streamed Songs of All Time'], dtype=object)"
      ]
     },
     "execution_count": 17,
     "metadata": {},
     "output_type": "execute_result"
    }
   ],
   "source": [
    "#Playlists used\n",
    "df['playlist_name'].unique()"
   ]
  },
  {
   "cell_type": "code",
   "execution_count": 134,
   "id": "0920d411-d43c-4036-ab43-0b25d3227bf6",
   "metadata": {},
   "outputs": [],
   "source": [
    "#df[df['playlist_name']=='Global Top 50 | 2022 Hits'][:5]"
   ]
  },
  {
   "cell_type": "code",
   "execution_count": 19,
   "id": "af125f25-6c48-4839-8770-68415325b37d",
   "metadata": {},
   "outputs": [],
   "source": [
    "#looking for which playlist went through\n",
    "def soundtrack_names(soundtracks):\n",
    "    for st in soundtracks:\n",
    "        playlist = spotify.playlist(st)\n",
    "        print(playlist.name + ': ' + playlist.id)"
   ]
  },
  {
   "cell_type": "code",
   "execution_count": 25,
   "id": "a01d204b-4ea8-49b2-b343-09806cfb1a5a",
   "metadata": {},
   "outputs": [],
   "source": [
    "soundtracks = [\n",
    "    '0aXnOizaJ0eM1YIIcsSXSO',\n",
    "    '1KNl4AYfgZtOVm9KHkhPTF',\n",
    "    '2H11P9KofhWu9EYUOoqOPm',\n",
    "    '3ahkwrXrfObks9j6g1XmBd',\n",
    "    '53Bf0yOM2uafN1ZUqCmtPE',\n",
    "    '6DsHDZmrOgLBmxa9DJE6sb',\n",
    "    '5Rooa8nylHIiBOzP7PugBq',\n",
    "    '4nDffrxlJOBkmJlOmxkjXg',\n",
    "    '1KNl4AYfgZtOVm9KHkhPTF',\n",
    "    '2H11P9KofhWu9EYUOoqOPm',\n",
    "    '0pM9c17S6YMUiFw6Q2jLvp',\n",
    "    '2b4Jpy0qpbGk2cIF0ikGTD',\n",
    "    '3CDX7S8NcO0y3FuKIJEfSN',\n",
    "    '0JiVp7Z0pYKI8diUV6HJyQ',\n",
    "    '3XM4qNNOrn2PcaiyIe8nax',\n",
    "    '2rKy7TRijAqjKXoG7wDeuj',\n",
    "    '1BJTY5xJdhbPmS9Os2s9vf',\n",
    "    '4nDffrxlJOBkmJlOmxkjXg',\n",
    "    '2H11P9KofhWu9EYUOoqOPm',\n",
    "    '0pM9c17S6YMUiFw6Q2jLvp',\n",
    "    '4RVf1hHtwvMEED3yuCNi8q'\n",
    "]"
   ]
  },
  {
   "cell_type": "code",
   "execution_count": 26,
   "id": "81d4f124-3937-4e95-a4c7-75fb2b1ff998",
   "metadata": {},
   "outputs": [
    {
     "name": "stdout",
     "output_type": "stream",
     "text": [
      "Best Hip-Hop Playlist: 0aXnOizaJ0eM1YIIcsSXSO\n",
      "Global Top 50 | 2022 Hits: 1KNl4AYfgZtOVm9KHkhPTF\n",
      "The Best Farewell Songs Top 50 Funeral Songs : 2H11P9KofhWu9EYUOoqOPm\n",
      "shower playlist #5000: 3ahkwrXrfObks9j6g1XmBd\n",
      "Top 5000 Alternative Rock / Punk Rock / Emo 🌎: 53Bf0yOM2uafN1ZUqCmtPE\n",
      "old songs (2000-2017): 6DsHDZmrOgLBmxa9DJE6sb\n",
      "Top 500 happy songs sorted by happiness according to AI  : 5Rooa8nylHIiBOzP7PugBq\n",
      "This is the playlist I listen to when I'm in no particular mood and I'm probably in my living room: 4nDffrxlJOBkmJlOmxkjXg\n",
      "Global Top 50 | 2022 Hits: 1KNl4AYfgZtOVm9KHkhPTF\n",
      "The Best Farewell Songs Top 50 Funeral Songs : 2H11P9KofhWu9EYUOoqOPm\n",
      "Top 50 Happy Songs: 0pM9c17S6YMUiFw6Q2jLvp\n",
      "Top 500 Classic Rock Tracks: 2b4Jpy0qpbGk2cIF0ikGTD\n",
      "TOP 500: Best Club Hits of All Time: 3CDX7S8NcO0y3FuKIJEfSN\n",
      "Spotify Top 500 Most Streamed Songs of All Time: 0JiVp7Z0pYKI8diUV6HJyQ\n",
      "Top 500 Songs of the 2010's: 3XM4qNNOrn2PcaiyIe8nax\n",
      "1980s - Billboard's Top 500 Songs: 2rKy7TRijAqjKXoG7wDeuj\n",
      "TOP 500 SONGS: 1BJTY5xJdhbPmS9Os2s9vf\n",
      "This is the playlist I listen to when I'm in no particular mood and I'm probably in my living room: 4nDffrxlJOBkmJlOmxkjXg\n",
      "The Best Farewell Songs Top 50 Funeral Songs : 2H11P9KofhWu9EYUOoqOPm\n",
      "Top 50 Happy Songs: 0pM9c17S6YMUiFw6Q2jLvp\n",
      "Top 5000 Pop Hits: 4RVf1hHtwvMEED3yuCNi8q\n"
     ]
    }
   ],
   "source": [
    "soundtrack_names(soundtracks)"
   ]
  },
  {
   "cell_type": "code",
   "execution_count": null,
   "id": "187492fa-6341-4c8d-a190-4bea00ea4741",
   "metadata": {},
   "outputs": [],
   "source": [
    "# Best Hip-Hop Playlist', 'Global Top 50 | 2022 Hits',\n",
    "#        'The Best Farewell Songs Top 50 Funeral Songs ',\n",
    "#        'Top 50 Happy Songs', 'Top 500 Classic Rock Tracks',\n",
    "#        'TOP 500: Best Club Hits of All Time',\n",
    "#        'Spotify Top 500 Most Streamed Songs of All Time']"
   ]
  },
  {
   "cell_type": "code",
   "execution_count": 133,
   "id": "969b1f6f-3d04-414d-945b-c9e1348aed93",
   "metadata": {},
   "outputs": [
    {
     "data": {
      "text/plain": [
       "(1941, 20)"
      ]
     },
     "execution_count": 133,
     "metadata": {},
     "output_type": "execute_result"
    }
   ],
   "source": []
  },
  {
   "cell_type": "markdown",
   "id": "d505bcf5-fea4-4635-9821-7837c7d32671",
   "metadata": {},
   "source": [
    "### Scrape lyrics from the dataframe after the tracks and audio features were obtained with tekore instead of in one function."
   ]
  },
  {
   "cell_type": "code",
   "execution_count": 118,
   "id": "f9233613-7f56-419e-9069-038064f305cb",
   "metadata": {},
   "outputs": [],
   "source": [
    "\n",
    "def scrape_lyrics_df(df):\n",
    "    lyric = []\n",
    "    for i in df.index:\n",
    "        song = df['track_name'][i]\n",
    "        song = song.replace(' ','-').lower() + '-lyrics/'\n",
    "    \n",
    "        # Remove the (feat. artist) in song titles\n",
    "        if '(' in song:\n",
    "            song = re.sub(r'(?<=\\().*?(?=\\))', '', song).replace('-()','').replace('.','')\n",
    "        #print(song)\n",
    "        \n",
    "        artist = df['artist_name'][i]\n",
    "        artist = artist.replace(' ','-').lower()\n",
    "        \n",
    "        artist2 = df['featured_artist'][i]\n",
    "        artist2 = artist2.replace(', ','-').replace(' ', '-')\n",
    "        artist2 = artist2.replace(' ', '-')\n",
    "        \n",
    "        lyric_url = 'https://www.songlyrics.com/' \n",
    "        if artist2 == 'None':\n",
    "            page_url = lyric_url + artist + '/' + song\n",
    "        else:\n",
    "            page_url = lyric_url + artist + '-feat-' + artist2 + '/' + song\n",
    "   \n",
    "    \n",
    "        #Use beautful soup tp scrape lyrics\n",
    "        try:\n",
    "            page = requests.get(page_url, allow_redirects=1000)\n",
    "            html = BeautifulSoup(page.text, 'html.parser')\n",
    "            lyrics = html.find(\"p\", class_=\"songLyricsV14 iComment-text\")\n",
    "            lyrics = str(lyrics).split('\\n')\n",
    "            lyrics = lyrics[1:]\n",
    "            lyrics = [item.replace('<br/>','') for item in lyrics]\n",
    "            string1 = '. '\n",
    "            lyrics = string1.join(lyrics)\n",
    "    \n",
    "        except requests.exceptions.TooManyRedirects as exc:\n",
    "            lyrics = 'None'\n",
    "        lyric.append(lyrics)\n",
    "    df['lyrics'] = lyric\n",
    "    return df.head(5)"
   ]
  },
  {
   "cell_type": "code",
   "execution_count": 6,
   "id": "e8955895-ff23-4689-8494-01e6204cb049",
   "metadata": {},
   "outputs": [],
   "source": [
    "#Vader"
   ]
  },
  {
   "cell_type": "code",
   "execution_count": 111,
   "id": "c97cddc3-6d3c-4103-bf81-882e4eb8ed88",
   "metadata": {},
   "outputs": [],
   "source": [
    "#scrape_lyrics_df(df)"
   ]
  },
  {
   "cell_type": "code",
   "execution_count": 107,
   "id": "98c731ca-5acc-49f3-a464-a547c0a6b6ea",
   "metadata": {},
   "outputs": [
    {
     "data": {
      "text/plain": [
       "(4321, 21)"
      ]
     },
     "execution_count": 107,
     "metadata": {},
     "output_type": "execute_result"
    }
   ],
   "source": [
    "df.shape"
   ]
  },
  {
   "cell_type": "code",
   "execution_count": 105,
   "id": "6dd83290-baf9-42dd-9612-3c89b0a12309",
   "metadata": {},
   "outputs": [
    {
     "data": {
      "text/html": [
       "<div>\n",
       "<style scoped>\n",
       "    .dataframe tbody tr th:only-of-type {\n",
       "        vertical-align: middle;\n",
       "    }\n",
       "\n",
       "    .dataframe tbody tr th {\n",
       "        vertical-align: top;\n",
       "    }\n",
       "\n",
       "    .dataframe thead th {\n",
       "        text-align: right;\n",
       "    }\n",
       "</style>\n",
       "<table border=\"1\" class=\"dataframe\">\n",
       "  <thead>\n",
       "    <tr style=\"text-align: right;\">\n",
       "      <th></th>\n",
       "      <th>Unnamed: 0</th>\n",
       "      <th>track_name</th>\n",
       "      <th>track_id</th>\n",
       "      <th>track_pop</th>\n",
       "      <th>artist_name</th>\n",
       "      <th>featured_artist</th>\n",
       "      <th>album_name</th>\n",
       "      <th>artist_id</th>\n",
       "      <th>danceability</th>\n",
       "      <th>energy</th>\n",
       "      <th>...</th>\n",
       "      <th>loudness</th>\n",
       "      <th>mode</th>\n",
       "      <th>speechiness</th>\n",
       "      <th>acousticness</th>\n",
       "      <th>intrumentalness</th>\n",
       "      <th>valence</th>\n",
       "      <th>tempo</th>\n",
       "      <th>track_lyrics</th>\n",
       "      <th>playlist_name</th>\n",
       "      <th>playlist_id</th>\n",
       "    </tr>\n",
       "  </thead>\n",
       "  <tbody>\n",
       "    <tr>\n",
       "      <th>519</th>\n",
       "      <td>519.0</td>\n",
       "      <td>NaN</td>\n",
       "      <td>4FCXpbdc0SNfk742Eu0ub4</td>\n",
       "      <td>0</td>\n",
       "      <td>NaN</td>\n",
       "      <td>None</td>\n",
       "      <td>NaN</td>\n",
       "      <td>0LyfQWJT6nXafLPZqxe9Of</td>\n",
       "      <td>0.342</td>\n",
       "      <td>0.258</td>\n",
       "      <td>...</td>\n",
       "      <td>-11.885</td>\n",
       "      <td>0</td>\n",
       "      <td>0.0574</td>\n",
       "      <td>0.04500</td>\n",
       "      <td>0.007080</td>\n",
       "      <td>0.0459</td>\n",
       "      <td>97.327</td>\n",
       "      <td>NaN</td>\n",
       "      <td>Best Hip-Hop Playlist</td>\n",
       "      <td>NaN</td>\n",
       "    </tr>\n",
       "    <tr>\n",
       "      <th>522</th>\n",
       "      <td>522.0</td>\n",
       "      <td>NaN</td>\n",
       "      <td>3mBmNzIV5fpREYkjgr1OAI</td>\n",
       "      <td>0</td>\n",
       "      <td>NaN</td>\n",
       "      <td>None</td>\n",
       "      <td>NaN</td>\n",
       "      <td>0LyfQWJT6nXafLPZqxe9Of</td>\n",
       "      <td>0.718</td>\n",
       "      <td>0.504</td>\n",
       "      <td>...</td>\n",
       "      <td>-9.213</td>\n",
       "      <td>1</td>\n",
       "      <td>0.0382</td>\n",
       "      <td>0.00159</td>\n",
       "      <td>0.000005</td>\n",
       "      <td>0.0978</td>\n",
       "      <td>118.902</td>\n",
       "      <td>NaN</td>\n",
       "      <td>Best Hip-Hop Playlist</td>\n",
       "      <td>NaN</td>\n",
       "    </tr>\n",
       "    <tr>\n",
       "      <th>523</th>\n",
       "      <td>523.0</td>\n",
       "      <td>NaN</td>\n",
       "      <td>5VuCkJ8FsbxGMqlofL3ltH</td>\n",
       "      <td>0</td>\n",
       "      <td>NaN</td>\n",
       "      <td>None</td>\n",
       "      <td>NaN</td>\n",
       "      <td>0LyfQWJT6nXafLPZqxe9Of</td>\n",
       "      <td>0.613</td>\n",
       "      <td>0.465</td>\n",
       "      <td>...</td>\n",
       "      <td>-11.752</td>\n",
       "      <td>1</td>\n",
       "      <td>0.3270</td>\n",
       "      <td>0.17700</td>\n",
       "      <td>0.000000</td>\n",
       "      <td>0.5100</td>\n",
       "      <td>93.120</td>\n",
       "      <td>NaN</td>\n",
       "      <td>Best Hip-Hop Playlist</td>\n",
       "      <td>NaN</td>\n",
       "    </tr>\n",
       "    <tr>\n",
       "      <th>652</th>\n",
       "      <td>652.0</td>\n",
       "      <td>NaN</td>\n",
       "      <td>4Bw1hY1V7p6RffgeleQocf</td>\n",
       "      <td>0</td>\n",
       "      <td>NaN</td>\n",
       "      <td>None</td>\n",
       "      <td>NaN</td>\n",
       "      <td>0LyfQWJT6nXafLPZqxe9Of</td>\n",
       "      <td>0.511</td>\n",
       "      <td>0.454</td>\n",
       "      <td>...</td>\n",
       "      <td>-9.041</td>\n",
       "      <td>0</td>\n",
       "      <td>0.5240</td>\n",
       "      <td>0.20100</td>\n",
       "      <td>0.000093</td>\n",
       "      <td>0.2150</td>\n",
       "      <td>96.660</td>\n",
       "      <td>NaN</td>\n",
       "      <td>Best Hip-Hop Playlist</td>\n",
       "      <td>NaN</td>\n",
       "    </tr>\n",
       "    <tr>\n",
       "      <th>1086</th>\n",
       "      <td>1086.0</td>\n",
       "      <td>NaN</td>\n",
       "      <td>7EQoRKZQ1Y792aF7B6nPS6</td>\n",
       "      <td>0</td>\n",
       "      <td>NaN</td>\n",
       "      <td>None</td>\n",
       "      <td>NaN</td>\n",
       "      <td>0LyfQWJT6nXafLPZqxe9Of</td>\n",
       "      <td>0.849</td>\n",
       "      <td>0.397</td>\n",
       "      <td>...</td>\n",
       "      <td>-12.085</td>\n",
       "      <td>1</td>\n",
       "      <td>0.1340</td>\n",
       "      <td>0.40400</td>\n",
       "      <td>0.000002</td>\n",
       "      <td>0.0836</td>\n",
       "      <td>99.974</td>\n",
       "      <td>NaN</td>\n",
       "      <td>Best Hip-Hop Playlist</td>\n",
       "      <td>NaN</td>\n",
       "    </tr>\n",
       "  </tbody>\n",
       "</table>\n",
       "<p>5 rows × 21 columns</p>\n",
       "</div>"
      ],
      "text/plain": [
       "      Unnamed: 0 track_name                track_id  track_pop artist_name  \\\n",
       "519        519.0        NaN  4FCXpbdc0SNfk742Eu0ub4          0         NaN   \n",
       "522        522.0        NaN  3mBmNzIV5fpREYkjgr1OAI          0         NaN   \n",
       "523        523.0        NaN  5VuCkJ8FsbxGMqlofL3ltH          0         NaN   \n",
       "652        652.0        NaN  4Bw1hY1V7p6RffgeleQocf          0         NaN   \n",
       "1086      1086.0        NaN  7EQoRKZQ1Y792aF7B6nPS6          0         NaN   \n",
       "\n",
       "     featured_artist album_name               artist_id  danceability  energy  \\\n",
       "519             None        NaN  0LyfQWJT6nXafLPZqxe9Of         0.342   0.258   \n",
       "522             None        NaN  0LyfQWJT6nXafLPZqxe9Of         0.718   0.504   \n",
       "523             None        NaN  0LyfQWJT6nXafLPZqxe9Of         0.613   0.465   \n",
       "652             None        NaN  0LyfQWJT6nXafLPZqxe9Of         0.511   0.454   \n",
       "1086            None        NaN  0LyfQWJT6nXafLPZqxe9Of         0.849   0.397   \n",
       "\n",
       "      ...  loudness  mode  speechiness  acousticness  intrumentalness  \\\n",
       "519   ...   -11.885     0       0.0574       0.04500         0.007080   \n",
       "522   ...    -9.213     1       0.0382       0.00159         0.000005   \n",
       "523   ...   -11.752     1       0.3270       0.17700         0.000000   \n",
       "652   ...    -9.041     0       0.5240       0.20100         0.000093   \n",
       "1086  ...   -12.085     1       0.1340       0.40400         0.000002   \n",
       "\n",
       "      valence    tempo  track_lyrics          playlist_name playlist_id  \n",
       "519    0.0459   97.327           NaN  Best Hip-Hop Playlist         NaN  \n",
       "522    0.0978  118.902           NaN  Best Hip-Hop Playlist         NaN  \n",
       "523    0.5100   93.120           NaN  Best Hip-Hop Playlist         NaN  \n",
       "652    0.2150   96.660           NaN  Best Hip-Hop Playlist         NaN  \n",
       "1086   0.0836   99.974           NaN  Best Hip-Hop Playlist         NaN  \n",
       "\n",
       "[5 rows x 21 columns]"
      ]
     },
     "execution_count": 105,
     "metadata": {},
     "output_type": "execute_result"
    }
   ],
   "source": [
    "df[df['track_name'].isnull()]"
   ]
  },
  {
   "cell_type": "code",
   "execution_count": 124,
   "id": "11bca1b0-583c-4514-80cd-5b9b47d2e6a5",
   "metadata": {},
   "outputs": [],
   "source": [
    "# df = df.dropna(subset=['track_name'], how='all')\n",
    "# df.reset_index(inplace=True)\n"
   ]
  },
  {
   "cell_type": "code",
   "execution_count": 126,
   "id": "30429d46-35ed-4ab7-85e0-47b4022ec7ee",
   "metadata": {},
   "outputs": [],
   "source": [
    "df.head(2)\n",
    "df.drop(columns=['level_0', 'Unnamed: 0'], inplace=True)"
   ]
  },
  {
   "cell_type": "code",
   "execution_count": 127,
   "id": "40421139-c90d-4d45-9cc8-f33349966a4d",
   "metadata": {},
   "outputs": [
    {
     "data": {
      "text/html": [
       "<div>\n",
       "<style scoped>\n",
       "    .dataframe tbody tr th:only-of-type {\n",
       "        vertical-align: middle;\n",
       "    }\n",
       "\n",
       "    .dataframe tbody tr th {\n",
       "        vertical-align: top;\n",
       "    }\n",
       "\n",
       "    .dataframe thead th {\n",
       "        text-align: right;\n",
       "    }\n",
       "</style>\n",
       "<table border=\"1\" class=\"dataframe\">\n",
       "  <thead>\n",
       "    <tr style=\"text-align: right;\">\n",
       "      <th></th>\n",
       "      <th>index</th>\n",
       "      <th>track_name</th>\n",
       "      <th>track_id</th>\n",
       "      <th>track_pop</th>\n",
       "      <th>artist_name</th>\n",
       "      <th>featured_artist</th>\n",
       "      <th>album_name</th>\n",
       "      <th>artist_id</th>\n",
       "      <th>danceability</th>\n",
       "      <th>energy</th>\n",
       "      <th>...</th>\n",
       "      <th>loudness</th>\n",
       "      <th>mode</th>\n",
       "      <th>speechiness</th>\n",
       "      <th>acousticness</th>\n",
       "      <th>intrumentalness</th>\n",
       "      <th>valence</th>\n",
       "      <th>tempo</th>\n",
       "      <th>track_lyrics</th>\n",
       "      <th>playlist_name</th>\n",
       "      <th>playlist_id</th>\n",
       "    </tr>\n",
       "  </thead>\n",
       "  <tbody>\n",
       "    <tr>\n",
       "      <th>0</th>\n",
       "      <td>0</td>\n",
       "      <td>Codeine Dreaming (feat. Lil Wayne)</td>\n",
       "      <td>4DTpngLjoHj5gFxEZFeD3J</td>\n",
       "      <td>66</td>\n",
       "      <td>Kodak Black</td>\n",
       "      <td>Lil Wayne</td>\n",
       "      <td>Project Baby 2: All Grown Up (Deluxe Edition)</td>\n",
       "      <td>46SHBwWsqBkxI7EeeBEQG7</td>\n",
       "      <td>0.736</td>\n",
       "      <td>0.604</td>\n",
       "      <td>...</td>\n",
       "      <td>-7.357</td>\n",
       "      <td>0</td>\n",
       "      <td>0.222</td>\n",
       "      <td>0.0652</td>\n",
       "      <td>0.000064</td>\n",
       "      <td>0.574</td>\n",
       "      <td>155.007</td>\n",
       "      <td>Take that all the way up. I'm about to take of...</td>\n",
       "      <td>Best Hip-Hop Playlist</td>\n",
       "      <td>NaN</td>\n",
       "    </tr>\n",
       "    <tr>\n",
       "      <th>1</th>\n",
       "      <td>1</td>\n",
       "      <td>Bank Account</td>\n",
       "      <td>2fQrGHiQOvpL9UgPvtYy6G</td>\n",
       "      <td>18</td>\n",
       "      <td>21 Savage</td>\n",
       "      <td>None</td>\n",
       "      <td>Issa Album</td>\n",
       "      <td>1URnnhqYAYcrqrcwql10ft</td>\n",
       "      <td>0.884</td>\n",
       "      <td>0.347</td>\n",
       "      <td>...</td>\n",
       "      <td>-8.227</td>\n",
       "      <td>0</td>\n",
       "      <td>0.350</td>\n",
       "      <td>0.0150</td>\n",
       "      <td>0.000007</td>\n",
       "      <td>0.376</td>\n",
       "      <td>75.016</td>\n",
       "      <td>I tear down the mall with the bitch (for real)...</td>\n",
       "      <td>Best Hip-Hop Playlist</td>\n",
       "      <td>NaN</td>\n",
       "    </tr>\n",
       "  </tbody>\n",
       "</table>\n",
       "<p>2 rows × 21 columns</p>\n",
       "</div>"
      ],
      "text/plain": [
       "   index                          track_name                track_id  \\\n",
       "0      0  Codeine Dreaming (feat. Lil Wayne)  4DTpngLjoHj5gFxEZFeD3J   \n",
       "1      1                        Bank Account  2fQrGHiQOvpL9UgPvtYy6G   \n",
       "\n",
       "   track_pop  artist_name featured_artist  \\\n",
       "0         66  Kodak Black       Lil Wayne   \n",
       "1         18    21 Savage            None   \n",
       "\n",
       "                                      album_name               artist_id  \\\n",
       "0  Project Baby 2: All Grown Up (Deluxe Edition)  46SHBwWsqBkxI7EeeBEQG7   \n",
       "1                                     Issa Album  1URnnhqYAYcrqrcwql10ft   \n",
       "\n",
       "   danceability  energy  ...  loudness  mode  speechiness  acousticness  \\\n",
       "0         0.736   0.604  ...    -7.357     0        0.222        0.0652   \n",
       "1         0.884   0.347  ...    -8.227     0        0.350        0.0150   \n",
       "\n",
       "   intrumentalness  valence    tempo  \\\n",
       "0         0.000064    0.574  155.007   \n",
       "1         0.000007    0.376   75.016   \n",
       "\n",
       "                                        track_lyrics          playlist_name  \\\n",
       "0  Take that all the way up. I'm about to take of...  Best Hip-Hop Playlist   \n",
       "1  I tear down the mall with the bitch (for real)...  Best Hip-Hop Playlist   \n",
       "\n",
       "  playlist_id  \n",
       "0         NaN  \n",
       "1         NaN  \n",
       "\n",
       "[2 rows x 21 columns]"
      ]
     },
     "execution_count": 127,
     "metadata": {},
     "output_type": "execute_result"
    }
   ],
   "source": [
    "df.head(2)"
   ]
  },
  {
   "cell_type": "code",
   "execution_count": 109,
   "id": "bea4ba0c-bf2a-4739-b444-58bd8c875f99",
   "metadata": {},
   "outputs": [
    {
     "data": {
      "text/plain": [
       "(4316, 21)"
      ]
     },
     "execution_count": 109,
     "metadata": {},
     "output_type": "execute_result"
    }
   ],
   "source": [
    "df.shape"
   ]
  },
  {
   "cell_type": "code",
   "execution_count": 113,
   "id": "e55b7745-1d60-433b-8d00-d892d6794986",
   "metadata": {},
   "outputs": [
    {
     "data": {
      "text/html": [
       "<div>\n",
       "<style scoped>\n",
       "    .dataframe tbody tr th:only-of-type {\n",
       "        vertical-align: middle;\n",
       "    }\n",
       "\n",
       "    .dataframe tbody tr th {\n",
       "        vertical-align: top;\n",
       "    }\n",
       "\n",
       "    .dataframe thead th {\n",
       "        text-align: right;\n",
       "    }\n",
       "</style>\n",
       "<table border=\"1\" class=\"dataframe\">\n",
       "  <thead>\n",
       "    <tr style=\"text-align: right;\">\n",
       "      <th></th>\n",
       "      <th>Unnamed: 0</th>\n",
       "      <th>track_name</th>\n",
       "      <th>track_id</th>\n",
       "      <th>track_pop</th>\n",
       "      <th>artist_name</th>\n",
       "      <th>featured_artist</th>\n",
       "      <th>album_name</th>\n",
       "      <th>artist_id</th>\n",
       "      <th>danceability</th>\n",
       "      <th>energy</th>\n",
       "      <th>...</th>\n",
       "      <th>loudness</th>\n",
       "      <th>mode</th>\n",
       "      <th>speechiness</th>\n",
       "      <th>acousticness</th>\n",
       "      <th>intrumentalness</th>\n",
       "      <th>valence</th>\n",
       "      <th>tempo</th>\n",
       "      <th>track_lyrics</th>\n",
       "      <th>playlist_name</th>\n",
       "      <th>playlist_id</th>\n",
       "    </tr>\n",
       "  </thead>\n",
       "  <tbody>\n",
       "    <tr>\n",
       "      <th>0</th>\n",
       "      <td>0.0</td>\n",
       "      <td>Codeine Dreaming (feat. Lil Wayne)</td>\n",
       "      <td>4DTpngLjoHj5gFxEZFeD3J</td>\n",
       "      <td>66</td>\n",
       "      <td>Kodak Black</td>\n",
       "      <td>Lil Wayne</td>\n",
       "      <td>Project Baby 2: All Grown Up (Deluxe Edition)</td>\n",
       "      <td>46SHBwWsqBkxI7EeeBEQG7</td>\n",
       "      <td>0.736</td>\n",
       "      <td>0.604</td>\n",
       "      <td>...</td>\n",
       "      <td>-7.357</td>\n",
       "      <td>0</td>\n",
       "      <td>0.222</td>\n",
       "      <td>0.0652</td>\n",
       "      <td>0.000064</td>\n",
       "      <td>0.574</td>\n",
       "      <td>155.007</td>\n",
       "      <td>Take that all the way up. I'm about to take of...</td>\n",
       "      <td>Best Hip-Hop Playlist</td>\n",
       "      <td>NaN</td>\n",
       "    </tr>\n",
       "    <tr>\n",
       "      <th>1</th>\n",
       "      <td>1.0</td>\n",
       "      <td>Bank Account</td>\n",
       "      <td>2fQrGHiQOvpL9UgPvtYy6G</td>\n",
       "      <td>18</td>\n",
       "      <td>21 Savage</td>\n",
       "      <td>None</td>\n",
       "      <td>Issa Album</td>\n",
       "      <td>1URnnhqYAYcrqrcwql10ft</td>\n",
       "      <td>0.884</td>\n",
       "      <td>0.347</td>\n",
       "      <td>...</td>\n",
       "      <td>-8.227</td>\n",
       "      <td>0</td>\n",
       "      <td>0.350</td>\n",
       "      <td>0.0150</td>\n",
       "      <td>0.000007</td>\n",
       "      <td>0.376</td>\n",
       "      <td>75.016</td>\n",
       "      <td>I tear down the mall with the bitch (for real)...</td>\n",
       "      <td>Best Hip-Hop Playlist</td>\n",
       "      <td>NaN</td>\n",
       "    </tr>\n",
       "    <tr>\n",
       "      <th>2</th>\n",
       "      <td>2.0</td>\n",
       "      <td>PICK IT UP (feat. A$AP Rocky)</td>\n",
       "      <td>3ncgNpxLoBQ65ABk4djDyd</td>\n",
       "      <td>66</td>\n",
       "      <td>Famous Dex</td>\n",
       "      <td>A$AP Rocky</td>\n",
       "      <td>Pick It Up (feat. A$AP Rocky)</td>\n",
       "      <td>0WOxhx4hikIsyF3CRPLC8W</td>\n",
       "      <td>0.921</td>\n",
       "      <td>0.467</td>\n",
       "      <td>...</td>\n",
       "      <td>-8.443</td>\n",
       "      <td>1</td>\n",
       "      <td>0.119</td>\n",
       "      <td>0.0149</td>\n",
       "      <td>0.000238</td>\n",
       "      <td>0.287</td>\n",
       "      <td>135.995</td>\n",
       "      <td>That's my fucking brother right there, ya dig?...</td>\n",
       "      <td>Best Hip-Hop Playlist</td>\n",
       "      <td>NaN</td>\n",
       "    </tr>\n",
       "    <tr>\n",
       "      <th>3</th>\n",
       "      <td>3.0</td>\n",
       "      <td>Ric Flair Drip (with Metro Boomin)</td>\n",
       "      <td>7sO5G9EABYOXQKNPNiE9NR</td>\n",
       "      <td>82</td>\n",
       "      <td>Offset</td>\n",
       "      <td>Metro Boomin</td>\n",
       "      <td>Without Warning</td>\n",
       "      <td>4DdkRBBYG6Yk9Ka8tdJ9BW</td>\n",
       "      <td>0.880</td>\n",
       "      <td>0.428</td>\n",
       "      <td>...</td>\n",
       "      <td>-8.280</td>\n",
       "      <td>1</td>\n",
       "      <td>0.206</td>\n",
       "      <td>0.1490</td>\n",
       "      <td>0.000051</td>\n",
       "      <td>0.333</td>\n",
       "      <td>100.007</td>\n",
       "      <td>Metro Boomin' want some more, nigga!. . Going ...</td>\n",
       "      <td>Best Hip-Hop Playlist</td>\n",
       "      <td>NaN</td>\n",
       "    </tr>\n",
       "    <tr>\n",
       "      <th>4</th>\n",
       "      <td>4.0</td>\n",
       "      <td>Roll in Peace (feat. XXXTENTACION)</td>\n",
       "      <td>40oKW22ZNNkEdZLJTScaQI</td>\n",
       "      <td>74</td>\n",
       "      <td>Kodak Black</td>\n",
       "      <td>XXXTENTACION</td>\n",
       "      <td>Project Baby 2: All Grown Up</td>\n",
       "      <td>46SHBwWsqBkxI7EeeBEQG7</td>\n",
       "      <td>0.747</td>\n",
       "      <td>0.524</td>\n",
       "      <td>...</td>\n",
       "      <td>-6.807</td>\n",
       "      <td>0</td>\n",
       "      <td>0.245</td>\n",
       "      <td>0.0306</td>\n",
       "      <td>0.000000</td>\n",
       "      <td>0.363</td>\n",
       "      <td>140.053</td>\n",
       "      <td>(We got London on the track!). These days, I d...</td>\n",
       "      <td>Best Hip-Hop Playlist</td>\n",
       "      <td>NaN</td>\n",
       "    </tr>\n",
       "  </tbody>\n",
       "</table>\n",
       "<p>5 rows × 21 columns</p>\n",
       "</div>"
      ],
      "text/plain": [
       "   Unnamed: 0                          track_name                track_id  \\\n",
       "0         0.0  Codeine Dreaming (feat. Lil Wayne)  4DTpngLjoHj5gFxEZFeD3J   \n",
       "1         1.0                        Bank Account  2fQrGHiQOvpL9UgPvtYy6G   \n",
       "2         2.0       PICK IT UP (feat. A$AP Rocky)  3ncgNpxLoBQ65ABk4djDyd   \n",
       "3         3.0  Ric Flair Drip (with Metro Boomin)  7sO5G9EABYOXQKNPNiE9NR   \n",
       "4         4.0  Roll in Peace (feat. XXXTENTACION)  40oKW22ZNNkEdZLJTScaQI   \n",
       "\n",
       "   track_pop  artist_name featured_artist  \\\n",
       "0         66  Kodak Black       Lil Wayne   \n",
       "1         18    21 Savage            None   \n",
       "2         66   Famous Dex      A$AP Rocky   \n",
       "3         82       Offset    Metro Boomin   \n",
       "4         74  Kodak Black    XXXTENTACION   \n",
       "\n",
       "                                      album_name               artist_id  \\\n",
       "0  Project Baby 2: All Grown Up (Deluxe Edition)  46SHBwWsqBkxI7EeeBEQG7   \n",
       "1                                     Issa Album  1URnnhqYAYcrqrcwql10ft   \n",
       "2                  Pick It Up (feat. A$AP Rocky)  0WOxhx4hikIsyF3CRPLC8W   \n",
       "3                                Without Warning  4DdkRBBYG6Yk9Ka8tdJ9BW   \n",
       "4                   Project Baby 2: All Grown Up  46SHBwWsqBkxI7EeeBEQG7   \n",
       "\n",
       "   danceability  energy  ...  loudness  mode  speechiness  acousticness  \\\n",
       "0         0.736   0.604  ...    -7.357     0        0.222        0.0652   \n",
       "1         0.884   0.347  ...    -8.227     0        0.350        0.0150   \n",
       "2         0.921   0.467  ...    -8.443     1        0.119        0.0149   \n",
       "3         0.880   0.428  ...    -8.280     1        0.206        0.1490   \n",
       "4         0.747   0.524  ...    -6.807     0        0.245        0.0306   \n",
       "\n",
       "   intrumentalness  valence    tempo  \\\n",
       "0         0.000064    0.574  155.007   \n",
       "1         0.000007    0.376   75.016   \n",
       "2         0.000238    0.287  135.995   \n",
       "3         0.000051    0.333  100.007   \n",
       "4         0.000000    0.363  140.053   \n",
       "\n",
       "                                        track_lyrics          playlist_name  \\\n",
       "0  Take that all the way up. I'm about to take of...  Best Hip-Hop Playlist   \n",
       "1  I tear down the mall with the bitch (for real)...  Best Hip-Hop Playlist   \n",
       "2  That's my fucking brother right there, ya dig?...  Best Hip-Hop Playlist   \n",
       "3  Metro Boomin' want some more, nigga!. . Going ...  Best Hip-Hop Playlist   \n",
       "4  (We got London on the track!). These days, I d...  Best Hip-Hop Playlist   \n",
       "\n",
       "  playlist_id  \n",
       "0         NaN  \n",
       "1         NaN  \n",
       "2         NaN  \n",
       "3         NaN  \n",
       "4         NaN  \n",
       "\n",
       "[5 rows x 21 columns]"
      ]
     },
     "execution_count": 113,
     "metadata": {},
     "output_type": "execute_result"
    }
   ],
   "source": [
    "df.head()"
   ]
  },
  {
   "cell_type": "code",
   "execution_count": 2,
   "id": "48caa58f-b542-4060-bc3b-2ae15e9b86ed",
   "metadata": {},
   "outputs": [],
   "source": [
    "#df.iloc[518]"
   ]
  },
  {
   "cell_type": "code",
   "execution_count": 128,
   "id": "c227d186-862c-4191-b27c-9b9554e7f91d",
   "metadata": {},
   "outputs": [
    {
     "data": {
      "text/html": [
       "<div>\n",
       "<style scoped>\n",
       "    .dataframe tbody tr th:only-of-type {\n",
       "        vertical-align: middle;\n",
       "    }\n",
       "\n",
       "    .dataframe tbody tr th {\n",
       "        vertical-align: top;\n",
       "    }\n",
       "\n",
       "    .dataframe thead th {\n",
       "        text-align: right;\n",
       "    }\n",
       "</style>\n",
       "<table border=\"1\" class=\"dataframe\">\n",
       "  <thead>\n",
       "    <tr style=\"text-align: right;\">\n",
       "      <th></th>\n",
       "      <th>index</th>\n",
       "      <th>track_name</th>\n",
       "      <th>track_id</th>\n",
       "      <th>track_pop</th>\n",
       "      <th>artist_name</th>\n",
       "      <th>featured_artist</th>\n",
       "      <th>album_name</th>\n",
       "      <th>artist_id</th>\n",
       "      <th>danceability</th>\n",
       "      <th>energy</th>\n",
       "      <th>...</th>\n",
       "      <th>mode</th>\n",
       "      <th>speechiness</th>\n",
       "      <th>acousticness</th>\n",
       "      <th>intrumentalness</th>\n",
       "      <th>valence</th>\n",
       "      <th>tempo</th>\n",
       "      <th>track_lyrics</th>\n",
       "      <th>playlist_name</th>\n",
       "      <th>playlist_id</th>\n",
       "      <th>lyrics</th>\n",
       "    </tr>\n",
       "  </thead>\n",
       "  <tbody>\n",
       "    <tr>\n",
       "      <th>0</th>\n",
       "      <td>0</td>\n",
       "      <td>Codeine Dreaming (feat. Lil Wayne)</td>\n",
       "      <td>4DTpngLjoHj5gFxEZFeD3J</td>\n",
       "      <td>66</td>\n",
       "      <td>Kodak Black</td>\n",
       "      <td>Lil Wayne</td>\n",
       "      <td>Project Baby 2: All Grown Up (Deluxe Edition)</td>\n",
       "      <td>46SHBwWsqBkxI7EeeBEQG7</td>\n",
       "      <td>0.736</td>\n",
       "      <td>0.604</td>\n",
       "      <td>...</td>\n",
       "      <td>0</td>\n",
       "      <td>0.222</td>\n",
       "      <td>0.0652</td>\n",
       "      <td>0.000064</td>\n",
       "      <td>0.574</td>\n",
       "      <td>155.007</td>\n",
       "      <td>Take that all the way up. I'm about to take of...</td>\n",
       "      <td>Best Hip-Hop Playlist</td>\n",
       "      <td>NaN</td>\n",
       "      <td>Take that all the way up. I'm about to take of...</td>\n",
       "    </tr>\n",
       "    <tr>\n",
       "      <th>1</th>\n",
       "      <td>1</td>\n",
       "      <td>Bank Account</td>\n",
       "      <td>2fQrGHiQOvpL9UgPvtYy6G</td>\n",
       "      <td>18</td>\n",
       "      <td>21 Savage</td>\n",
       "      <td>None</td>\n",
       "      <td>Issa Album</td>\n",
       "      <td>1URnnhqYAYcrqrcwql10ft</td>\n",
       "      <td>0.884</td>\n",
       "      <td>0.347</td>\n",
       "      <td>...</td>\n",
       "      <td>0</td>\n",
       "      <td>0.350</td>\n",
       "      <td>0.0150</td>\n",
       "      <td>0.000007</td>\n",
       "      <td>0.376</td>\n",
       "      <td>75.016</td>\n",
       "      <td>I tear down the mall with the bitch (for real)...</td>\n",
       "      <td>Best Hip-Hop Playlist</td>\n",
       "      <td>NaN</td>\n",
       "      <td>I tear down the mall with the bitch (for real)...</td>\n",
       "    </tr>\n",
       "    <tr>\n",
       "      <th>2</th>\n",
       "      <td>2</td>\n",
       "      <td>PICK IT UP (feat. A$AP Rocky)</td>\n",
       "      <td>3ncgNpxLoBQ65ABk4djDyd</td>\n",
       "      <td>66</td>\n",
       "      <td>Famous Dex</td>\n",
       "      <td>A$AP Rocky</td>\n",
       "      <td>Pick It Up (feat. A$AP Rocky)</td>\n",
       "      <td>0WOxhx4hikIsyF3CRPLC8W</td>\n",
       "      <td>0.921</td>\n",
       "      <td>0.467</td>\n",
       "      <td>...</td>\n",
       "      <td>1</td>\n",
       "      <td>0.119</td>\n",
       "      <td>0.0149</td>\n",
       "      <td>0.000238</td>\n",
       "      <td>0.287</td>\n",
       "      <td>135.995</td>\n",
       "      <td>That's my fucking brother right there, ya dig?...</td>\n",
       "      <td>Best Hip-Hop Playlist</td>\n",
       "      <td>NaN</td>\n",
       "      <td>That's my fucking brother right there, ya dig?...</td>\n",
       "    </tr>\n",
       "    <tr>\n",
       "      <th>3</th>\n",
       "      <td>3</td>\n",
       "      <td>Ric Flair Drip (with Metro Boomin)</td>\n",
       "      <td>7sO5G9EABYOXQKNPNiE9NR</td>\n",
       "      <td>82</td>\n",
       "      <td>Offset</td>\n",
       "      <td>Metro Boomin</td>\n",
       "      <td>Without Warning</td>\n",
       "      <td>4DdkRBBYG6Yk9Ka8tdJ9BW</td>\n",
       "      <td>0.880</td>\n",
       "      <td>0.428</td>\n",
       "      <td>...</td>\n",
       "      <td>1</td>\n",
       "      <td>0.206</td>\n",
       "      <td>0.1490</td>\n",
       "      <td>0.000051</td>\n",
       "      <td>0.333</td>\n",
       "      <td>100.007</td>\n",
       "      <td>Metro Boomin' want some more, nigga!. . Going ...</td>\n",
       "      <td>Best Hip-Hop Playlist</td>\n",
       "      <td>NaN</td>\n",
       "      <td>Metro Boomin' want some more, nigga!. . Going ...</td>\n",
       "    </tr>\n",
       "    <tr>\n",
       "      <th>4</th>\n",
       "      <td>4</td>\n",
       "      <td>Roll in Peace (feat. XXXTENTACION)</td>\n",
       "      <td>40oKW22ZNNkEdZLJTScaQI</td>\n",
       "      <td>74</td>\n",
       "      <td>Kodak Black</td>\n",
       "      <td>XXXTENTACION</td>\n",
       "      <td>Project Baby 2: All Grown Up</td>\n",
       "      <td>46SHBwWsqBkxI7EeeBEQG7</td>\n",
       "      <td>0.747</td>\n",
       "      <td>0.524</td>\n",
       "      <td>...</td>\n",
       "      <td>0</td>\n",
       "      <td>0.245</td>\n",
       "      <td>0.0306</td>\n",
       "      <td>0.000000</td>\n",
       "      <td>0.363</td>\n",
       "      <td>140.053</td>\n",
       "      <td>(We got London on the track!). These days, I d...</td>\n",
       "      <td>Best Hip-Hop Playlist</td>\n",
       "      <td>NaN</td>\n",
       "      <td>(We got London on the track!). These days, I d...</td>\n",
       "    </tr>\n",
       "  </tbody>\n",
       "</table>\n",
       "<p>5 rows × 22 columns</p>\n",
       "</div>"
      ],
      "text/plain": [
       "   index                          track_name                track_id  \\\n",
       "0      0  Codeine Dreaming (feat. Lil Wayne)  4DTpngLjoHj5gFxEZFeD3J   \n",
       "1      1                        Bank Account  2fQrGHiQOvpL9UgPvtYy6G   \n",
       "2      2       PICK IT UP (feat. A$AP Rocky)  3ncgNpxLoBQ65ABk4djDyd   \n",
       "3      3  Ric Flair Drip (with Metro Boomin)  7sO5G9EABYOXQKNPNiE9NR   \n",
       "4      4  Roll in Peace (feat. XXXTENTACION)  40oKW22ZNNkEdZLJTScaQI   \n",
       "\n",
       "   track_pop  artist_name featured_artist  \\\n",
       "0         66  Kodak Black       Lil Wayne   \n",
       "1         18    21 Savage            None   \n",
       "2         66   Famous Dex      A$AP Rocky   \n",
       "3         82       Offset    Metro Boomin   \n",
       "4         74  Kodak Black    XXXTENTACION   \n",
       "\n",
       "                                      album_name               artist_id  \\\n",
       "0  Project Baby 2: All Grown Up (Deluxe Edition)  46SHBwWsqBkxI7EeeBEQG7   \n",
       "1                                     Issa Album  1URnnhqYAYcrqrcwql10ft   \n",
       "2                  Pick It Up (feat. A$AP Rocky)  0WOxhx4hikIsyF3CRPLC8W   \n",
       "3                                Without Warning  4DdkRBBYG6Yk9Ka8tdJ9BW   \n",
       "4                   Project Baby 2: All Grown Up  46SHBwWsqBkxI7EeeBEQG7   \n",
       "\n",
       "   danceability  energy  ...  mode  speechiness  acousticness  \\\n",
       "0         0.736   0.604  ...     0        0.222        0.0652   \n",
       "1         0.884   0.347  ...     0        0.350        0.0150   \n",
       "2         0.921   0.467  ...     1        0.119        0.0149   \n",
       "3         0.880   0.428  ...     1        0.206        0.1490   \n",
       "4         0.747   0.524  ...     0        0.245        0.0306   \n",
       "\n",
       "   intrumentalness  valence    tempo  \\\n",
       "0         0.000064    0.574  155.007   \n",
       "1         0.000007    0.376   75.016   \n",
       "2         0.000238    0.287  135.995   \n",
       "3         0.000051    0.333  100.007   \n",
       "4         0.000000    0.363  140.053   \n",
       "\n",
       "                                        track_lyrics          playlist_name  \\\n",
       "0  Take that all the way up. I'm about to take of...  Best Hip-Hop Playlist   \n",
       "1  I tear down the mall with the bitch (for real)...  Best Hip-Hop Playlist   \n",
       "2  That's my fucking brother right there, ya dig?...  Best Hip-Hop Playlist   \n",
       "3  Metro Boomin' want some more, nigga!. . Going ...  Best Hip-Hop Playlist   \n",
       "4  (We got London on the track!). These days, I d...  Best Hip-Hop Playlist   \n",
       "\n",
       "  playlist_id                                             lyrics  \n",
       "0         NaN  Take that all the way up. I'm about to take of...  \n",
       "1         NaN  I tear down the mall with the bitch (for real)...  \n",
       "2         NaN  That's my fucking brother right there, ya dig?...  \n",
       "3         NaN  Metro Boomin' want some more, nigga!. . Going ...  \n",
       "4         NaN  (We got London on the track!). These days, I d...  \n",
       "\n",
       "[5 rows x 22 columns]"
      ]
     },
     "execution_count": 128,
     "metadata": {},
     "output_type": "execute_result"
    }
   ],
   "source": [
    "scrape_lyrics_df(df)\n"
   ]
  },
  {
   "cell_type": "code",
   "execution_count": 129,
   "id": "139d51c9-57cf-4663-b113-7c2270c6dc5b",
   "metadata": {},
   "outputs": [
    {
     "data": {
      "text/html": [
       "<div>\n",
       "<style scoped>\n",
       "    .dataframe tbody tr th:only-of-type {\n",
       "        vertical-align: middle;\n",
       "    }\n",
       "\n",
       "    .dataframe tbody tr th {\n",
       "        vertical-align: top;\n",
       "    }\n",
       "\n",
       "    .dataframe thead th {\n",
       "        text-align: right;\n",
       "    }\n",
       "</style>\n",
       "<table border=\"1\" class=\"dataframe\">\n",
       "  <thead>\n",
       "    <tr style=\"text-align: right;\">\n",
       "      <th></th>\n",
       "      <th>index</th>\n",
       "      <th>track_name</th>\n",
       "      <th>track_id</th>\n",
       "      <th>track_pop</th>\n",
       "      <th>artist_name</th>\n",
       "      <th>featured_artist</th>\n",
       "      <th>album_name</th>\n",
       "      <th>artist_id</th>\n",
       "      <th>danceability</th>\n",
       "      <th>energy</th>\n",
       "      <th>...</th>\n",
       "      <th>mode</th>\n",
       "      <th>speechiness</th>\n",
       "      <th>acousticness</th>\n",
       "      <th>intrumentalness</th>\n",
       "      <th>valence</th>\n",
       "      <th>tempo</th>\n",
       "      <th>track_lyrics</th>\n",
       "      <th>playlist_name</th>\n",
       "      <th>playlist_id</th>\n",
       "      <th>lyrics</th>\n",
       "    </tr>\n",
       "  </thead>\n",
       "  <tbody>\n",
       "    <tr>\n",
       "      <th>0</th>\n",
       "      <td>0</td>\n",
       "      <td>Codeine Dreaming (feat. Lil Wayne)</td>\n",
       "      <td>4DTpngLjoHj5gFxEZFeD3J</td>\n",
       "      <td>66</td>\n",
       "      <td>Kodak Black</td>\n",
       "      <td>Lil Wayne</td>\n",
       "      <td>Project Baby 2: All Grown Up (Deluxe Edition)</td>\n",
       "      <td>46SHBwWsqBkxI7EeeBEQG7</td>\n",
       "      <td>0.736</td>\n",
       "      <td>0.604</td>\n",
       "      <td>...</td>\n",
       "      <td>0</td>\n",
       "      <td>0.222</td>\n",
       "      <td>0.0652</td>\n",
       "      <td>0.000064</td>\n",
       "      <td>0.574</td>\n",
       "      <td>155.007</td>\n",
       "      <td>Take that all the way up. I'm about to take of...</td>\n",
       "      <td>Best Hip-Hop Playlist</td>\n",
       "      <td>NaN</td>\n",
       "      <td>Take that all the way up. I'm about to take of...</td>\n",
       "    </tr>\n",
       "    <tr>\n",
       "      <th>1</th>\n",
       "      <td>1</td>\n",
       "      <td>Bank Account</td>\n",
       "      <td>2fQrGHiQOvpL9UgPvtYy6G</td>\n",
       "      <td>18</td>\n",
       "      <td>21 Savage</td>\n",
       "      <td>None</td>\n",
       "      <td>Issa Album</td>\n",
       "      <td>1URnnhqYAYcrqrcwql10ft</td>\n",
       "      <td>0.884</td>\n",
       "      <td>0.347</td>\n",
       "      <td>...</td>\n",
       "      <td>0</td>\n",
       "      <td>0.350</td>\n",
       "      <td>0.0150</td>\n",
       "      <td>0.000007</td>\n",
       "      <td>0.376</td>\n",
       "      <td>75.016</td>\n",
       "      <td>I tear down the mall with the bitch (for real)...</td>\n",
       "      <td>Best Hip-Hop Playlist</td>\n",
       "      <td>NaN</td>\n",
       "      <td>I tear down the mall with the bitch (for real)...</td>\n",
       "    </tr>\n",
       "    <tr>\n",
       "      <th>2</th>\n",
       "      <td>2</td>\n",
       "      <td>PICK IT UP (feat. A$AP Rocky)</td>\n",
       "      <td>3ncgNpxLoBQ65ABk4djDyd</td>\n",
       "      <td>66</td>\n",
       "      <td>Famous Dex</td>\n",
       "      <td>A$AP Rocky</td>\n",
       "      <td>Pick It Up (feat. A$AP Rocky)</td>\n",
       "      <td>0WOxhx4hikIsyF3CRPLC8W</td>\n",
       "      <td>0.921</td>\n",
       "      <td>0.467</td>\n",
       "      <td>...</td>\n",
       "      <td>1</td>\n",
       "      <td>0.119</td>\n",
       "      <td>0.0149</td>\n",
       "      <td>0.000238</td>\n",
       "      <td>0.287</td>\n",
       "      <td>135.995</td>\n",
       "      <td>That's my fucking brother right there, ya dig?...</td>\n",
       "      <td>Best Hip-Hop Playlist</td>\n",
       "      <td>NaN</td>\n",
       "      <td>That's my fucking brother right there, ya dig?...</td>\n",
       "    </tr>\n",
       "    <tr>\n",
       "      <th>3</th>\n",
       "      <td>3</td>\n",
       "      <td>Ric Flair Drip (with Metro Boomin)</td>\n",
       "      <td>7sO5G9EABYOXQKNPNiE9NR</td>\n",
       "      <td>82</td>\n",
       "      <td>Offset</td>\n",
       "      <td>Metro Boomin</td>\n",
       "      <td>Without Warning</td>\n",
       "      <td>4DdkRBBYG6Yk9Ka8tdJ9BW</td>\n",
       "      <td>0.880</td>\n",
       "      <td>0.428</td>\n",
       "      <td>...</td>\n",
       "      <td>1</td>\n",
       "      <td>0.206</td>\n",
       "      <td>0.1490</td>\n",
       "      <td>0.000051</td>\n",
       "      <td>0.333</td>\n",
       "      <td>100.007</td>\n",
       "      <td>Metro Boomin' want some more, nigga!. . Going ...</td>\n",
       "      <td>Best Hip-Hop Playlist</td>\n",
       "      <td>NaN</td>\n",
       "      <td>Metro Boomin' want some more, nigga!. . Going ...</td>\n",
       "    </tr>\n",
       "    <tr>\n",
       "      <th>4</th>\n",
       "      <td>4</td>\n",
       "      <td>Roll in Peace (feat. XXXTENTACION)</td>\n",
       "      <td>40oKW22ZNNkEdZLJTScaQI</td>\n",
       "      <td>74</td>\n",
       "      <td>Kodak Black</td>\n",
       "      <td>XXXTENTACION</td>\n",
       "      <td>Project Baby 2: All Grown Up</td>\n",
       "      <td>46SHBwWsqBkxI7EeeBEQG7</td>\n",
       "      <td>0.747</td>\n",
       "      <td>0.524</td>\n",
       "      <td>...</td>\n",
       "      <td>0</td>\n",
       "      <td>0.245</td>\n",
       "      <td>0.0306</td>\n",
       "      <td>0.000000</td>\n",
       "      <td>0.363</td>\n",
       "      <td>140.053</td>\n",
       "      <td>(We got London on the track!). These days, I d...</td>\n",
       "      <td>Best Hip-Hop Playlist</td>\n",
       "      <td>NaN</td>\n",
       "      <td>(We got London on the track!). These days, I d...</td>\n",
       "    </tr>\n",
       "  </tbody>\n",
       "</table>\n",
       "<p>5 rows × 22 columns</p>\n",
       "</div>"
      ],
      "text/plain": [
       "   index                          track_name                track_id  \\\n",
       "0      0  Codeine Dreaming (feat. Lil Wayne)  4DTpngLjoHj5gFxEZFeD3J   \n",
       "1      1                        Bank Account  2fQrGHiQOvpL9UgPvtYy6G   \n",
       "2      2       PICK IT UP (feat. A$AP Rocky)  3ncgNpxLoBQ65ABk4djDyd   \n",
       "3      3  Ric Flair Drip (with Metro Boomin)  7sO5G9EABYOXQKNPNiE9NR   \n",
       "4      4  Roll in Peace (feat. XXXTENTACION)  40oKW22ZNNkEdZLJTScaQI   \n",
       "\n",
       "   track_pop  artist_name featured_artist  \\\n",
       "0         66  Kodak Black       Lil Wayne   \n",
       "1         18    21 Savage            None   \n",
       "2         66   Famous Dex      A$AP Rocky   \n",
       "3         82       Offset    Metro Boomin   \n",
       "4         74  Kodak Black    XXXTENTACION   \n",
       "\n",
       "                                      album_name               artist_id  \\\n",
       "0  Project Baby 2: All Grown Up (Deluxe Edition)  46SHBwWsqBkxI7EeeBEQG7   \n",
       "1                                     Issa Album  1URnnhqYAYcrqrcwql10ft   \n",
       "2                  Pick It Up (feat. A$AP Rocky)  0WOxhx4hikIsyF3CRPLC8W   \n",
       "3                                Without Warning  4DdkRBBYG6Yk9Ka8tdJ9BW   \n",
       "4                   Project Baby 2: All Grown Up  46SHBwWsqBkxI7EeeBEQG7   \n",
       "\n",
       "   danceability  energy  ...  mode  speechiness  acousticness  \\\n",
       "0         0.736   0.604  ...     0        0.222        0.0652   \n",
       "1         0.884   0.347  ...     0        0.350        0.0150   \n",
       "2         0.921   0.467  ...     1        0.119        0.0149   \n",
       "3         0.880   0.428  ...     1        0.206        0.1490   \n",
       "4         0.747   0.524  ...     0        0.245        0.0306   \n",
       "\n",
       "   intrumentalness  valence    tempo  \\\n",
       "0         0.000064    0.574  155.007   \n",
       "1         0.000007    0.376   75.016   \n",
       "2         0.000238    0.287  135.995   \n",
       "3         0.000051    0.333  100.007   \n",
       "4         0.000000    0.363  140.053   \n",
       "\n",
       "                                        track_lyrics          playlist_name  \\\n",
       "0  Take that all the way up. I'm about to take of...  Best Hip-Hop Playlist   \n",
       "1  I tear down the mall with the bitch (for real)...  Best Hip-Hop Playlist   \n",
       "2  That's my fucking brother right there, ya dig?...  Best Hip-Hop Playlist   \n",
       "3  Metro Boomin' want some more, nigga!. . Going ...  Best Hip-Hop Playlist   \n",
       "4  (We got London on the track!). These days, I d...  Best Hip-Hop Playlist   \n",
       "\n",
       "  playlist_id                                             lyrics  \n",
       "0         NaN  Take that all the way up. I'm about to take of...  \n",
       "1         NaN  I tear down the mall with the bitch (for real)...  \n",
       "2         NaN  That's my fucking brother right there, ya dig?...  \n",
       "3         NaN  Metro Boomin' want some more, nigga!. . Going ...  \n",
       "4         NaN  (We got London on the track!). These days, I d...  \n",
       "\n",
       "[5 rows x 22 columns]"
      ]
     },
     "execution_count": 129,
     "metadata": {},
     "output_type": "execute_result"
    }
   ],
   "source": [
    "df.head()"
   ]
  },
  {
   "cell_type": "code",
   "execution_count": 130,
   "id": "f34854ed-3a48-4980-9017-e7cf76123689",
   "metadata": {},
   "outputs": [],
   "source": [
    "df.to_csv('datasets/checkpoint_lyrics.csv', index = False)"
   ]
  },
  {
   "cell_type": "code",
   "execution_count": 61,
   "id": "2501a9f4-1c3d-4412-b05e-3b1faedcec74",
   "metadata": {},
   "outputs": [],
   "source": [
    "#motivational = ['6Oer1XR6bNH6rMnbPxKzOV']"
   ]
  },
  {
   "cell_type": "code",
   "execution_count": 138,
   "id": "e1a94183-e604-4006-9056-97a1cde966ef",
   "metadata": {},
   "outputs": [],
   "source": [
    "#scrape_mult(motivational)"
   ]
  },
  {
   "cell_type": "code",
   "execution_count": 139,
   "id": "5524f706-c421-4872-8bee-9b260f6eeb84",
   "metadata": {},
   "outputs": [],
   "source": [
    "#df.shape"
   ]
  },
  {
   "cell_type": "code",
   "execution_count": null,
   "id": "74bf6e9e-ea99-406c-9023-7a62a6e7263f",
   "metadata": {},
   "outputs": [],
   "source": []
  },
  {
   "cell_type": "code",
   "execution_count": 135,
   "id": "10ef077c-e276-46e7-9502-3f17ffa8e4be",
   "metadata": {},
   "outputs": [],
   "source": [
    "#snow = ['4sEKPcBYLcW3woDviiaigj']"
   ]
  },
  {
   "cell_type": "code",
   "execution_count": 136,
   "id": "33968899-fa4f-4210-a8e2-2712bb8307c8",
   "metadata": {},
   "outputs": [],
   "source": [
    "#scrape_mult(snow)"
   ]
  },
  {
   "cell_type": "code",
   "execution_count": 137,
   "id": "4bdad5f9-583a-452d-a45e-539ef6bdfe80",
   "metadata": {},
   "outputs": [],
   "source": [
    "#df[df['playlist_id'] == '4sEKPcBYLcW3woDviiaigj']"
   ]
  },
  {
   "cell_type": "markdown",
   "id": "50ce52f2-0fb3-45fe-a369-4421c3dab261",
   "metadata": {},
   "source": [
    "I was able to increase the number of lyrics scaped by changing redirect max limits. For now, I am moving on to the recommender system and will tackle sentiment analysis later."
   ]
  },
  {
   "cell_type": "code",
   "execution_count": null,
   "id": "f117d72a-16cb-4297-baf8-e8878daff090",
   "metadata": {},
   "outputs": [],
   "source": []
  }
 ],
 "metadata": {
  "kernelspec": {
   "display_name": "Python 3 (ipykernel)",
   "language": "python",
   "name": "python3"
  },
  "language_info": {
   "codemirror_mode": {
    "name": "ipython",
    "version": 3
   },
   "file_extension": ".py",
   "mimetype": "text/x-python",
   "name": "python",
   "nbconvert_exporter": "python",
   "pygments_lexer": "ipython3",
   "version": "3.9.12"
  }
 },
 "nbformat": 4,
 "nbformat_minor": 5
}
